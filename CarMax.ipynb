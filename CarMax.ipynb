{
 "cells": [
  {
   "cell_type": "markdown",
   "metadata": {},
   "source": [
    "# Carmax Analytics Competition "
   ]
  },
  {
   "cell_type": "code",
   "execution_count": 4,
   "metadata": {},
   "outputs": [],
   "source": [
    "import pandas as pd\n",
    "import random\n",
    "import matplotlib.pyplot as plt\n",
    "%matplotlib inline\n",
    "import seaborn as sns\n",
    "import numpy as np\n",
    "from bisect import bisect_right "
   ]
  },
  {
   "cell_type": "code",
   "execution_count": 5,
   "metadata": {},
   "outputs": [],
   "source": [
    "df = pd.read_csv(\"CaseCompetitionData2021.csv\") \n",
    "df2 = pd.read_excel(\"national_M2019_dl.xlsx\")"
   ]
  },
  {
   "cell_type": "code",
   "execution_count": 6,
   "metadata": {},
   "outputs": [
    {
     "data": {
      "text/plain": [
       "<bound method NDFrame.describe of         insert_num  purchase_make    purchase_model  purchase_vehicle_year  \\\n",
       "0            81690          DODGE           CHARGER                   2012   \n",
       "1           109994           FORD              F150                   2007   \n",
       "2            11399            BMW               328                   2010   \n",
       "3           214156          LEXUS            GS 300                   2003   \n",
       "4            36685      CHEVROLET             CRUZE                   2012   \n",
       "5           256143         NISSAN            ALTIMA                   2009   \n",
       "6           267746         NISSAN          FRONTIER                   2012   \n",
       "7           275862         NISSAN        PATHFINDER                   2014   \n",
       "8           101409           FORD            ESCAPE                   2010   \n",
       "9           126695           FORD            FUSION                   2012   \n",
       "10          281429         NISSAN            SENTRA                   2009   \n",
       "11          286996         NISSAN             VERSA                   2011   \n",
       "12           87257          DODGE           JOURNEY                   2010   \n",
       "13          242460  MERCEDES-BENZ            GLK350                   2012   \n",
       "14          202553            KIA             FORTE                   2011   \n",
       "15          247558           MINI            COOPER                   2009   \n",
       "16           73105       CHRYSLER  TOWN AND COUNTRY                   2012   \n",
       "17          109525           FORD              F150                   2006   \n",
       "18          317849         TOYOTA           COROLLA                   2009   \n",
       "19          121128           FORD             FOCUS                   2012   \n",
       "20           39234      CHEVROLET           EQUINOX                   2013   \n",
       "21          295112         SATURN               ION                   2006   \n",
       "22           36216      CHEVROLET             CRUZE                   2012   \n",
       "23          269826         NISSAN            MAXIMA                   2010   \n",
       "24          340117         TOYOTA            TUNDRA                   2009   \n",
       "25          286527         NISSAN             VERSA                   2009   \n",
       "26           41783      CHEVROLET            IMPALA                   2009   \n",
       "27          303228         SUZUKI               SX4                   2012   \n",
       "28           58484      CHEVROLET               SSR                   2004   \n",
       "29           78203          DODGE           CALIBER                   2010   \n",
       "...            ...            ...               ...                    ...   \n",
       "355844      249842     MITSUBISHI           ECLIPSE                   2009   \n",
       "355845       63786      CHEVROLET          TRAVERSE                   2012   \n",
       "355846      119660           FORD             FOCUS                   2010   \n",
       "355847      170497        HYUNDAI           ELANTRA                   2008   \n",
       "355848      185118       INFINITI               G35                   2008   \n",
       "355849      193234           JEEP    GRAND CHEROKEE                   2011   \n",
       "355850      209670            KIA              SOUL                   2012   \n",
       "355851      198801           JEEP           PATRIOT                   2012   \n",
       "355852      334285         TOYOTA            SIENNA                   2007   \n",
       "355853       18781            BMW                Z4                   2011   \n",
       "355854      122678           FORD             FOCUS                   2013   \n",
       "355855      269092         NISSAN            MAXIMA                   2009   \n",
       "355856       38500      CHEVROLET           EQUINOX                   2011   \n",
       "355857      325435         TOYOTA            MATRIX                   2009   \n",
       "355858      134077           FORD            TAURUS                   2011   \n",
       "355859      336834         TOYOTA            TACOMA                   2007   \n",
       "355860      179286        HYUNDAI            SONATA                   2011   \n",
       "355861      212953          LEXUS            ES 350                   2007   \n",
       "355862       33137      CHEVROLET            COBALT                   2009   \n",
       "355863      291829        PONTIAC                G6                   2007   \n",
       "355864      142866          HONDA            ACCORD                   2007   \n",
       "355865      202023            KIA             FORTE                   2010   \n",
       "355866      332409         TOYOTA              RAV4                   2011   \n",
       "355867      132670           FORD            RANGER                   2010   \n",
       "355868      324762         TOYOTA        HIGHLANDER                   2013   \n",
       "355869      195314           JEEP           LIBERTY                   2010   \n",
       "355870       58219      CHEVROLET             SONIC                   2012   \n",
       "355871      207386            KIA           SORENTO                   2012   \n",
       "355872      252391         NISSAN              350Z                   2003   \n",
       "355873       52652      CHEVROLET            MALIBU                   2012   \n",
       "\n",
       "       purchase_price  trade_in  vehicle_financing customer_age  \\\n",
       "0       15001 - 20000         1                  1      21 - 30   \n",
       "1       15001 - 20000         0                  0      51 - 60   \n",
       "2       25001 - 30000         1                  1      41 - 50   \n",
       "3       10001 - 15000         0                  1      21 - 30   \n",
       "4       15001 - 20000         1                  1      31 - 40   \n",
       "5       15001 - 20000         1                  1      21 - 30   \n",
       "6       20001 - 25000         0                  1      21 - 30   \n",
       "7       35001 - 40000         1                  1      61 - 70   \n",
       "8       15001 - 20000         1                  1      41 - 50   \n",
       "9       15001 - 20000         0                  1      51 - 60   \n",
       "10      10001 - 15000         0                  1      61 - 70   \n",
       "11      10001 - 15000         0                  0       0 - 20   \n",
       "12      15001 - 20000         1                  1      31 - 40   \n",
       "13      30001 - 35000         0                  0      61 - 70   \n",
       "14      10001 - 15000         1                  0      61 - 70   \n",
       "15      10001 - 15000         1                  1      21 - 30   \n",
       "16      20001 - 25000         1                  1      41 - 50   \n",
       "17      15001 - 20000         0                  1      21 - 30   \n",
       "18      15001 - 20000         1                  1      31 - 40   \n",
       "19      10001 - 15000         1                  1      31 - 40   \n",
       "20      20001 - 25000         1                  1      21 - 30   \n",
       "21      10001 - 15000         1                  1      41 - 50   \n",
       "22      15001 - 20000         0                  1      21 - 30   \n",
       "23      20001 - 25000         0                  1      31 - 40   \n",
       "24      20001 - 25000         1                  1      31 - 40   \n",
       "25      10001 - 15000         1                  1      51 - 60   \n",
       "26      10001 - 15000         0                  1      31 - 40   \n",
       "27      10001 - 15000         0                  1      31 - 40   \n",
       "28      15001 - 20000         1                  1      21 - 30   \n",
       "29      10001 - 15000         0                  1      51 - 60   \n",
       "...               ...       ...                ...          ...   \n",
       "355844  15001 - 20000         0                  1      41 - 50   \n",
       "355845  20001 - 25000         0                  1      51 - 60   \n",
       "355846  10001 - 15000         1                  0      21 - 30   \n",
       "355847  10001 - 15000         0                  1      51 - 60   \n",
       "355848  20001 - 25000         0                  1      21 - 30   \n",
       "355849  30001 - 35000         0                  0      61 - 70   \n",
       "355850  15001 - 20000         0                  1      61 - 70   \n",
       "355851  15001 - 20000         1                  1      61 - 70   \n",
       "355852  10001 - 15000         1                  1      41 - 50   \n",
       "355853  35001 - 40000         1                  1      31 - 40   \n",
       "355854  20001 - 25000         1                  1      31 - 40   \n",
       "355855  20001 - 25000         0                  1      21 - 30   \n",
       "355856  25001 - 30000         0                  1      41 - 50   \n",
       "355857  10001 - 15000         0                  0      21 - 30   \n",
       "355858  15001 - 20000         0                  1      31 - 40   \n",
       "355859  15001 - 20000         0                  1      21 - 30   \n",
       "355860  20001 - 25000         1                  0      41 - 50   \n",
       "355861  15001 - 20000         1                  0      31 - 40   \n",
       "355862  10001 - 15000         0                  1      51 - 60   \n",
       "355863  10001 - 15000         1                  1      21 - 30   \n",
       "355864  15001 - 20000         0                  1      21 - 30   \n",
       "355865  10001 - 15000         0                  1       0 - 20   \n",
       "355866  20001 - 25000         1                  1      51 - 60   \n",
       "355867  10001 - 15000         0                  0      21 - 30   \n",
       "355868  35001 - 40000         0                  1      41 - 50   \n",
       "355869  15001 - 20000         0                  1      21 - 30   \n",
       "355870  10001 - 15000         1                  0      71 - 80   \n",
       "355871  15001 - 20000         1                  1      61 - 70   \n",
       "355872  10001 - 15000         0                  1      21 - 30   \n",
       "355873  15001 - 20000         1                  1      31 - 40   \n",
       "\n",
       "        customer_income customer_gender  customer_previous_purchase  \\\n",
       "0         40001 - 60000               U                           0   \n",
       "1             0 - 20000               F                           1   \n",
       "2         60001 - 80000               F                           1   \n",
       "3         20001 - 40000               M                           0   \n",
       "4       120001 - 140000               M                           1   \n",
       "5         60001 - 80000               U                           0   \n",
       "6         20001 - 40000               M                           0   \n",
       "7        80001 - 100000               M                           0   \n",
       "8         40001 - 60000               U                           1   \n",
       "9       140001 - 160000               M                           0   \n",
       "10        20001 - 40000               U                           0   \n",
       "11                    ?               F                           0   \n",
       "12        20001 - 40000               U                           0   \n",
       "13                    ?               F                           0   \n",
       "14                    ?               M                           0   \n",
       "15      100001 - 120000               M                           0   \n",
       "16        60001 - 80000               F                           0   \n",
       "17        40001 - 60000               U                           0   \n",
       "18        60001 - 80000               F                           1   \n",
       "19       80001 - 100000               M                           1   \n",
       "20        60001 - 80000               M                           1   \n",
       "21        20001 - 40000               U                           0   \n",
       "22        40001 - 60000               F                           0   \n",
       "23        20001 - 40000               F                           0   \n",
       "24        60001 - 80000               M                           0   \n",
       "25        40001 - 60000               F                           0   \n",
       "26        20001 - 40000               M                           0   \n",
       "27        40001 - 60000               M                           1   \n",
       "28        40001 - 60000               F                           0   \n",
       "29            0 - 20000               M                           0   \n",
       "...                 ...             ...                         ...   \n",
       "355844   80001 - 100000               M                           0   \n",
       "355845   80001 - 100000               M                           0   \n",
       "355846    20001 - 40000               F                           0   \n",
       "355847    40001 - 60000               F                           1   \n",
       "355848    60001 - 80000               M                           0   \n",
       "355849        0 - 20000               M                           1   \n",
       "355850    20001 - 40000               F                           0   \n",
       "355851        0 - 20000               M                           1   \n",
       "355852    20001 - 40000               F                           0   \n",
       "355853  100001 - 120000               U                           1   \n",
       "355854  100001 - 120000               M                           1   \n",
       "355855    60001 - 80000               M                           0   \n",
       "355856  140001 - 160000               U                           1   \n",
       "355857                ?               U                           0   \n",
       "355858    20001 - 40000               M                           0   \n",
       "355859    20001 - 40000               M                           0   \n",
       "355860                ?               M                           0   \n",
       "355861                ?               M                           1   \n",
       "355862    40001 - 60000               U                           0   \n",
       "355863    20001 - 40000               M                           0   \n",
       "355864    20001 - 40000               F                           0   \n",
       "355865    20001 - 40000               F                           0   \n",
       "355866    40001 - 60000               F                           1   \n",
       "355867                ?               U                           0   \n",
       "355868  100001 - 120000               M                           0   \n",
       "355869    20001 - 40000               F                           0   \n",
       "355870                ?               U                           0   \n",
       "355871    20001 - 40000               F                           1   \n",
       "355872    40001 - 60000               M                           0   \n",
       "355873                ?               M                           0   \n",
       "\n",
       "       customer_distance_to_dealer post_purchase_satisfaction  \\\n",
       "0                                8                          ?   \n",
       "1                               19                          ?   \n",
       "2                               21                          ?   \n",
       "3                                8                          ?   \n",
       "4                                5                          ?   \n",
       "5                                2                          ?   \n",
       "6                                8                          ?   \n",
       "7                                5                          ?   \n",
       "8                               14                          ?   \n",
       "9                               11                          ?   \n",
       "10                               ?                          ?   \n",
       "11                              58                          ?   \n",
       "12                               2                          ?   \n",
       "13                              13                          ?   \n",
       "14                               9                          ?   \n",
       "15                              14                          ?   \n",
       "16                              14                          ?   \n",
       "17                              22                          ?   \n",
       "18                              24                          ?   \n",
       "19                               7                          ?   \n",
       "20                               7                          ?   \n",
       "21                               5                          ?   \n",
       "22                               6                          ?   \n",
       "23                               4                          ?   \n",
       "24                              11                          ?   \n",
       "25                               2                          ?   \n",
       "26                               5                          ?   \n",
       "27                               2                          ?   \n",
       "28                               3                          ?   \n",
       "29                               7                          ?   \n",
       "...                            ...                        ...   \n",
       "355844                           4                          ?   \n",
       "355845                           5                          ?   \n",
       "355846                           ?                          ?   \n",
       "355847                          10                          ?   \n",
       "355848                          12                          ?   \n",
       "355849                           ?                          ?   \n",
       "355850                           9                          ?   \n",
       "355851                           4                          ?   \n",
       "355852                           2                          ?   \n",
       "355853                           8                          ?   \n",
       "355854                           4                          ?   \n",
       "355855                          37                          ?   \n",
       "355856                          16                          ?   \n",
       "355857                           2                          ?   \n",
       "355858                          14                          ?   \n",
       "355859                          18                          ?   \n",
       "355860                           7                          ?   \n",
       "355861                           6                          ?   \n",
       "355862                           3                          ?   \n",
       "355863                           4                          ?   \n",
       "355864                          12                          ?   \n",
       "355865                           4                          ?   \n",
       "355866                           3                          ?   \n",
       "355867                          55                          ?   \n",
       "355868                          14                          ?   \n",
       "355869                          13                          ?   \n",
       "355870                           2                          ?   \n",
       "355871                           9                          ?   \n",
       "355872                           5                          ?   \n",
       "355873                           9                          ?   \n",
       "\n",
       "        vehicle_warranty_used  subsequent_purchases  \n",
       "0                           0                     1  \n",
       "1                           0                     0  \n",
       "2                           0                     0  \n",
       "3                           0                     0  \n",
       "4                           1                     1  \n",
       "5                           1                     1  \n",
       "6                           0                     1  \n",
       "7                           0                     0  \n",
       "8                           1                     0  \n",
       "9                           0                     1  \n",
       "10                          0                     1  \n",
       "11                          0                     1  \n",
       "12                          1                     0  \n",
       "13                          0                     1  \n",
       "14                          0                     0  \n",
       "15                          0                     1  \n",
       "16                          0                     1  \n",
       "17                          1                     0  \n",
       "18                          0                     0  \n",
       "19                          0                     0  \n",
       "20                          0                     0  \n",
       "21                          1                     0  \n",
       "22                          0                     0  \n",
       "23                          1                     0  \n",
       "24                          0                     6  \n",
       "25                          0                     1  \n",
       "26                          1                     0  \n",
       "27                          1                     0  \n",
       "28                          0                     0  \n",
       "29                          1                     0  \n",
       "...                       ...                   ...  \n",
       "355844                      1                     0  \n",
       "355845                      0                     1  \n",
       "355846                      0                     1  \n",
       "355847                      0                    10  \n",
       "355848                      0                     5  \n",
       "355849                      0                     1  \n",
       "355850                      0                     0  \n",
       "355851                      0                     0  \n",
       "355852                      1                     1  \n",
       "355853                      0                     0  \n",
       "355854                      0                     2  \n",
       "355855                      0                     1  \n",
       "355856                      0                     0  \n",
       "355857                      0                     0  \n",
       "355858                      0                     1  \n",
       "355859                      0                     0  \n",
       "355860                      0                     1  \n",
       "355861                      0                     2  \n",
       "355862                      0                     1  \n",
       "355863                      0                     0  \n",
       "355864                      0                     0  \n",
       "355865                      1                     1  \n",
       "355866                      0                     0  \n",
       "355867                      0                     1  \n",
       "355868                      0                     4  \n",
       "355869                      0                     0  \n",
       "355870                      0                     0  \n",
       "355871                      0                     1  \n",
       "355872                      0                     0  \n",
       "355873                      0                     0  \n",
       "\n",
       "[355874 rows x 15 columns]>"
      ]
     },
     "execution_count": 6,
     "metadata": {},
     "output_type": "execute_result"
    }
   ],
   "source": [
    "df.describe"
   ]
  },
  {
   "cell_type": "code",
   "execution_count": 7,
   "metadata": {},
   "outputs": [
    {
     "name": "stdout",
     "output_type": "stream",
     "text": [
      "insert_num                      int64\n",
      "purchase_make                  object\n",
      "purchase_model                 object\n",
      "purchase_vehicle_year           int64\n",
      "purchase_price                 object\n",
      "trade_in                        int64\n",
      "vehicle_financing               int64\n",
      "customer_age                   object\n",
      "customer_income                object\n",
      "customer_gender                object\n",
      "customer_previous_purchase      int64\n",
      "customer_distance_to_dealer    object\n",
      "post_purchase_satisfaction     object\n",
      "vehicle_warranty_used           int64\n",
      "subsequent_purchases            int64\n",
      "dtype: object\n"
     ]
    }
   ],
   "source": [
    "print(df.dtypes)"
   ]
  },
  {
   "cell_type": "markdown",
   "metadata": {},
   "source": [
    "## Create Unique variables "
   ]
  },
  {
   "cell_type": "code",
   "execution_count": 8,
   "metadata": {},
   "outputs": [],
   "source": [
    "jobs = df2['occ_title']\n",
    "median_salary = df2['a_median']\n",
    "annual_bottom = df2['a_pct10']\n",
    "cust_income = df['customer_income']\n",
    "cust_age = df['customer_age']\n",
    "vehicle_cost = df['purchase_price']\n",
    "distance = df['customer_distance_to_dealer']\n",
    "gender = df['customer_gender']\n",
    "\n"
   ]
  },
  {
   "cell_type": "markdown",
   "metadata": {},
   "source": [
    "## Cleaning up distance to dealership"
   ]
  },
  {
   "cell_type": "code",
   "execution_count": 9,
   "metadata": {},
   "outputs": [
    {
     "data": {
      "text/plain": [
       "[0.8784261702656881,\n",
       " 0.07884015541597217,\n",
       " 0.022817786494592176,\n",
       " 0.009000174399821597,\n",
       " 0.009551963999302401,\n",
       " 0.0004031208991025557,\n",
       " 0.0009606285255209838]"
      ]
     },
     "execution_count": 9,
     "metadata": {},
     "output_type": "execute_result"
    }
   ],
   "source": [
    "distance_bin = [25,50,75,100,250,500,9999]\n",
    "distance_total = [0]*len(distance_bin)\n",
    "\n",
    "total = 0\n",
    "no_distance = 0\n",
    "new_distances = [] \n",
    "for i in range(len(distance)):\n",
    "    try:\n",
    "        if distance[i] == \"?\":\n",
    "            no_distance += 1\n",
    "            continue\n",
    "        slot = bisect_right(distance_bin,int(distance[i]))\n",
    "    except:\n",
    "        print(i,distance[i])\n",
    "        raise\n",
    "    total += 1\n",
    "    distance_total[slot] += 1\n",
    "    new_distances.append(slot) \n",
    "for i in range(len(distance_total)):\n",
    "    distance_total[i] = float(distance_total[i]* 1.0 /total)\n",
    "distance_total\n",
    "\n",
    "\n",
    "                           \n"
   ]
  },
  {
   "cell_type": "code",
   "execution_count": 17,
   "metadata": {},
   "outputs": [],
   "source": [
    "# Using choice() method \n",
    "pick1 = np.random.choice(len(distance_total), no_distance, p = distance_total) \n",
    "\n",
    "new_place = []\n",
    "count = 0 \n",
    "for i in range(len(distance)):\n",
    "    if distance[i] == '?':\n",
    "        val = pick1[count] \n",
    "        count += 1\n",
    "        #x = random.randint(0,len(income_ranges)- 1)\n",
    "        new_place.append(distance_bin[val] )\n",
    "    else:\n",
    "        new_place.append(distance_bin[bisect_right(distance_bin,int(distance[i]))])\n",
    "\n",
    "        \n",
    "df['new_place']= new_place\n",
    "\n"
   ]
  },
  {
   "cell_type": "code",
   "execution_count": 18,
   "metadata": {},
   "outputs": [
    {
     "data": {
      "image/png": "[encoded data removed]",
      "text/plain": [
       "<Figure size 1080x576 with 1 Axes>"
      ]
     },
     "metadata": {},
     "output_type": "display_data"
    }
   ],
   "source": [
    "fig, ax = plt.subplots()\n",
    "ax.hist(new_distances, color = 'g',bins = 20)\n",
    "\n",
    "fig.suptitle('Count of Distance Traveled to Dealership')\n",
    "fig.set_size_inches(15,8)\n",
    "\n",
    "ax.xaxis.set_label_text('Distance Ranges')\n",
    "ax.xaxis.set_tick_params(which = 'both', top = False, bottom = True, labelbottom = True)  # Turn top x axis tick marks off \n",
    "\n",
    "ax.yaxis.set_label_text('Total Distance Traveled Range Totals')\n",
    "ax.yaxis.set_tick_params(which = 'both', right = False, left = True, labelleft = True)   # Turn right y axis tick marks off\n",
    "\n",
    "\n",
    "plt.style.use('ggplot')\n",
    "ax.set_xlim(0,10)\n",
    "ax.set_ylim(0,140000)\n",
    "ax.spines['right'].set_visible(False)\n",
    "ax.spines['top'].set_visible(False)\n",
    "ax.grid(False)"
   ]
  },
  {
   "cell_type": "markdown",
   "metadata": {},
   "source": [
    "## Cleaning up Vehicle Purchase Price "
   ]
  },
  {
   "cell_type": "code",
   "execution_count": 19,
   "metadata": {},
   "outputs": [
    {
     "data": {
      "text/plain": [
       "[(5001, 10000),\n",
       " (10001, 15000),\n",
       " (15001, 20000),\n",
       " (20001, 25000),\n",
       " (25001, 30000),\n",
       " (30001, 35000),\n",
       " (35001, 40000),\n",
       " (40001, 45000),\n",
       " (45001, 50000),\n",
       " (50001, 55000),\n",
       " (55001, 60000),\n",
       " (60001, 65000),\n",
       " (65001, 70000),\n",
       " (70001, 75000),\n",
       " (75001, 80000),\n",
       " (80001, 85000),\n",
       " (85001, 90000),\n",
       " (90001, 95000)]"
      ]
     },
     "execution_count": 19,
     "metadata": {},
     "output_type": "execute_result"
    }
   ],
   "source": [
    "new_purchase_prices = set()\n",
    "no_vehicle_count = 0\n",
    "for num in vehicle_cost:\n",
    "    if num == '?':\n",
    "        no_vehicle_count += 1\n",
    "        continue\n",
    "    parts1 = num.split(\"-\")\n",
    "    if len(parts1) == 2:\n",
    "        new_purchase_prices.add((int(parts1[0]),int(parts1[1])))\n",
    "    else:\n",
    "        new_purchase_prices.add((int(parts1[0][:-1])))\n",
    "new_purchase_prices= list(new_purchase_prices)\n",
    "new_purchase_prices.sort()\n",
    "\n",
    "new_purchase_prices"
   ]
  },
  {
   "cell_type": "code",
   "execution_count": 20,
   "metadata": {},
   "outputs": [],
   "source": [
    "# Using choice() method \n",
    "probs1 = [0.025599164,0.284310888,0.332154067,0.186418674,0.090847526,0.042894757,0.020431561,0.008601431,0.004425761,0.001910805,0.001048133,0.000584481,0.000382161,0.00017984,0.0001124,3.93401E-05,4.77701E-05,1.124E-05]\n",
    "Car_purchase = np.random.choice(len(probs1), no_vehicle_count, p = probs1) \n",
    "\n",
    "new_purchase = []\n",
    "high_purchase = []\n",
    "count = 0 \n",
    "for i in range(len(vehicle_cost)):\n",
    "    if vehicle_cost[i] == '?':\n",
    "        val = Car_purchase[count] \n",
    "        count += 1\n",
    "        #x = random.randint(0,len(income_ranges)- 1)\n",
    "        high_purchase.append(new_purchase_prices[val][1]) \n",
    "        new_purchase.append( '%d - %d'%(new_purchase_prices[val][0],new_purchase_prices[val][1]) )\n",
    "    else:\n",
    "        new_purchase.append(vehicle_cost[i])\n",
    "        high_purchase.append(int(vehicle_cost[i].split(\"-\")[1]))\n",
    "\n",
    "df['new_purchase']= new_purchase\n",
    "df['high_purchase'] = high_purchase\n",
    "\n",
    "\n",
    "\n",
    "\n"
   ]
  },
  {
   "cell_type": "code",
   "execution_count": null,
   "metadata": {},
   "outputs": [
    {
     "ename": "KeyboardInterrupt",
     "evalue": "",
     "output_type": "error",
     "traceback": [
      "\u001b[0;31m---------------------------------------------------------------------------\u001b[0m",
      "\u001b[0;31mKeyboardInterrupt\u001b[0m                         Traceback (most recent call last)",
      "\u001b[0;32m<ipython-input-22-cd996ed69754>\u001b[0m in \u001b[0;36m<module>\u001b[0;34m\u001b[0m\n\u001b[1;32m      1\u001b[0m \u001b[0mfig\u001b[0m\u001b[0;34m,\u001b[0m \u001b[0max\u001b[0m \u001b[0;34m=\u001b[0m \u001b[0mplt\u001b[0m\u001b[0;34m.\u001b[0m\u001b[0msubplots\u001b[0m\u001b[0;34m(\u001b[0m\u001b[0;34m)\u001b[0m\u001b[0;34m\u001b[0m\u001b[0;34m\u001b[0m\u001b[0m\n\u001b[0;32m----> 2\u001b[0;31m \u001b[0max\u001b[0m\u001b[0;34m.\u001b[0m\u001b[0mhist\u001b[0m\u001b[0;34m(\u001b[0m\u001b[0mdf\u001b[0m\u001b[0;34m[\u001b[0m\u001b[0;34m'new_purchase'\u001b[0m\u001b[0;34m]\u001b[0m\u001b[0;34m,\u001b[0m\u001b[0mbins\u001b[0m \u001b[0;34m=\u001b[0m \u001b[0;36m40\u001b[0m\u001b[0;34m)\u001b[0m\u001b[0;34m\u001b[0m\u001b[0;34m\u001b[0m\u001b[0m\n\u001b[0m\u001b[1;32m      3\u001b[0m \u001b[0;34m\u001b[0m\u001b[0m\n\u001b[1;32m      4\u001b[0m \u001b[0mfig\u001b[0m\u001b[0;34m.\u001b[0m\u001b[0msuptitle\u001b[0m\u001b[0;34m(\u001b[0m\u001b[0;34m'Count of Vehicle Purchase Ranges'\u001b[0m\u001b[0;34m)\u001b[0m\u001b[0;34m\u001b[0m\u001b[0;34m\u001b[0m\u001b[0m\n\u001b[1;32m      5\u001b[0m \u001b[0mfig\u001b[0m\u001b[0;34m.\u001b[0m\u001b[0mset_size_inches\u001b[0m\u001b[0;34m(\u001b[0m\u001b[0;36m15\u001b[0m\u001b[0;34m,\u001b[0m\u001b[0;36m8\u001b[0m\u001b[0;34m)\u001b[0m\u001b[0;34m\u001b[0m\u001b[0;34m\u001b[0m\u001b[0m\n",
      "\u001b[0;32m~/anaconda3/lib/python3.7/site-packages/matplotlib/__init__.py\u001b[0m in \u001b[0;36minner\u001b[0;34m(ax, data, *args, **kwargs)\u001b[0m\n\u001b[1;32m   1587\u001b[0m     \u001b[0;32mdef\u001b[0m \u001b[0minner\u001b[0m\u001b[0;34m(\u001b[0m\u001b[0max\u001b[0m\u001b[0;34m,\u001b[0m \u001b[0;34m*\u001b[0m\u001b[0margs\u001b[0m\u001b[0;34m,\u001b[0m \u001b[0mdata\u001b[0m\u001b[0;34m=\u001b[0m\u001b[0;32mNone\u001b[0m\u001b[0;34m,\u001b[0m \u001b[0;34m**\u001b[0m\u001b[0mkwargs\u001b[0m\u001b[0;34m)\u001b[0m\u001b[0;34m:\u001b[0m\u001b[0;34m\u001b[0m\u001b[0;34m\u001b[0m\u001b[0m\n\u001b[1;32m   1588\u001b[0m         \u001b[0;32mif\u001b[0m \u001b[0mdata\u001b[0m \u001b[0;32mis\u001b[0m \u001b[0;32mNone\u001b[0m\u001b[0;34m:\u001b[0m\u001b[0;34m\u001b[0m\u001b[0;34m\u001b[0m\u001b[0m\n\u001b[0;32m-> 1589\u001b[0;31m             \u001b[0;32mreturn\u001b[0m \u001b[0mfunc\u001b[0m\u001b[0;34m(\u001b[0m\u001b[0max\u001b[0m\u001b[0;34m,\u001b[0m \u001b[0;34m*\u001b[0m\u001b[0mmap\u001b[0m\u001b[0;34m(\u001b[0m\u001b[0msanitize_sequence\u001b[0m\u001b[0;34m,\u001b[0m \u001b[0margs\u001b[0m\u001b[0;34m)\u001b[0m\u001b[0;34m,\u001b[0m \u001b[0;34m**\u001b[0m\u001b[0mkwargs\u001b[0m\u001b[0;34m)\u001b[0m\u001b[0;34m\u001b[0m\u001b[0;34m\u001b[0m\u001b[0m\n\u001b[0m\u001b[1;32m   1590\u001b[0m \u001b[0;34m\u001b[0m\u001b[0m\n\u001b[1;32m   1591\u001b[0m         \u001b[0mbound\u001b[0m \u001b[0;34m=\u001b[0m \u001b[0mnew_sig\u001b[0m\u001b[0;34m.\u001b[0m\u001b[0mbind\u001b[0m\u001b[0;34m(\u001b[0m\u001b[0max\u001b[0m\u001b[0;34m,\u001b[0m \u001b[0;34m*\u001b[0m\u001b[0margs\u001b[0m\u001b[0;34m,\u001b[0m \u001b[0;34m**\u001b[0m\u001b[0mkwargs\u001b[0m\u001b[0;34m)\u001b[0m\u001b[0;34m\u001b[0m\u001b[0;34m\u001b[0m\u001b[0m\n",
      "\u001b[0;32m~/anaconda3/lib/python3.7/site-packages/matplotlib/axes/_axes.py\u001b[0m in \u001b[0;36mhist\u001b[0;34m(self, x, bins, range, density, weights, cumulative, bottom, histtype, align, orientation, rwidth, log, color, label, stacked, normed, **kwargs)\u001b[0m\n\u001b[1;32m   6827\u001b[0m                 patch = _barfunc(bins[:-1]+boffset, height, width,\n\u001b[1;32m   6828\u001b[0m                                  \u001b[0malign\u001b[0m\u001b[0;34m=\u001b[0m\u001b[0;34m'center'\u001b[0m\u001b[0;34m,\u001b[0m \u001b[0mlog\u001b[0m\u001b[0;34m=\u001b[0m\u001b[0mlog\u001b[0m\u001b[0;34m,\u001b[0m\u001b[0;34m\u001b[0m\u001b[0;34m\u001b[0m\u001b[0m\n\u001b[0;32m-> 6829\u001b[0;31m                                  color=c, **{bottom_kwarg: bottom})\n\u001b[0m\u001b[1;32m   6830\u001b[0m                 \u001b[0mpatches\u001b[0m\u001b[0;34m.\u001b[0m\u001b[0mappend\u001b[0m\u001b[0;34m(\u001b[0m\u001b[0mpatch\u001b[0m\u001b[0;34m)\u001b[0m\u001b[0;34m\u001b[0m\u001b[0;34m\u001b[0m\u001b[0m\n\u001b[1;32m   6831\u001b[0m                 \u001b[0;32mif\u001b[0m \u001b[0mstacked\u001b[0m\u001b[0;34m:\u001b[0m\u001b[0;34m\u001b[0m\u001b[0;34m\u001b[0m\u001b[0m\n",
      "\u001b[0;32m~/anaconda3/lib/python3.7/site-packages/matplotlib/__init__.py\u001b[0m in \u001b[0;36minner\u001b[0;34m(ax, data, *args, **kwargs)\u001b[0m\n\u001b[1;32m   1587\u001b[0m     \u001b[0;32mdef\u001b[0m \u001b[0minner\u001b[0m\u001b[0;34m(\u001b[0m\u001b[0max\u001b[0m\u001b[0;34m,\u001b[0m \u001b[0;34m*\u001b[0m\u001b[0margs\u001b[0m\u001b[0;34m,\u001b[0m \u001b[0mdata\u001b[0m\u001b[0;34m=\u001b[0m\u001b[0;32mNone\u001b[0m\u001b[0;34m,\u001b[0m \u001b[0;34m**\u001b[0m\u001b[0mkwargs\u001b[0m\u001b[0;34m)\u001b[0m\u001b[0;34m:\u001b[0m\u001b[0;34m\u001b[0m\u001b[0;34m\u001b[0m\u001b[0m\n\u001b[1;32m   1588\u001b[0m         \u001b[0;32mif\u001b[0m \u001b[0mdata\u001b[0m \u001b[0;32mis\u001b[0m \u001b[0;32mNone\u001b[0m\u001b[0;34m:\u001b[0m\u001b[0;34m\u001b[0m\u001b[0;34m\u001b[0m\u001b[0m\n\u001b[0;32m-> 1589\u001b[0;31m             \u001b[0;32mreturn\u001b[0m \u001b[0mfunc\u001b[0m\u001b[0;34m(\u001b[0m\u001b[0max\u001b[0m\u001b[0;34m,\u001b[0m \u001b[0;34m*\u001b[0m\u001b[0mmap\u001b[0m\u001b[0;34m(\u001b[0m\u001b[0msanitize_sequence\u001b[0m\u001b[0;34m,\u001b[0m \u001b[0margs\u001b[0m\u001b[0;34m)\u001b[0m\u001b[0;34m,\u001b[0m \u001b[0;34m**\u001b[0m\u001b[0mkwargs\u001b[0m\u001b[0;34m)\u001b[0m\u001b[0;34m\u001b[0m\u001b[0;34m\u001b[0m\u001b[0m\n\u001b[0m\u001b[1;32m   1590\u001b[0m \u001b[0;34m\u001b[0m\u001b[0m\n\u001b[1;32m   1591\u001b[0m         \u001b[0mbound\u001b[0m \u001b[0;34m=\u001b[0m \u001b[0mnew_sig\u001b[0m\u001b[0;34m.\u001b[0m\u001b[0mbind\u001b[0m\u001b[0;34m(\u001b[0m\u001b[0max\u001b[0m\u001b[0;34m,\u001b[0m \u001b[0;34m*\u001b[0m\u001b[0margs\u001b[0m\u001b[0;34m,\u001b[0m \u001b[0;34m**\u001b[0m\u001b[0mkwargs\u001b[0m\u001b[0;34m)\u001b[0m\u001b[0;34m\u001b[0m\u001b[0;34m\u001b[0m\u001b[0m\n",
      "\u001b[0;32m~/anaconda3/lib/python3.7/site-packages/matplotlib/axes/_axes.py\u001b[0m in \u001b[0;36mbar\u001b[0;34m(self, x, height, width, bottom, align, **kwargs)\u001b[0m\n\u001b[1;32m   2436\u001b[0m             \u001b[0;32melif\u001b[0m \u001b[0morientation\u001b[0m \u001b[0;34m==\u001b[0m \u001b[0;34m'horizontal'\u001b[0m\u001b[0;34m:\u001b[0m\u001b[0;34m\u001b[0m\u001b[0;34m\u001b[0m\u001b[0m\n\u001b[1;32m   2437\u001b[0m                 \u001b[0mr\u001b[0m\u001b[0;34m.\u001b[0m\u001b[0msticky_edges\u001b[0m\u001b[0;34m.\u001b[0m\u001b[0mx\u001b[0m\u001b[0;34m.\u001b[0m\u001b[0mappend\u001b[0m\u001b[0;34m(\u001b[0m\u001b[0ml\u001b[0m\u001b[0;34m)\u001b[0m\u001b[0;34m\u001b[0m\u001b[0;34m\u001b[0m\u001b[0m\n\u001b[0;32m-> 2438\u001b[0;31m             \u001b[0mself\u001b[0m\u001b[0;34m.\u001b[0m\u001b[0madd_patch\u001b[0m\u001b[0;34m(\u001b[0m\u001b[0mr\u001b[0m\u001b[0;34m)\u001b[0m\u001b[0;34m\u001b[0m\u001b[0;34m\u001b[0m\u001b[0m\n\u001b[0m\u001b[1;32m   2439\u001b[0m             \u001b[0mpatches\u001b[0m\u001b[0;34m.\u001b[0m\u001b[0mappend\u001b[0m\u001b[0;34m(\u001b[0m\u001b[0mr\u001b[0m\u001b[0;34m)\u001b[0m\u001b[0;34m\u001b[0m\u001b[0;34m\u001b[0m\u001b[0m\n\u001b[1;32m   2440\u001b[0m \u001b[0;34m\u001b[0m\u001b[0m\n",
      "\u001b[0;32m~/anaconda3/lib/python3.7/site-packages/matplotlib/axes/_base.py\u001b[0m in \u001b[0;36madd_patch\u001b[0;34m(self, p)\u001b[0m\n\u001b[1;32m   1966\u001b[0m         \u001b[0mself\u001b[0m\u001b[0;34m.\u001b[0m\u001b[0m_set_artist_props\u001b[0m\u001b[0;34m(\u001b[0m\u001b[0mp\u001b[0m\u001b[0;34m)\u001b[0m\u001b[0;34m\u001b[0m\u001b[0;34m\u001b[0m\u001b[0m\n\u001b[1;32m   1967\u001b[0m         \u001b[0;32mif\u001b[0m \u001b[0mp\u001b[0m\u001b[0;34m.\u001b[0m\u001b[0mget_clip_path\u001b[0m\u001b[0;34m(\u001b[0m\u001b[0;34m)\u001b[0m \u001b[0;32mis\u001b[0m \u001b[0;32mNone\u001b[0m\u001b[0;34m:\u001b[0m\u001b[0;34m\u001b[0m\u001b[0;34m\u001b[0m\u001b[0m\n\u001b[0;32m-> 1968\u001b[0;31m             \u001b[0mp\u001b[0m\u001b[0;34m.\u001b[0m\u001b[0mset_clip_path\u001b[0m\u001b[0;34m(\u001b[0m\u001b[0mself\u001b[0m\u001b[0;34m.\u001b[0m\u001b[0mpatch\u001b[0m\u001b[0;34m)\u001b[0m\u001b[0;34m\u001b[0m\u001b[0;34m\u001b[0m\u001b[0m\n\u001b[0m\u001b[1;32m   1969\u001b[0m         \u001b[0mself\u001b[0m\u001b[0;34m.\u001b[0m\u001b[0m_update_patch_limits\u001b[0m\u001b[0;34m(\u001b[0m\u001b[0mp\u001b[0m\u001b[0;34m)\u001b[0m\u001b[0;34m\u001b[0m\u001b[0;34m\u001b[0m\u001b[0m\n\u001b[1;32m   1970\u001b[0m         \u001b[0mself\u001b[0m\u001b[0;34m.\u001b[0m\u001b[0mpatches\u001b[0m\u001b[0;34m.\u001b[0m\u001b[0mappend\u001b[0m\u001b[0;34m(\u001b[0m\u001b[0mp\u001b[0m\u001b[0;34m)\u001b[0m\u001b[0;34m\u001b[0m\u001b[0;34m\u001b[0m\u001b[0m\n",
      "\u001b[0;32m~/anaconda3/lib/python3.7/site-packages/matplotlib/artist.py\u001b[0m in \u001b[0;36mset_clip_path\u001b[0;34m(self, path, transform)\u001b[0m\n\u001b[1;32m    713\u001b[0m             \u001b[0;32mif\u001b[0m \u001b[0misinstance\u001b[0m\u001b[0;34m(\u001b[0m\u001b[0mpath\u001b[0m\u001b[0;34m,\u001b[0m \u001b[0mRectangle\u001b[0m\u001b[0;34m)\u001b[0m\u001b[0;34m:\u001b[0m\u001b[0;34m\u001b[0m\u001b[0;34m\u001b[0m\u001b[0m\n\u001b[1;32m    714\u001b[0m                 self.clipbox = TransformedBbox(Bbox.unit(),\n\u001b[0;32m--> 715\u001b[0;31m                                                path.get_transform())\n\u001b[0m\u001b[1;32m    716\u001b[0m                 \u001b[0mself\u001b[0m\u001b[0;34m.\u001b[0m\u001b[0m_clippath\u001b[0m \u001b[0;34m=\u001b[0m \u001b[0;32mNone\u001b[0m\u001b[0;34m\u001b[0m\u001b[0;34m\u001b[0m\u001b[0m\n\u001b[1;32m    717\u001b[0m                 \u001b[0msuccess\u001b[0m \u001b[0;34m=\u001b[0m \u001b[0;32mTrue\u001b[0m\u001b[0;34m\u001b[0m\u001b[0;34m\u001b[0m\u001b[0m\n",
      "\u001b[0;32m~/anaconda3/lib/python3.7/site-packages/matplotlib/patches.py\u001b[0m in \u001b[0;36mget_transform\u001b[0;34m(self)\u001b[0m\n\u001b[1;32m    212\u001b[0m         \u001b[0mto\u001b[0m \u001b[0mthe\u001b[0m \u001b[0;34m:\u001b[0m\u001b[0;32mclass\u001b[0m\u001b[0;34m:\u001b[0m\u001b[0;31m`\u001b[0m\u001b[0mPatch\u001b[0m\u001b[0;31m`\u001b[0m\u001b[0;34m.\u001b[0m\u001b[0;34m\u001b[0m\u001b[0;34m\u001b[0m\u001b[0m\n\u001b[1;32m    213\u001b[0m         \"\"\"\n\u001b[0;32m--> 214\u001b[0;31m         \u001b[0;32mreturn\u001b[0m \u001b[0mself\u001b[0m\u001b[0;34m.\u001b[0m\u001b[0mget_patch_transform\u001b[0m\u001b[0;34m(\u001b[0m\u001b[0;34m)\u001b[0m \u001b[0;34m+\u001b[0m \u001b[0martist\u001b[0m\u001b[0;34m.\u001b[0m\u001b[0mArtist\u001b[0m\u001b[0;34m.\u001b[0m\u001b[0mget_transform\u001b[0m\u001b[0;34m(\u001b[0m\u001b[0mself\u001b[0m\u001b[0;34m)\u001b[0m\u001b[0;34m\u001b[0m\u001b[0;34m\u001b[0m\u001b[0m\n\u001b[0m\u001b[1;32m    215\u001b[0m \u001b[0;34m\u001b[0m\u001b[0m\n\u001b[1;32m    216\u001b[0m     \u001b[0;32mdef\u001b[0m \u001b[0mget_data_transform\u001b[0m\u001b[0;34m(\u001b[0m\u001b[0mself\u001b[0m\u001b[0;34m)\u001b[0m\u001b[0;34m:\u001b[0m\u001b[0;34m\u001b[0m\u001b[0;34m\u001b[0m\u001b[0m\n",
      "\u001b[0;32m~/anaconda3/lib/python3.7/site-packages/matplotlib/patches.py\u001b[0m in \u001b[0;36mget_patch_transform\u001b[0;34m(self)\u001b[0m\n\u001b[1;32m    756\u001b[0m \u001b[0;34m\u001b[0m\u001b[0m\n\u001b[1;32m    757\u001b[0m     \u001b[0;32mdef\u001b[0m \u001b[0mget_patch_transform\u001b[0m\u001b[0;34m(\u001b[0m\u001b[0mself\u001b[0m\u001b[0;34m)\u001b[0m\u001b[0;34m:\u001b[0m\u001b[0;34m\u001b[0m\u001b[0;34m\u001b[0m\u001b[0m\n\u001b[0;32m--> 758\u001b[0;31m         \u001b[0mself\u001b[0m\u001b[0;34m.\u001b[0m\u001b[0m_update_patch_transform\u001b[0m\u001b[0;34m(\u001b[0m\u001b[0;34m)\u001b[0m\u001b[0;34m\u001b[0m\u001b[0;34m\u001b[0m\u001b[0m\n\u001b[0m\u001b[1;32m    759\u001b[0m         \u001b[0;32mreturn\u001b[0m \u001b[0mself\u001b[0m\u001b[0;34m.\u001b[0m\u001b[0m_rect_transform\u001b[0m\u001b[0;34m\u001b[0m\u001b[0;34m\u001b[0m\u001b[0m\n\u001b[1;32m    760\u001b[0m \u001b[0;34m\u001b[0m\u001b[0m\n",
      "\u001b[0;32m~/anaconda3/lib/python3.7/site-packages/matplotlib/patches.py\u001b[0m in \u001b[0;36m_update_patch_transform\u001b[0;34m(self)\u001b[0m\n\u001b[1;32m    735\u001b[0m         \u001b[0mbbox\u001b[0m \u001b[0;34m=\u001b[0m \u001b[0mtransforms\u001b[0m\u001b[0;34m.\u001b[0m\u001b[0mBbox\u001b[0m\u001b[0;34m.\u001b[0m\u001b[0mfrom_extents\u001b[0m\u001b[0;34m(\u001b[0m\u001b[0mx0\u001b[0m\u001b[0;34m,\u001b[0m \u001b[0my0\u001b[0m\u001b[0;34m,\u001b[0m \u001b[0mx1\u001b[0m\u001b[0;34m,\u001b[0m \u001b[0my1\u001b[0m\u001b[0;34m)\u001b[0m\u001b[0;34m\u001b[0m\u001b[0;34m\u001b[0m\u001b[0m\n\u001b[1;32m    736\u001b[0m         \u001b[0mrot_trans\u001b[0m \u001b[0;34m=\u001b[0m \u001b[0mtransforms\u001b[0m\u001b[0;34m.\u001b[0m\u001b[0mAffine2D\u001b[0m\u001b[0;34m(\u001b[0m\u001b[0;34m)\u001b[0m\u001b[0;34m\u001b[0m\u001b[0;34m\u001b[0m\u001b[0m\n\u001b[0;32m--> 737\u001b[0;31m         \u001b[0mrot_trans\u001b[0m\u001b[0;34m.\u001b[0m\u001b[0mrotate_deg_around\u001b[0m\u001b[0;34m(\u001b[0m\u001b[0mx0\u001b[0m\u001b[0;34m,\u001b[0m \u001b[0my0\u001b[0m\u001b[0;34m,\u001b[0m \u001b[0mself\u001b[0m\u001b[0;34m.\u001b[0m\u001b[0mangle\u001b[0m\u001b[0;34m)\u001b[0m\u001b[0;34m\u001b[0m\u001b[0;34m\u001b[0m\u001b[0m\n\u001b[0m\u001b[1;32m    738\u001b[0m         \u001b[0mself\u001b[0m\u001b[0;34m.\u001b[0m\u001b[0m_rect_transform\u001b[0m \u001b[0;34m=\u001b[0m \u001b[0mtransforms\u001b[0m\u001b[0;34m.\u001b[0m\u001b[0mBboxTransformTo\u001b[0m\u001b[0;34m(\u001b[0m\u001b[0mbbox\u001b[0m\u001b[0;34m)\u001b[0m\u001b[0;34m\u001b[0m\u001b[0;34m\u001b[0m\u001b[0m\n\u001b[1;32m    739\u001b[0m         \u001b[0mself\u001b[0m\u001b[0;34m.\u001b[0m\u001b[0m_rect_transform\u001b[0m \u001b[0;34m+=\u001b[0m \u001b[0mrot_trans\u001b[0m\u001b[0;34m\u001b[0m\u001b[0;34m\u001b[0m\u001b[0m\n",
      "\u001b[0;32m~/anaconda3/lib/python3.7/site-packages/matplotlib/transforms.py\u001b[0m in \u001b[0;36mrotate_deg_around\u001b[0;34m(self, x, y, degrees)\u001b[0m\n\u001b[1;32m   1958\u001b[0m         \u001b[0;31m# Cast to float to avoid wraparound issues with uint8's\u001b[0m\u001b[0;34m\u001b[0m\u001b[0;34m\u001b[0m\u001b[0;34m\u001b[0m\u001b[0m\n\u001b[1;32m   1959\u001b[0m         \u001b[0mx\u001b[0m\u001b[0;34m,\u001b[0m \u001b[0my\u001b[0m \u001b[0;34m=\u001b[0m \u001b[0mfloat\u001b[0m\u001b[0;34m(\u001b[0m\u001b[0mx\u001b[0m\u001b[0;34m)\u001b[0m\u001b[0;34m,\u001b[0m \u001b[0mfloat\u001b[0m\u001b[0;34m(\u001b[0m\u001b[0my\u001b[0m\u001b[0;34m)\u001b[0m\u001b[0;34m\u001b[0m\u001b[0;34m\u001b[0m\u001b[0m\n\u001b[0;32m-> 1960\u001b[0;31m         \u001b[0;32mreturn\u001b[0m \u001b[0mself\u001b[0m\u001b[0;34m.\u001b[0m\u001b[0mtranslate\u001b[0m\u001b[0;34m(\u001b[0m\u001b[0;34m-\u001b[0m\u001b[0mx\u001b[0m\u001b[0;34m,\u001b[0m \u001b[0;34m-\u001b[0m\u001b[0my\u001b[0m\u001b[0;34m)\u001b[0m\u001b[0;34m.\u001b[0m\u001b[0mrotate_deg\u001b[0m\u001b[0;34m(\u001b[0m\u001b[0mdegrees\u001b[0m\u001b[0;34m)\u001b[0m\u001b[0;34m.\u001b[0m\u001b[0mtranslate\u001b[0m\u001b[0;34m(\u001b[0m\u001b[0mx\u001b[0m\u001b[0;34m,\u001b[0m \u001b[0my\u001b[0m\u001b[0;34m)\u001b[0m\u001b[0;34m\u001b[0m\u001b[0;34m\u001b[0m\u001b[0m\n\u001b[0m\u001b[1;32m   1961\u001b[0m \u001b[0;34m\u001b[0m\u001b[0m\n\u001b[1;32m   1962\u001b[0m     \u001b[0;32mdef\u001b[0m \u001b[0mtranslate\u001b[0m\u001b[0;34m(\u001b[0m\u001b[0mself\u001b[0m\u001b[0;34m,\u001b[0m \u001b[0mtx\u001b[0m\u001b[0;34m,\u001b[0m \u001b[0mty\u001b[0m\u001b[0;34m)\u001b[0m\u001b[0;34m:\u001b[0m\u001b[0;34m\u001b[0m\u001b[0;34m\u001b[0m\u001b[0m\n",
      "\u001b[0;32m~/anaconda3/lib/python3.7/site-packages/matplotlib/transforms.py\u001b[0m in \u001b[0;36mtranslate\u001b[0;34m(self, tx, ty)\u001b[0m\n\u001b[1;32m   1969\u001b[0m         \"\"\"\n\u001b[1;32m   1970\u001b[0m         translate_mtx = np.array(\n\u001b[0;32m-> 1971\u001b[0;31m             [[1.0, 0.0, tx], [0.0, 1.0, ty], [0.0, 0.0, 1.0]], float)\n\u001b[0m\u001b[1;32m   1972\u001b[0m         \u001b[0mself\u001b[0m\u001b[0;34m.\u001b[0m\u001b[0m_mtx\u001b[0m \u001b[0;34m=\u001b[0m \u001b[0mnp\u001b[0m\u001b[0;34m.\u001b[0m\u001b[0mdot\u001b[0m\u001b[0;34m(\u001b[0m\u001b[0mtranslate_mtx\u001b[0m\u001b[0;34m,\u001b[0m \u001b[0mself\u001b[0m\u001b[0;34m.\u001b[0m\u001b[0m_mtx\u001b[0m\u001b[0;34m)\u001b[0m\u001b[0;34m\u001b[0m\u001b[0;34m\u001b[0m\u001b[0m\n\u001b[1;32m   1973\u001b[0m         \u001b[0mself\u001b[0m\u001b[0;34m.\u001b[0m\u001b[0minvalidate\u001b[0m\u001b[0;34m(\u001b[0m\u001b[0;34m)\u001b[0m\u001b[0;34m\u001b[0m\u001b[0;34m\u001b[0m\u001b[0m\n",
      "\u001b[0;31mKeyboardInterrupt\u001b[0m: "
     ]
    }
   ],
   "source": [
    "fig, ax = plt.subplots()\n",
    "ax.hist(df['new_purchase'],bins = 40)\n",
    "\n",
    "fig.suptitle('Count of Vehicle Purchase Ranges')\n",
    "fig.set_size_inches(15,8)\n",
    "\n",
    "ax.xaxis.set_label_text('Vehicle Price Ranges')\n",
    "ax.xaxis.set_tick_params(which = 'both', top = False, bottom = True, labelbottom = True)  # Turn top x axis tick marks off \n",
    "\n",
    "ax.yaxis.set_label_text('Total Vehicle Price Range Totals')\n",
    "ax.yaxis.set_tick_params(which = 'both', right = False, left = True, labelleft = True)   # Turn right y axis tick marks off\n",
    "\n",
    "\n",
    "plt.style.use('ggplot')\n",
    "ax.set_xlim(0,10)\n",
    "ax.set_ylim(0,130000)\n",
    "ax.spines['right'].set_visible(False)\n",
    "ax.spines['top'].set_visible(False)\n",
    "ax.grid(False)"
   ]
  },
  {
   "cell_type": "markdown",
   "metadata": {},
   "source": [
    "## Clean up the customer ages"
   ]
  },
  {
   "cell_type": "code",
   "execution_count": null,
   "metadata": {},
   "outputs": [],
   "source": [
    "age_ranges = set()\n",
    "for num in cust_age:\n",
    "    if num == '?':\n",
    "        continue\n",
    "    parts1 = num.split(\"-\")\n",
    "    if len(parts1) == 2:\n",
    "        age_ranges.add((int(parts1[0]),int(parts1[1])))\n",
    "    else:\n",
    "        age_ranges.add((int(parts1[0][:-1]),110))\n",
    "\n",
    "age_ranges= list(age_ranges)\n",
    "age_ranges.sort()\n",
    "# Removing age ranges above 100's as it could mean fraud \n",
    "#del age_ranges[9]\n",
    "age_ranges"
   ]
  },
  {
   "cell_type": "code",
   "execution_count": null,
   "metadata": {},
   "outputs": [],
   "source": [
    "new_ages = []\n",
    "high_ages = []\n",
    "\n",
    "for i in range(len(cust_age)):\n",
    "    if cust_age[i] == \"101+\":\n",
    "        new_ages.append(cust_age[i])\n",
    "        high_ages.append(101)\n",
    "    elif cust_age[i] == '?':\n",
    "        y = random.randint(0,len(age_ranges)- 1)\n",
    "        high_ages.append(age_ranges[y][1]) \n",
    "        new_ages.append( '%d - %d'%(age_ranges[y][0],age_ranges[y][1]) )\n",
    "    else:\n",
    "        new_ages.append(cust_age[i])\n",
    "        high_ages.append(int(cust_age[i].split(\"-\")[1]))\n",
    "\n",
    "\n",
    "### High ages indicate the bin for age range \n",
    "df['high_ages'] = high_ages\n",
    "df['new_ages']= new_ages\n"
   ]
  },
  {
   "cell_type": "code",
   "execution_count": null,
   "metadata": {},
   "outputs": [],
   "source": [
    "fig, ax = plt.subplots()\n",
    "ax.hist(df['new_ages'], color = 'g',bins = 20)\n",
    "\n",
    "fig.suptitle('Count of Customer ages')\n",
    "fig.set_size_inches(11,5)\n",
    "\n",
    "ax.xaxis.set_label_text('Customer Age Ranges')\n",
    "ax.xaxis.set_tick_params(which = 'both', top = False, bottom = True, labelbottom = True)  # Turn top x axis tick marks off \n",
    "\n",
    "ax.yaxis.set_label_text('Total Age Range Totals')\n",
    "ax.yaxis.set_tick_params(which = 'both', right = False, left = True, labelleft = True)   # Turn right y axis tick marks off\n",
    "\n",
    "\n",
    "plt.style.use('ggplot')\n",
    "ax.set_xlim(0,10)\n",
    "ax.set_ylim(0,90000)\n",
    "ax.spines['right'].set_visible(False)\n",
    "ax.spines['top'].set_visible(False)\n",
    "ax.grid(False)"
   ]
  },
  {
   "cell_type": "markdown",
   "metadata": {},
   "source": [
    "## Want to rearrange the data so that income doesn't include dashes"
   ]
  },
  {
   "cell_type": "code",
   "execution_count": null,
   "metadata": {},
   "outputs": [],
   "source": [
    "income_ranges = set()\n",
    "no_income_count = 0\n",
    "for val in cust_income:\n",
    "    if val == '?':\n",
    "        no_income_count += 1\n",
    "        continue \n",
    "    parts = val.split('-')\n",
    "    #print(parts)\n",
    "    if len(parts) == 2:\n",
    "        income_ranges.add((int(parts[0]),int(parts[1])))\n",
    "    else:\n",
    "        income_ranges.add((int(parts[0][:-1]),1000001))\n",
    "income_ranges= list(income_ranges)\n",
    "\n",
    "income_ranges.sort()\n",
    "income_ranges"
   ]
  },
  {
   "cell_type": "markdown",
   "metadata": {},
   "source": [
    "### Give values to the \"?\" in the data set"
   ]
  },
  {
   "cell_type": "code",
   "execution_count": null,
   "metadata": {},
   "outputs": [],
   "source": [
    "# Using choice() method \n",
    "probs = [0.105374408,0.260926951,0.248560715,0.137332352,0.095628574,0.051049452,0.024070919,0.024416218,0.01211775,0.005327938,0.035194723]\n",
    "pick1 = np.random.choice(len(probs), no_income_count, p = probs) \n",
    "\n",
    "high_income = []\n",
    "new_income = []\n",
    "count = 0 \n",
    "for i in range(len(cust_income)):\n",
    "    if cust_income[i] == '200001+':\n",
    "        new_income.append(cust_income[i])\n",
    "        high_income.append(1000001)\n",
    "    elif cust_income[i] == '?':\n",
    "        val = pick1[count] \n",
    "        count += 1\n",
    "        #x = random.randint(0,len(income_ranges)- 1)\n",
    "        high_income.append(income_ranges[val][1])\n",
    "        new_income.append( '%d - %d'%(income_ranges[val][0],income_ranges[val][1]) )\n",
    "    else:\n",
    "        new_income.append(cust_income[i])\n",
    "        high_income.append(int(cust_income[i].split(\"-\")[1]))\n",
    "    \n",
    "    \n",
    "    \n",
    "    \n",
    "df['new_income']= new_income\n",
    "df['high_income'] = high_income\n",
    "\n",
    "#high_income\n",
    "\n",
    "\n",
    "\n",
    "# High Income indicates the top value i\n"
   ]
  },
  {
   "cell_type": "markdown",
   "metadata": {},
   "source": [
    "###  Plot Distributions"
   ]
  },
  {
   "cell_type": "code",
   "execution_count": null,
   "metadata": {},
   "outputs": [],
   "source": [
    "fig, ax = plt.subplots()\n",
    "ax.hist(df['new_income'], color = 'Gold',bins = 23)\n",
    "\n",
    "fig.suptitle('Customer Income Ranges Histogram')\n",
    "fig.set_size_inches(20,10)\n",
    "\n",
    "ax.xaxis.set_label_text('Customer Income Ranges')\n",
    "ax.xaxis.set_tick_params(which = 'both', top = False, bottom = True, labelbottom = True)  # Turn top x axis tick marks off \n",
    "\n",
    "ax.yaxis.set_label_text('Total Income Range Totals')\n",
    "ax.yaxis.set_tick_params(which = 'both', right = False, left = True, labelleft = True)   # Turn right y axis tick marks off\n",
    "abline =True \n",
    "ax.set_ylim(0,100000)\n",
    "ax.spines['right'].set_visible(False)\n",
    "ax.spines['top'].set_visible(False)\n",
    "ax.grid(False)"
   ]
  },
  {
   "cell_type": "markdown",
   "metadata": {},
   "source": [
    "## Giving Associated Values to Gender"
   ]
  },
  {
   "cell_type": "code",
   "execution_count": null,
   "metadata": {},
   "outputs": [],
   "source": [
    "new_gender = []\n",
    "\n",
    "for val in gender:\n",
    "    if val == \"M\":\n",
    "        new_gender.append(0)\n",
    "    elif val == \"F\":\n",
    "        new_gender.append(1)\n",
    "    else:\n",
    "        new_gender.append(2)\n",
    "        \n",
    "df['new_gender']= new_gender\n",
    "new_gender\n",
    "\n"
   ]
  },
  {
   "cell_type": "markdown",
   "metadata": {},
   "source": [
    "## Purchase and Make Combination "
   ]
  },
  {
   "cell_type": "code",
   "execution_count": null,
   "metadata": {},
   "outputs": [],
   "source": [
    "make_model_bins = set()\n",
    "for i in range(len(df['purchase_make'])):\n",
    "    s = df['purchase_make'][i] +  ' ' + df['purchase_model'][i]\n",
    "    make_model_bins.add(s)\n",
    "make_model_bins = list(make_model_bins)\n",
    "\n",
    "make_model = []\n",
    "for i in range(len(df['purchase_make'])):\n",
    "    s = df['purchase_make'][i] +  ' ' + df['purchase_model'][i]\n",
    "    make_model.append( make_model_bins.index(s))\n",
    "\n",
    "    \n",
    "\n",
    "df['make_model'] = make_model"
   ]
  },
  {
   "cell_type": "code",
   "execution_count": null,
   "metadata": {},
   "outputs": [],
   "source": [
    "fig, ax = plt.subplots()\n",
    "ax.hist(df['make_model'], color = 'Gold',bins = 641)\n",
    "\n",
    "fig.suptitle('End of Year test Score Frequency Histogram')\n",
    "fig.set_size_inches(20,18)\n",
    "\n",
    "ax.xaxis.set_label_text('Customer Income Ranges')\n",
    "ax.xaxis.set_tick_params(which = 'both', top = False, bottom = True, labelbottom = True)  # Turn top x axis tick marks off \n",
    "\n",
    "ax.yaxis.set_label_text('Total Income Range Totals')\n",
    "ax.yaxis.set_tick_params(which = 'both', right = False, left = True, labelleft = True)   # Turn right y axis tick marks off\n",
    "abline =True \n",
    "ax.set_ylim(0,15000)\n",
    "ax.spines['right'].set_visible(False)\n",
    "ax.spines['top'].set_visible(False)\n",
    "ax.grid(False)"
   ]
  },
  {
   "cell_type": "raw",
   "metadata": {},
   "source": [
    "insert_num                      int64\n",
    "purchase_make                  object\n",
    "purchase_model                 object\n",
    "purchase_vehicle_year           int64\n",
    "purchase_price                 object\n",
    "trade_in                        int64\n",
    "vehicle_financing               int64\n",
    "customer_age                   object\n",
    "customer_income                object\n",
    "customer_gender                object\n",
    "customer_previous_purchase      int64\n",
    "customer_distance_to_dealer    object\n",
    "post_purchase_satisfaction     object\n",
    "vehicle_warranty_used           int64\n",
    "subsequent_purchases            int64\n",
    "dtype: object"
   ]
  },
  {
   "cell_type": "markdown",
   "metadata": {},
   "source": [
    "## Incoprating BLS jobs data with customer income"
   ]
  },
  {
   "cell_type": "code",
   "execution_count": null,
   "metadata": {},
   "outputs": [],
   "source": [
    "job_pairs = {}\n",
    "for i in range(len(annual_bottom)):\n",
    "    try:\n",
    "        bottom = int(annual_bottom[i])\n",
    "        if bottom < 21000:\n",
    "            if job_pairs.get(20000) is None:\n",
    "                job_pairs[20000] = [ jobs[i] ]\n",
    "            else:\n",
    "                job_pairs[20000].append(jobs[i])\n",
    "    except: \n",
    "        pass\n",
    "        \n",
    "for i in range(len(median_salary)):\n",
    "    for low,high in income_ranges:\n",
    "        try:\n",
    "            salary = int(median_salary[i])\n",
    "            if salary >= low and salary <= high:\n",
    "                if job_pairs.get(high) is None:\n",
    "                    job_pairs[high] = [ jobs[i] ]\n",
    "                else:\n",
    "                    job_pairs[high].append( jobs[i] )\n",
    "        except: \n",
    "            pass\n",
    "\n",
    "job_assign = []\n",
    "for i in range(len(high_income)):\n",
    "    for low,high in income_ranges:\n",
    "        if high_income[i] == high:\n",
    "            job_assign.append(job_pairs[high][random.randint(0,len(job_pairs[high])-1)])\n",
    "            break\n",
    " \n",
    "len(job_assign)\n",
    "        \n",
    "#len(df)\n",
    "df['job_assign']= job_assign\n",
    "\n",
    "#job_pairs.keys()        \n",
    "        \n",
    "#df3 = pd.DataFrame(list(job_pairs.items()),columns = cols)\n"
   ]
  },
  {
   "cell_type": "markdown",
   "metadata": {},
   "source": [
    "## See who pursued financing "
   ]
  },
  {
   "cell_type": "code",
   "execution_count": null,
   "metadata": {},
   "outputs": [],
   "source": [
    "fin = []\n",
    "for i in range(len(df)):\n",
    "    if df['vehicle_financing'][i] == 1:\n",
    "        fin.append([df['new_ages'][i],df['vehicle_financing'][i],df['new_income'][i],df['purchase_make'][i]])\n",
    "\n",
    "values = pd.DataFrame(fin)"
   ]
  },
  {
   "cell_type": "markdown",
   "metadata": {},
   "source": [
    "# Sending all the Data to a CSV"
   ]
  },
  {
   "cell_type": "code",
   "execution_count": null,
   "metadata": {},
   "outputs": [],
   "source": [
    "# displaying the DataFrame \n",
    "print('DataFrame:\\n', df) \n",
    "   \n",
    "# saving the DataFrame as a CSV file \n",
    "newData_csv_data = df.to_csv('newdata.csv', index = False) \n",
    "print('\\nCSV String:\\n', newData_csv_data) "
   ]
  },
  {
   "cell_type": "markdown",
   "metadata": {},
   "source": [
    "### Visualize the data "
   ]
  },
  {
   "cell_type": "code",
   "execution_count": null,
   "metadata": {
    "scrolled": true
   },
   "outputs": [],
   "source": [
    "cat_totals = df.groupby(\"new_ages\")[\"job_assign\"].sum().sort_values()\n",
    "cat_totals"
   ]
  },
  {
   "cell_type": "code",
   "execution_count": null,
   "metadata": {},
   "outputs": [],
   "source": [
    "# Find Correlations \n",
    "corr = df.corr(method='pearson') \n",
    "corr\n"
   ]
  },
  {
   "cell_type": "code",
   "execution_count": null,
   "metadata": {},
   "outputs": [],
   "source": [
    "plt.figure(figsize=(19,16))\n",
    "\n",
    "# Upper triangle heatmap\n",
    "corr_mx = corr.corr() # correlation matrix\n",
    "matrix = np.tril(corr_mx) # take lower correlation matrix\n",
    " \n",
    "# Heatmap with keyword arguments (kwargs) parameter\n",
    "kwargs = {'linewidth':5, 'linestyle':'--', 'rasterized':False, 'edgecolor':'b',  \"capstyle\":'projecting'}\n",
    "\n",
    "\n",
    "plt.title(\"Correlations of National Used Car Sales\", fontsize = 25)\n",
    "sns.heatmap(corr, cmap=\"coolwarm\", annot = True, linecolor=\"k\",linewidths=6,**kwargs, mask = matrix)"
   ]
  },
  {
   "cell_type": "code",
   "execution_count": null,
   "metadata": {},
   "outputs": [],
   "source": [
    "df['high_purchase']"
   ]
  },
  {
   "cell_type": "code",
   "execution_count": null,
   "metadata": {},
   "outputs": [],
   "source": [
    "\"\"\" Plot the data \"\"\"\n",
    "\n",
    "    \n",
    "plt.scatter(df['purchase_vehicle_year'],df['high_purchase'])\n",
    "plt.show()\n",
    "    "
   ]
  },
  {
   "cell_type": "code",
   "execution_count": null,
   "metadata": {},
   "outputs": [],
   "source": [
    "print(df.dtypes)"
   ]
  },
  {
   "cell_type": "code",
   "execution_count": null,
   "metadata": {},
   "outputs": [],
   "source": [
    "    "
   ]
  },
  {
   "cell_type": "code",
   "execution_count": null,
   "metadata": {},
   "outputs": [],
   "source": [
    "def square(value):\n",
    "    x = value ** 2 \n",
    "    return x\n",
    "square(2)"
   ]
  },
  {
   "cell_type": "code",
   "execution_count": null,
   "metadata": {},
   "outputs": [],
   "source": []
  },
  {
   "cell_type": "code",
   "execution_count": null,
   "metadata": {},
   "outputs": [],
   "source": []
  },
  {
   "cell_type": "code",
   "execution_count": null,
   "metadata": {},
   "outputs": [],
   "source": []
  }
 ],
 "metadata": {
  "kernelspec": {
   "display_name": "Python 3",
   "language": "python",
   "name": "python3"
  },
  "language_info": {
   "codemirror_mode": {
    "name": "ipython",
    "version": 3
   },
   "file_extension": ".py",
   "mimetype": "text/x-python",
   "name": "python",
   "nbconvert_exporter": "python",
   "pygments_lexer": "ipython3",
   "version": "3.7.3"
  }
 },
 "nbformat": 4,
 "nbformat_minor": 4
}
