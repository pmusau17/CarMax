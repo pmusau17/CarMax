{
 "cells": [
  {
   "cell_type": "code",
   "execution_count": 4,
   "metadata": {},
   "outputs": [
    {
     "output_type": "stream",
     "name": "stdout",
     "text": [
      "Collecting ibm_db\n",
      "\u001b[?25l  Downloading https://files.pythonhosted.org/packages/6f/4e/48bf113d4f14b20a5008ea9f7784654041d8f7730c1081b370f569d80c93/ibm_db-3.0.2.tar.gz (718kB)\n",
      "\u001b[K     |████████████████████████████████| 727kB 4.1MB/s \n",
      "\u001b[?25hBuilding wheels for collected packages: ibm-db\n",
      "  Building wheel for ibm-db (setup.py) ... \u001b[?25ldone\n",
      "\u001b[?25h  Created wheel for ibm-db: filename=ibm_db-3.0.2-cp37-cp37m-macosx_10_9_x86_64.whl size=31648025 sha256=61e0db2095944791d82139b5f2c03214bfa62a462303110ee4685508138deb6e\n",
      "  Stored in directory: /Users/thomasottotrankle/Library/Caches/pip/wheels/84/64/42/10b217b545e8085b72160632c61bfa0909f661dad89326a956\n",
      "Successfully built ibm-db\n",
      "Installing collected packages: ibm-db\n",
      "Successfully installed ibm-db-3.0.2\n",
      "Note: you may need to restart the kernel to use updated packages.\n"
     ]
    }
   ],
   "source": [
    "pip install ibm_db"
   ]
  },
  {
   "cell_type": "code",
   "execution_count": 21,
   "metadata": {},
   "outputs": [
    {
     "output_type": "stream",
     "name": "stdout",
     "text": [
      "Collecting ipython-sql\n",
      "  Downloading https://files.pythonhosted.org/packages/ab/3d/0d38357c620df31cebb056ca1804027112e5c008f4c2c0e16d879996ad9f/ipython_sql-0.4.0-py3-none-any.whl\n",
      "Requirement already satisfied: six in /Users/thomasottotrankle/opt/anaconda3/lib/python3.7/site-packages (from ipython-sql) (1.13.0)\n",
      "Requirement already satisfied: sqlalchemy>=0.6.7 in /Users/thomasottotrankle/opt/anaconda3/lib/python3.7/site-packages (from ipython-sql) (1.3.13)\n",
      "Requirement already satisfied: ipython-genutils>=0.1.0 in /Users/thomasottotrankle/opt/anaconda3/lib/python3.7/site-packages (from ipython-sql) (0.2.0)\n",
      "Collecting sqlparse\n",
      "\u001b[?25l  Downloading https://files.pythonhosted.org/packages/14/05/6e8eb62ca685b10e34051a80d7ea94b7137369d8c0be5c3b9d9b6e3f5dae/sqlparse-0.4.1-py3-none-any.whl (42kB)\n",
      "\u001b[K     |████████████████████████████████| 51kB 3.1MB/s \n",
      "\u001b[?25hRequirement already satisfied: ipython>=1.0 in /Users/thomasottotrankle/opt/anaconda3/lib/python3.7/site-packages (from ipython-sql) (7.11.1)\n",
      "Collecting prettytable<1\n",
      "  Downloading https://files.pythonhosted.org/packages/ef/30/4b0746848746ed5941f052479e7c23d2b56d174b82f4fd34a25e389831f5/prettytable-0.7.2.tar.bz2\n",
      "Requirement already satisfied: jedi>=0.10 in /Users/thomasottotrankle/opt/anaconda3/lib/python3.7/site-packages (from ipython>=1.0->ipython-sql) (0.14.1)\n",
      "Requirement already satisfied: prompt-toolkit!=3.0.0,!=3.0.1,<3.1.0,>=2.0.0 in /Users/thomasottotrankle/opt/anaconda3/lib/python3.7/site-packages (from ipython>=1.0->ipython-sql) (3.0.2)\n",
      "Requirement already satisfied: pickleshare in /Users/thomasottotrankle/opt/anaconda3/lib/python3.7/site-packages (from ipython>=1.0->ipython-sql) (0.7.5)\n",
      "Requirement already satisfied: setuptools>=18.5 in /Users/thomasottotrankle/opt/anaconda3/lib/python3.7/site-packages (from ipython>=1.0->ipython-sql) (44.0.0.post20200106)\n",
      "Requirement already satisfied: pygments in /Users/thomasottotrankle/opt/anaconda3/lib/python3.7/site-packages (from ipython>=1.0->ipython-sql) (2.5.2)\n",
      "Requirement already satisfied: decorator in /Users/thomasottotrankle/opt/anaconda3/lib/python3.7/site-packages (from ipython>=1.0->ipython-sql) (4.4.1)\n",
      "Requirement already satisfied: traitlets>=4.2 in /Users/thomasottotrankle/opt/anaconda3/lib/python3.7/site-packages (from ipython>=1.0->ipython-sql) (4.3.3)\n",
      "Requirement already satisfied: pexpect; sys_platform != \"win32\" in /Users/thomasottotrankle/opt/anaconda3/lib/python3.7/site-packages (from ipython>=1.0->ipython-sql) (4.7.0)\n",
      "Requirement already satisfied: appnope; sys_platform == \"darwin\" in /Users/thomasottotrankle/opt/anaconda3/lib/python3.7/site-packages (from ipython>=1.0->ipython-sql) (0.1.0)\n",
      "Requirement already satisfied: backcall in /Users/thomasottotrankle/opt/anaconda3/lib/python3.7/site-packages (from ipython>=1.0->ipython-sql) (0.1.0)\n",
      "Requirement already satisfied: parso>=0.5.0 in /Users/thomasottotrankle/opt/anaconda3/lib/python3.7/site-packages (from jedi>=0.10->ipython>=1.0->ipython-sql) (0.5.2)\n",
      "Requirement already satisfied: wcwidth in /Users/thomasottotrankle/opt/anaconda3/lib/python3.7/site-packages (from prompt-toolkit!=3.0.0,!=3.0.1,<3.1.0,>=2.0.0->ipython>=1.0->ipython-sql) (0.1.7)\n",
      "Requirement already satisfied: ptyprocess>=0.5 in /Users/thomasottotrankle/opt/anaconda3/lib/python3.7/site-packages (from pexpect; sys_platform != \"win32\"->ipython>=1.0->ipython-sql) (0.6.0)\n",
      "Building wheels for collected packages: prettytable\n",
      "  Building wheel for prettytable (setup.py) ... \u001b[?25ldone\n",
      "\u001b[?25h  Created wheel for prettytable: filename=prettytable-0.7.2-cp37-none-any.whl size=13700 sha256=bbb80299dfd74bdb8e95bb166661b1cf78dcb7e1f1cffda000423771068931fb\n",
      "  Stored in directory: /Users/thomasottotrankle/Library/Caches/pip/wheels/80/34/1c/3967380d9676d162cb59513bd9dc862d0584e045a162095606\n",
      "Successfully built prettytable\n",
      "Installing collected packages: sqlparse, prettytable, ipython-sql\n",
      "Successfully installed ipython-sql-0.4.0 prettytable-0.7.2 sqlparse-0.4.1\n",
      "Note: you may need to restart the kernel to use updated packages.\n"
     ]
    }
   ],
   "source": [
    "pip install ipython-sql # SQL magic function"
   ]
  },
  {
   "cell_type": "code",
   "execution_count": 8,
   "metadata": {},
   "outputs": [
    {
     "output_type": "stream",
     "name": "stdout",
     "text": [
      "Requirement already satisfied: sqlalchemy in /Users/thomasottotrankle/opt/anaconda3/lib/python3.7/site-packages (1.3.13)\n",
      "Note: you may need to restart the kernel to use updated packages.\n"
     ]
    }
   ],
   "source": [
    "pip install sqlalchemy # ORM for databases"
   ]
  },
  {
   "cell_type": "code",
   "execution_count": 20,
   "metadata": {},
   "outputs": [
    {
     "output_type": "stream",
     "name": "stdout",
     "text": [
      "Collecting ibm_db_sa\n",
      "  Downloading https://files.pythonhosted.org/packages/62/af/88781f8dc7a414507ab94a2b91319bdbd3b5375e38353446c113c548adcb/ibm_db_sa-0.3.6.tar.gz\n",
      "Requirement already satisfied: sqlalchemy>=0.7.3 in /Users/thomasottotrankle/opt/anaconda3/lib/python3.7/site-packages (from ibm_db_sa) (1.3.13)\n",
      "Requirement already satisfied: ibm_db>=2.0.0 in /Users/thomasottotrankle/opt/anaconda3/lib/python3.7/site-packages (from ibm_db_sa) (3.0.2)\n",
      "Building wheels for collected packages: ibm-db-sa\n",
      "  Building wheel for ibm-db-sa (setup.py) ... \u001b[?25ldone\n",
      "\u001b[?25h  Created wheel for ibm-db-sa: filename=ibm_db_sa-0.3.6-cp37-none-any.whl size=28860 sha256=2f1024104cb5ca642c54069822bb0b0069e8fd96a7ee113e941eb01a861a88c1\n",
      "  Stored in directory: /Users/thomasottotrankle/Library/Caches/pip/wheels/97/b5/8a/17a01086a100d48a008b2b556843b23fef5eb69a6b4f04c419\n",
      "Successfully built ibm-db-sa\n",
      "Installing collected packages: ibm-db-sa\n",
      "Successfully installed ibm-db-sa-0.3.6\n",
      "Note: you may need to restart the kernel to use updated packages.\n"
     ]
    }
   ],
   "source": [
    "pip install ibm_db_sa"
   ]
  },
  {
   "source": [
    "RESTART YOUR KERNEL\n",
    "\n",
    "\n"
   ],
   "cell_type": "markdown",
   "metadata": {}
  },
  {
   "source": [
    "import ibm_db\n",
    "import sqlalchemy\n",
    "import ibm_db_sa"
   ],
   "cell_type": "code",
   "metadata": {},
   "execution_count": 2,
   "outputs": []
  },
  {
   "cell_type": "code",
   "execution_count": 3,
   "metadata": {},
   "outputs": [],
   "source": [
    "#Replace the placeholder values with your actual Db2 hostname, username, and password:\n",
    "dsn_hostname = \"dashdb-txn-sbox-yp-dal09-12.services.dal.bluemix.net\" # e.g.: \"dashdb-txn-sbox-yp-dal09-04.services.dal.bluemix.net\"\n",
    "dsn_uid = \"fnx28407\"        # e.g. \"abc12345\"\n",
    "dsn_pwd = \"zn42xx76bm^xz56\"     # e.g. \"7dBZ3wWt9XN6$o0J\"\n",
    "\n",
    "dsn_driver = \"{IBM DB2 ODBC DRIVER}\"\n",
    "dsn_database = \"BLUDB\"            # e.g. \"BLUDB\"\n",
    "dsn_port = \"50000\"                # e.g. \"50000\" \n",
    "dsn_protocol = \"TCPIP\"            # i.e. \"TCPIP\""
   ]
  },
  {
   "cell_type": "code",
   "execution_count": 4,
   "metadata": {},
   "outputs": [
    {
     "output_type": "stream",
     "name": "stdout",
     "text": [
      "DATABASE=BLUDB;HOSTNAME=dashdb-txn-sbox-yp-dal09-12.services.dal.bluemix.net;PORT=50000;PROTOCOL=TCPIP;UID=fnx28407;PWD=zzn42xx76bm^xz56;\n"
     ]
    }
   ],
   "source": [
    "#DO NOT MODIFY THIS CELL. Just RUN it with Shift + Enter\n",
    "#Create the dsn connection string\n",
    "dsn = \"DATABASE=BLUDB;HOSTNAME=dashdb-txn-sbox-yp-dal09-12.services.dal.bluemix.net;PORT=50000;PROTOCOL=TCPIP;UID=fnx28407;PWD=zzn42xx76bm^xz56;\"\n",
    "\n",
    "#print the connection string to check correct values are specified\n",
    "print(dsn)"
   ]
  },
  {
   "cell_type": "code",
   "execution_count": 5,
   "metadata": {},
   "outputs": [
    {
     "output_type": "stream",
     "name": "stdout",
     "text": [
      "Connected to database:  BLUDB as user:  fnx28407 on host:  dashdb-txn-sbox-yp-dal09-12.services.dal.bluemix.net\n"
     ]
    }
   ],
   "source": [
    "#DO NOT MODIFY THIS CELL. Just RUN it with Shift + Enter\n",
    "#Create database connection\n",
    "\n",
    "try:\n",
    "    conn = ibm_db.connect(dsn, \"\", \"\")\n",
    "    print (\"Connected to database: \", dsn_database, \"as user: \", dsn_uid, \"on host: \", dsn_hostname)\n",
    "\n",
    "except:\n",
    "    print (\"Unable to connect: \", ibm_db.conn_errormsg() )\n"
   ]
  },
  {
   "source": [
    "## Now we can run SQL code in our IPython notebooks"
   ],
   "cell_type": "markdown",
   "metadata": {}
  },
  {
   "cell_type": "code",
   "execution_count": 6,
   "metadata": {},
   "outputs": [],
   "source": [
    "# Load relevant packages\n",
    "%load_ext sql"
   ]
  },
  {
   "cell_type": "code",
   "execution_count": 13,
   "metadata": {},
   "outputs": [
    {
     "output_type": "error",
     "ename": "ModuleNotFoundError",
     "evalue": "No module named 'ibm_db_sa'",
     "traceback": [
      "\u001b[0;31m---------------------------------------------------------------------------\u001b[0m",
      "\u001b[0;31mModuleNotFoundError\u001b[0m                       Traceback (most recent call last)",
      "\u001b[0;32m<ipython-input-13-92842020dbce>\u001b[0m in \u001b[0;36m<module>\u001b[0;34m\u001b[0m\n\u001b[0;32m----> 1\u001b[0;31m \u001b[0;32mimport\u001b[0m \u001b[0mibm_db_sa\u001b[0m\u001b[0;34m\u001b[0m\u001b[0;34m\u001b[0m\u001b[0m\n\u001b[0m",
      "\u001b[0;31mModuleNotFoundError\u001b[0m: No module named 'ibm_db_sa'"
     ]
    }
   ],
   "source": []
  },
  {
   "cell_type": "code",
   "execution_count": 7,
   "metadata": {},
   "outputs": [
    {
     "output_type": "stream",
     "name": "stdout",
     "text": [
      "DB2/LINUXX8664\n"
     ]
    }
   ],
   "source": [
    "# Enter the connection string for your Db2 on Cloud database instance below\n",
    "# %sql ibm_db_sa://my-username:my-password@my-hostname:my-port/my-db-name\n",
    "%sql ibm_db_sa://fnx28407:zzn42xx76bm^xz56@dashdb-txn-sbox-yp-dal09-12.services.dal.bluemix.net:50000/BLUDB"
   ]
  },
  {
   "cell_type": "code",
   "execution_count": 11,
   "metadata": {},
   "outputs": [
    {
     "output_type": "stream",
     "name": "stdout",
     "text": [
      " * ibm_db_sa://fnx28407:***@dashdb-txn-sbox-yp-dal09-12.services.dal.bluemix.net:50000/BLUDB\n",
      "Done.\n"
     ]
    },
    {
     "output_type": "execute_result",
     "data": {
      "text/plain": [
       "[('FNX28407', 'CARMAXREMODELED', datetime.datetime(2020, 12, 10, 22, 5, 19, 168805))]"
      ],
      "text/html": "<table>\n    <tr>\n        <th>tabschema</th>\n        <th>tabname</th>\n        <th>create_time</th>\n    </tr>\n    <tr>\n        <td>FNX28407</td>\n        <td>CARMAXREMODELED</td>\n        <td>2020-12-10 22:05:19.168805</td>\n    </tr>\n</table>"
     },
     "metadata": {},
     "execution_count": 11
    }
   ],
   "source": [
    "## MAGIC TIME -- can type straight SQL code\n",
    "%sql select TABSCHEMA, TABNAME, CREATE_TIME from SYSCAT.TABLES where TABSCHEMA='FNX28407';"
   ]
  },
  {
   "cell_type": "code",
   "execution_count": 13,
   "metadata": {},
   "outputs": [
    {
     "output_type": "stream",
     "name": "stdout",
     "text": [
      " * ibm_db_sa://fnx28407:***@dashdb-txn-sbox-yp-dal09-12.services.dal.bluemix.net:50000/BLUDB\n",
      "Done.\n"
     ]
    },
    {
     "output_type": "execute_result",
     "data": {
      "text/plain": [
       "[(Decimal('17'),)]"
      ],
      "text/html": "<table>\n    <tr>\n        <th>1</th>\n    </tr>\n    <tr>\n        <td>17</td>\n    </tr>\n</table>"
     },
     "metadata": {},
     "execution_count": 13
    }
   ],
   "source": [
    "%sql select count(*) from SYSCAT.COLUMNS where TABNAME='CARMAXREMODELED' "
   ]
  },
  {
   "cell_type": "code",
   "execution_count": 23,
   "metadata": {},
   "outputs": [
    {
     "output_type": "stream",
     "name": "stdout",
     "text": [
      " * ibm_db_sa://fnx28407:***@dashdb-txn-sbox-yp-dal09-12.services.dal.bluemix.net:50000/BLUDB\n",
      "Done.\n"
     ]
    },
    {
     "output_type": "execute_result",
     "data": {
      "text/plain": [
       "[(Decimal('83004'),)]"
      ],
      "text/html": "<table>\n    <tr>\n        <th>1</th>\n    </tr>\n    <tr>\n        <td>83004</td>\n    </tr>\n</table>"
     },
     "metadata": {},
     "execution_count": 23
    }
   ],
   "source": [
    "%sql select count(*) from CARMAXREMODELED where \"AgeBin\"='Twenties'"
   ]
  },
  {
   "cell_type": "code",
   "execution_count": 18,
   "metadata": {},
   "outputs": [
    {
     "output_type": "stream",
     "name": "stdout",
     "text": [
      " * ibm_db_sa://fnx28407:***@dashdb-txn-sbox-yp-dal09-12.services.dal.bluemix.net:50000/BLUDB\n",
      "Done.\n"
     ]
    },
    {
     "output_type": "execute_result",
     "data": {
      "text/plain": [
       "[('insert_num', 'INTEGER', 4),\n",
       " ('purchase_make', 'VARCHAR', 13),\n",
       " ('purchase_model', 'VARCHAR', 22),\n",
       " ('purchase_vehicle_year', 'SMALLINT', 2),\n",
       " ('purchase_price_LB', 'INTEGER', 4),\n",
       " ('purchase_price_UB', 'INTEGER', 4),\n",
       " ('trade_in', 'SMALLINT', 2),\n",
       " ('vehicle_financing', 'SMALLINT', 2),\n",
       " ('customer_age', 'VARCHAR', 8),\n",
       " ('customer_income', 'VARCHAR', 15),\n",
       " ('customer_gender', 'VARCHAR', 1),\n",
       " ('customer_previous_purchase', 'SMALLINT', 2),\n",
       " ('customer_distance_to_dealer', 'SMALLINT', 2),\n",
       " ('post_purchase_satisfaction', 'VARCHAR', 2),\n",
       " ('vehicle_warranty_used', 'SMALLINT', 2),\n",
       " ('subsequent_purchases', 'SMALLINT', 2),\n",
       " ('AgeBin', 'VARCHAR', 11)]"
      ],
      "text/html": "<table>\n    <tr>\n        <th>colname</th>\n        <th>typename</th>\n        <th>length</th>\n    </tr>\n    <tr>\n        <td>insert_num</td>\n        <td>INTEGER</td>\n        <td>4</td>\n    </tr>\n    <tr>\n        <td>purchase_make</td>\n        <td>VARCHAR</td>\n        <td>13</td>\n    </tr>\n    <tr>\n        <td>purchase_model</td>\n        <td>VARCHAR</td>\n        <td>22</td>\n    </tr>\n    <tr>\n        <td>purchase_vehicle_year</td>\n        <td>SMALLINT</td>\n        <td>2</td>\n    </tr>\n    <tr>\n        <td>purchase_price_LB</td>\n        <td>INTEGER</td>\n        <td>4</td>\n    </tr>\n    <tr>\n        <td>purchase_price_UB</td>\n        <td>INTEGER</td>\n        <td>4</td>\n    </tr>\n    <tr>\n        <td>trade_in</td>\n        <td>SMALLINT</td>\n        <td>2</td>\n    </tr>\n    <tr>\n        <td>vehicle_financing</td>\n        <td>SMALLINT</td>\n        <td>2</td>\n    </tr>\n    <tr>\n        <td>customer_age</td>\n        <td>VARCHAR</td>\n        <td>8</td>\n    </tr>\n    <tr>\n        <td>customer_income</td>\n        <td>VARCHAR</td>\n        <td>15</td>\n    </tr>\n    <tr>\n        <td>customer_gender</td>\n        <td>VARCHAR</td>\n        <td>1</td>\n    </tr>\n    <tr>\n        <td>customer_previous_purchase</td>\n        <td>SMALLINT</td>\n        <td>2</td>\n    </tr>\n    <tr>\n        <td>customer_distance_to_dealer</td>\n        <td>SMALLINT</td>\n        <td>2</td>\n    </tr>\n    <tr>\n        <td>post_purchase_satisfaction</td>\n        <td>VARCHAR</td>\n        <td>2</td>\n    </tr>\n    <tr>\n        <td>vehicle_warranty_used</td>\n        <td>SMALLINT</td>\n        <td>2</td>\n    </tr>\n    <tr>\n        <td>subsequent_purchases</td>\n        <td>SMALLINT</td>\n        <td>2</td>\n    </tr>\n    <tr>\n        <td>AgeBin</td>\n        <td>VARCHAR</td>\n        <td>11</td>\n    </tr>\n</table>"
     },
     "metadata": {},
     "execution_count": 18
    }
   ],
   "source": [
    "# type in your query to retrieve all column names in the SCHOOLS table along with their datatypes and length\n",
    "%sql select COLNAME, TYPENAME, LENGTH from SYSCAT.COLUMNS where TABNAME = 'CARMAXREMODELED'"
   ]
  },
  {
   "cell_type": "code",
   "execution_count": 25,
   "metadata": {},
   "outputs": [
    {
     "output_type": "stream",
     "name": "stdout",
     "text": [
      " * ibm_db_sa://fnx28407:***@dashdb-txn-sbox-yp-dal09-12.services.dal.bluemix.net:50000/BLUDB\n",
      "Done.\n"
     ]
    },
    {
     "output_type": "execute_result",
     "data": {
      "text/plain": [
       "[('AUDI',),\n",
       " ('BMW',),\n",
       " ('MERCEDES-BENZ',),\n",
       " ('PORSCHE',),\n",
       " ('PORSCHE',),\n",
       " ('LAND ROVER',),\n",
       " ('BENTLEY',),\n",
       " ('PORSCHE',),\n",
       " ('BMW',),\n",
       " ('PORSCHE',),\n",
       " ('PORSCHE',)]"
      ],
      "text/html": "<table>\n    <tr>\n        <th>purchase_make</th>\n    </tr>\n    <tr>\n        <td>AUDI</td>\n    </tr>\n    <tr>\n        <td>BMW</td>\n    </tr>\n    <tr>\n        <td>MERCEDES-BENZ</td>\n    </tr>\n    <tr>\n        <td>PORSCHE</td>\n    </tr>\n    <tr>\n        <td>PORSCHE</td>\n    </tr>\n    <tr>\n        <td>LAND ROVER</td>\n    </tr>\n    <tr>\n        <td>BENTLEY</td>\n    </tr>\n    <tr>\n        <td>PORSCHE</td>\n    </tr>\n    <tr>\n        <td>BMW</td>\n    </tr>\n    <tr>\n        <td>PORSCHE</td>\n    </tr>\n    <tr>\n        <td>PORSCHE</td>\n    </tr>\n</table>"
     },
     "metadata": {},
     "execution_count": 25
    }
   ],
   "source": [
    "%sql select \"purchase_make\" from CARMAXREMODELED order by \"purchase_price_UB\" desc nulls last LIMIT 11"
   ]
  },
  {
   "source": [
    "We can also save our results from these queries as dataframes "
   ],
   "cell_type": "markdown",
   "metadata": {}
  },
  {
   "cell_type": "code",
   "execution_count": 56,
   "metadata": {},
   "outputs": [
    {
     "output_type": "stream",
     "name": "stdout",
     "text": [
      " * ibm_db_sa://fnx28407:***@dashdb-txn-sbox-yp-dal09-12.services.dal.bluemix.net:50000/BLUDB\n",
      "Done.\n"
     ]
    }
   ],
   "source": [
    "# Top 20 sold cars\n",
    "Top_20 = %sql select \"purchase_make\",\"purchase_model\",\"purchase_vehicle_year\", count(*) as \"NumSold\" from CARMAXREMODELED GROUP BY \"purchase_make\",\"purchase_model\",\"purchase_vehicle_year\" ORDER BY count(*) desc LIMIT 20"
   ]
  },
  {
   "cell_type": "code",
   "execution_count": 57,
   "metadata": {},
   "outputs": [
    {
     "output_type": "stream",
     "name": "stdout",
     "text": [
      "<class 'sql.run.ResultSet'>\n"
     ]
    },
    {
     "output_type": "execute_result",
     "data": {
      "text/plain": [
       "pandas.core.frame.DataFrame"
      ]
     },
     "metadata": {},
     "execution_count": 57
    }
   ],
   "source": [
    "print(type(Top_20))\n",
    "Top_20 = Top_20.DataFrame()\n",
    "type(Top_20)"
   ]
  },
  {
   "cell_type": "code",
   "execution_count": 58,
   "metadata": {},
   "outputs": [
    {
     "output_type": "execute_result",
     "data": {
      "text/plain": [
       "   purchase_make purchase_model  purchase_vehicle_year NumSold\n",
       "0         NISSAN         ALTIMA                   2010    3439\n",
       "1         NISSAN         ALTIMA                   2012    3231\n",
       "2      CHEVROLET         MALIBU                   2012    2950\n",
       "3         TOYOTA          CAMRY                   2011    2915\n",
       "4          HONDA         ACCORD                   2010    2727\n",
       "5        HYUNDAI         SONATA                   2011    2602\n",
       "6         TOYOTA          CAMRY                   2010    2387\n",
       "7           FORD          FOCUS                   2012    2228\n",
       "8         TOYOTA        COROLLA                   2010    2127\n",
       "9          DODGE        AVENGER                   2012    2110\n",
       "10        NISSAN          VERSA                   2012    1988\n",
       "11     CHEVROLET         IMPALA                   2012    1781\n",
       "12        TOYOTA           RAV4                   2010    1778\n",
       "13        TOYOTA          PRIUS                   2010    1696\n",
       "14         HONDA          CIVIC                   2010    1645\n",
       "15        NISSAN          ROGUE                   2010    1590\n",
       "16        NISSAN         ALTIMA                   2011    1574\n",
       "17     CHEVROLET         MALIBU                   2011    1571\n",
       "18        NISSAN         MAXIMA                   2010    1551\n",
       "19          FORD         FUSION                   2011    1548"
      ],
      "text/html": "<div>\n<style scoped>\n    .dataframe tbody tr th:only-of-type {\n        vertical-align: middle;\n    }\n\n    .dataframe tbody tr th {\n        vertical-align: top;\n    }\n\n    .dataframe thead th {\n        text-align: right;\n    }\n</style>\n<table border=\"1\" class=\"dataframe\">\n  <thead>\n    <tr style=\"text-align: right;\">\n      <th></th>\n      <th>purchase_make</th>\n      <th>purchase_model</th>\n      <th>purchase_vehicle_year</th>\n      <th>NumSold</th>\n    </tr>\n  </thead>\n  <tbody>\n    <tr>\n      <th>0</th>\n      <td>NISSAN</td>\n      <td>ALTIMA</td>\n      <td>2010</td>\n      <td>3439</td>\n    </tr>\n    <tr>\n      <th>1</th>\n      <td>NISSAN</td>\n      <td>ALTIMA</td>\n      <td>2012</td>\n      <td>3231</td>\n    </tr>\n    <tr>\n      <th>2</th>\n      <td>CHEVROLET</td>\n      <td>MALIBU</td>\n      <td>2012</td>\n      <td>2950</td>\n    </tr>\n    <tr>\n      <th>3</th>\n      <td>TOYOTA</td>\n      <td>CAMRY</td>\n      <td>2011</td>\n      <td>2915</td>\n    </tr>\n    <tr>\n      <th>4</th>\n      <td>HONDA</td>\n      <td>ACCORD</td>\n      <td>2010</td>\n      <td>2727</td>\n    </tr>\n    <tr>\n      <th>5</th>\n      <td>HYUNDAI</td>\n      <td>SONATA</td>\n      <td>2011</td>\n      <td>2602</td>\n    </tr>\n    <tr>\n      <th>6</th>\n      <td>TOYOTA</td>\n      <td>CAMRY</td>\n      <td>2010</td>\n      <td>2387</td>\n    </tr>\n    <tr>\n      <th>7</th>\n      <td>FORD</td>\n      <td>FOCUS</td>\n      <td>2012</td>\n      <td>2228</td>\n    </tr>\n    <tr>\n      <th>8</th>\n      <td>TOYOTA</td>\n      <td>COROLLA</td>\n      <td>2010</td>\n      <td>2127</td>\n    </tr>\n    <tr>\n      <th>9</th>\n      <td>DODGE</td>\n      <td>AVENGER</td>\n      <td>2012</td>\n      <td>2110</td>\n    </tr>\n    <tr>\n      <th>10</th>\n      <td>NISSAN</td>\n      <td>VERSA</td>\n      <td>2012</td>\n      <td>1988</td>\n    </tr>\n    <tr>\n      <th>11</th>\n      <td>CHEVROLET</td>\n      <td>IMPALA</td>\n      <td>2012</td>\n      <td>1781</td>\n    </tr>\n    <tr>\n      <th>12</th>\n      <td>TOYOTA</td>\n      <td>RAV4</td>\n      <td>2010</td>\n      <td>1778</td>\n    </tr>\n    <tr>\n      <th>13</th>\n      <td>TOYOTA</td>\n      <td>PRIUS</td>\n      <td>2010</td>\n      <td>1696</td>\n    </tr>\n    <tr>\n      <th>14</th>\n      <td>HONDA</td>\n      <td>CIVIC</td>\n      <td>2010</td>\n      <td>1645</td>\n    </tr>\n    <tr>\n      <th>15</th>\n      <td>NISSAN</td>\n      <td>ROGUE</td>\n      <td>2010</td>\n      <td>1590</td>\n    </tr>\n    <tr>\n      <th>16</th>\n      <td>NISSAN</td>\n      <td>ALTIMA</td>\n      <td>2011</td>\n      <td>1574</td>\n    </tr>\n    <tr>\n      <th>17</th>\n      <td>CHEVROLET</td>\n      <td>MALIBU</td>\n      <td>2011</td>\n      <td>1571</td>\n    </tr>\n    <tr>\n      <th>18</th>\n      <td>NISSAN</td>\n      <td>MAXIMA</td>\n      <td>2010</td>\n      <td>1551</td>\n    </tr>\n    <tr>\n      <th>19</th>\n      <td>FORD</td>\n      <td>FUSION</td>\n      <td>2011</td>\n      <td>1548</td>\n    </tr>\n  </tbody>\n</table>\n</div>"
     },
     "metadata": {},
     "execution_count": 58
    }
   ],
   "source": [
    "Top_20"
   ]
  },
  {
   "source": [
    "## Retrieve data into Pandas \n",
    "\n",
    "In this step we will retrieve the contents of the table into a Pandas dataframe"
   ],
   "cell_type": "markdown",
   "metadata": {}
  },
  {
   "cell_type": "code",
   "execution_count": 27,
   "metadata": {},
   "outputs": [],
   "source": [
    "import pandas\n",
    "import ibm_db_dbi\n"
   ]
  },
  {
   "cell_type": "code",
   "execution_count": 28,
   "metadata": {},
   "outputs": [],
   "source": [
    "#connection for pandas\n",
    "pconn = ibm_db_dbi.Connection(conn)"
   ]
  },
  {
   "cell_type": "code",
   "execution_count": 29,
   "metadata": {},
   "outputs": [],
   "source": [
    "#query statement to retrieve all rows in INSTRUCTOR table\n",
    "selectQuery = \"select * from CARMAXREMODELED\"\n",
    "\n",
    "#retrieve the query results into a pandas dataframe\n",
    "pdf = pandas.read_sql(selectQuery, pconn)"
   ]
  },
  {
   "cell_type": "code",
   "execution_count": 30,
   "metadata": {},
   "outputs": [
    {
     "output_type": "execute_result",
     "data": {
      "text/plain": [
       "   insert_num purchase_make purchase_model  purchase_vehicle_year  \\\n",
       "0       81690         DODGE        CHARGER                   2012   \n",
       "1      109994          FORD           F150                   2007   \n",
       "2       11399           BMW            328                   2010   \n",
       "3      214156         LEXUS         GS 300                   2003   \n",
       "4       36685     CHEVROLET          CRUZE                   2012   \n",
       "\n",
       "   purchase_price_LB  purchase_price_UB  trade_in  vehicle_financing  \\\n",
       "0            15001.0            20000.0         1                  1   \n",
       "1            15001.0            20000.0         0                  0   \n",
       "2            25001.0            30000.0         1                  1   \n",
       "3            10001.0            15000.0         0                  1   \n",
       "4            15001.0            20000.0         1                  1   \n",
       "\n",
       "  customer_age  customer_income customer_gender  customer_previous_purchase  \\\n",
       "0      21 - 30    40001 - 60000               U                           0   \n",
       "1      51 - 60        0 - 20000               F                           1   \n",
       "2      41 - 50    60001 - 80000               F                           1   \n",
       "3      21 - 30    20001 - 40000               M                           0   \n",
       "4      31 - 40  120001 - 140000               M                           1   \n",
       "\n",
       "   customer_distance_to_dealer post_purchase_satisfaction  \\\n",
       "0                          8.0                          ?   \n",
       "1                         19.0                          ?   \n",
       "2                         21.0                          ?   \n",
       "3                          8.0                          ?   \n",
       "4                          5.0                          ?   \n",
       "\n",
       "   vehicle_warranty_used  subsequent_purchases    AgeBin  \n",
       "0                      0                     1  Twenties  \n",
       "1                      0                     0   Fifties  \n",
       "2                      0                     0   Forties  \n",
       "3                      0                     0  Twenties  \n",
       "4                      1                     1  Thirties  "
      ],
      "text/html": "<div>\n<style scoped>\n    .dataframe tbody tr th:only-of-type {\n        vertical-align: middle;\n    }\n\n    .dataframe tbody tr th {\n        vertical-align: top;\n    }\n\n    .dataframe thead th {\n        text-align: right;\n    }\n</style>\n<table border=\"1\" class=\"dataframe\">\n  <thead>\n    <tr style=\"text-align: right;\">\n      <th></th>\n      <th>insert_num</th>\n      <th>purchase_make</th>\n      <th>purchase_model</th>\n      <th>purchase_vehicle_year</th>\n      <th>purchase_price_LB</th>\n      <th>purchase_price_UB</th>\n      <th>trade_in</th>\n      <th>vehicle_financing</th>\n      <th>customer_age</th>\n      <th>customer_income</th>\n      <th>customer_gender</th>\n      <th>customer_previous_purchase</th>\n      <th>customer_distance_to_dealer</th>\n      <th>post_purchase_satisfaction</th>\n      <th>vehicle_warranty_used</th>\n      <th>subsequent_purchases</th>\n      <th>AgeBin</th>\n    </tr>\n  </thead>\n  <tbody>\n    <tr>\n      <th>0</th>\n      <td>81690</td>\n      <td>DODGE</td>\n      <td>CHARGER</td>\n      <td>2012</td>\n      <td>15001.0</td>\n      <td>20000.0</td>\n      <td>1</td>\n      <td>1</td>\n      <td>21 - 30</td>\n      <td>40001 - 60000</td>\n      <td>U</td>\n      <td>0</td>\n      <td>8.0</td>\n      <td>?</td>\n      <td>0</td>\n      <td>1</td>\n      <td>Twenties</td>\n    </tr>\n    <tr>\n      <th>1</th>\n      <td>109994</td>\n      <td>FORD</td>\n      <td>F150</td>\n      <td>2007</td>\n      <td>15001.0</td>\n      <td>20000.0</td>\n      <td>0</td>\n      <td>0</td>\n      <td>51 - 60</td>\n      <td>0 - 20000</td>\n      <td>F</td>\n      <td>1</td>\n      <td>19.0</td>\n      <td>?</td>\n      <td>0</td>\n      <td>0</td>\n      <td>Fifties</td>\n    </tr>\n    <tr>\n      <th>2</th>\n      <td>11399</td>\n      <td>BMW</td>\n      <td>328</td>\n      <td>2010</td>\n      <td>25001.0</td>\n      <td>30000.0</td>\n      <td>1</td>\n      <td>1</td>\n      <td>41 - 50</td>\n      <td>60001 - 80000</td>\n      <td>F</td>\n      <td>1</td>\n      <td>21.0</td>\n      <td>?</td>\n      <td>0</td>\n      <td>0</td>\n      <td>Forties</td>\n    </tr>\n    <tr>\n      <th>3</th>\n      <td>214156</td>\n      <td>LEXUS</td>\n      <td>GS 300</td>\n      <td>2003</td>\n      <td>10001.0</td>\n      <td>15000.0</td>\n      <td>0</td>\n      <td>1</td>\n      <td>21 - 30</td>\n      <td>20001 - 40000</td>\n      <td>M</td>\n      <td>0</td>\n      <td>8.0</td>\n      <td>?</td>\n      <td>0</td>\n      <td>0</td>\n      <td>Twenties</td>\n    </tr>\n    <tr>\n      <th>4</th>\n      <td>36685</td>\n      <td>CHEVROLET</td>\n      <td>CRUZE</td>\n      <td>2012</td>\n      <td>15001.0</td>\n      <td>20000.0</td>\n      <td>1</td>\n      <td>1</td>\n      <td>31 - 40</td>\n      <td>120001 - 140000</td>\n      <td>M</td>\n      <td>1</td>\n      <td>5.0</td>\n      <td>?</td>\n      <td>1</td>\n      <td>1</td>\n      <td>Thirties</td>\n    </tr>\n  </tbody>\n</table>\n</div>"
     },
     "metadata": {},
     "execution_count": 30
    }
   ],
   "source": [
    "pdf.head()"
   ]
  },
  {
   "cell_type": "code",
   "execution_count": 59,
   "metadata": {},
   "outputs": [
    {
     "output_type": "execute_result",
     "data": {
      "text/plain": [
       "True"
      ]
     },
     "metadata": {},
     "execution_count": 59
    }
   ],
   "source": [
    "ibm_db.close(conn)"
   ]
  },
  {
   "cell_type": "code",
   "execution_count": null,
   "metadata": {},
   "outputs": [],
   "source": []
  }
 ],
 "metadata": {
  "kernelspec": {
   "display_name": "Python 3",
   "language": "python",
   "name": "python3"
  },
  "language_info": {
   "codemirror_mode": {
    "name": "ipython",
    "version": 3
   },
   "file_extension": ".py",
   "mimetype": "text/x-python",
   "name": "python",
   "nbconvert_exporter": "python",
   "pygments_lexer": "ipython3",
   "version": "3.7.4-final"
  }
 },
 "nbformat": 4,
 "nbformat_minor": 2
}