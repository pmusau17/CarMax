{
 "metadata": {
  "language_info": {
   "codemirror_mode": {
    "name": "ipython",
    "version": 3
   },
   "file_extension": ".py",
   "mimetype": "text/x-python",
   "name": "python",
   "nbconvert_exporter": "python",
   "pygments_lexer": "ipython3",
   "version": "3.7.4-final"
  },
  "orig_nbformat": 2,
  "kernelspec": {
   "name": "python3",
   "display_name": "Python 3",
   "language": "python"
  }
 },
 "nbformat": 4,
 "nbformat_minor": 2,
 "cells": [
  {
   "cell_type": "code",
   "execution_count": 2,
   "metadata": {},
   "outputs": [],
   "source": [
    "# Load relevant packages\n",
    "import pandas as pd\n",
    "import numpy as np\n",
    "import matplotlib.pyplot as plt\n",
    "import seaborn as sns\n",
    "import statsmodels.formula.api as sm\n",
    "import warnings\n",
    "from sklearn.cluster import KMeans "
   ]
  },
  {
   "cell_type": "code",
   "execution_count": 118,
   "metadata": {},
   "outputs": [],
   "source": [
    "carmax_df = pd.read_csv('CaseDataRemodeled.csv')\n",
    "top10_df = pd.read_csv('Top10ByIncome.csv')"
   ]
  },
  {
   "cell_type": "code",
   "execution_count": 119,
   "metadata": {},
   "outputs": [],
   "source": [
    "carmax_df.drop(['insert_num','purchase_vehicle_year','subsequent_purchases','post_purchase_satisfaction','customer_previous_purchase'], axis=1, inplace=True)"
   ]
  },
  {
   "cell_type": "code",
   "execution_count": 181,
   "metadata": {},
   "outputs": [],
   "source": [
    "#carmax_df.columns\n",
    "#carmax_df.loc[carmax_df.groupby(['purchase_make', 'purchase_model','customer_gender'])[\"trade_in\"].idxmax()]  \n",
    "sextype = []\n",
    "for i in carmax_df.groupby(['purchase_make', 'purchase_model','customer_gender']).count().index:\n",
    "    sextype.append(i[2])"
   ]
  },
  {
   "cell_type": "code",
   "execution_count": 220,
   "metadata": {},
   "outputs": [
    {
     "output_type": "execute_result",
     "data": {
      "text/plain": [
       "                purchase_price_LB  purchase_price_UB  trade_in  \\\n",
       "purchase_model                                                   \n",
       "CL                             12                 12        12   \n",
       "ILX                            12                 12        12   \n",
       "ILX HYBRID                      2                  2         2   \n",
       "MDX                           543                543       543   \n",
       "RDX                           217                217       217   \n",
       "...                           ...                ...       ...   \n",
       "V50                            30                 30        30   \n",
       "V70                            17                 17        17   \n",
       "XC60                           91                 91        91   \n",
       "XC70                           44                 44        44   \n",
       "XC90                          154                154       154   \n",
       "\n",
       "                vehicle_financing  customer_age  customer_income  \\\n",
       "purchase_model                                                     \n",
       "CL                             12            12               12   \n",
       "ILX                            12            12               12   \n",
       "ILX HYBRID                      2             2                2   \n",
       "MDX                           543           543              543   \n",
       "RDX                           217           217              217   \n",
       "...                           ...           ...              ...   \n",
       "V50                            30            30               30   \n",
       "V70                            17            17               17   \n",
       "XC60                           91            91               91   \n",
       "XC70                           44            44               44   \n",
       "XC90                          154           154              154   \n",
       "\n",
       "                customer_distance_to_dealer  vehicle_warranty_used  AgeBin  \\\n",
       "purchase_model                                                               \n",
       "CL                                       12                     12      12   \n",
       "ILX                                      12                     12      12   \n",
       "ILX HYBRID                                2                      2       2   \n",
       "MDX                                     539                    543     543   \n",
       "RDX                                     215                    217     217   \n",
       "...                                     ...                    ...     ...   \n",
       "V50                                      30                     30      30   \n",
       "V70                                      16                     17      17   \n",
       "XC60                                     91                     91      91   \n",
       "XC70                                     44                     44      44   \n",
       "XC90                                    153                    154     154   \n",
       "\n",
       "                purchase_class  \n",
       "purchase_model                  \n",
       "CL                          12  \n",
       "ILX                         12  \n",
       "ILX HYBRID                   2  \n",
       "MDX                        543  \n",
       "RDX                        217  \n",
       "...                        ...  \n",
       "V50                         30  \n",
       "V70                         17  \n",
       "XC60                        91  \n",
       "XC70                        44  \n",
       "XC90                       154  \n",
       "\n",
       "[639 rows x 10 columns]"
      ],
      "text/html": "<div>\n<style scoped>\n    .dataframe tbody tr th:only-of-type {\n        vertical-align: middle;\n    }\n\n    .dataframe tbody tr th {\n        vertical-align: top;\n    }\n\n    .dataframe thead th {\n        text-align: right;\n    }\n</style>\n<table border=\"1\" class=\"dataframe\">\n  <thead>\n    <tr style=\"text-align: right;\">\n      <th></th>\n      <th>purchase_price_LB</th>\n      <th>purchase_price_UB</th>\n      <th>trade_in</th>\n      <th>vehicle_financing</th>\n      <th>customer_age</th>\n      <th>customer_income</th>\n      <th>customer_distance_to_dealer</th>\n      <th>vehicle_warranty_used</th>\n      <th>AgeBin</th>\n      <th>purchase_class</th>\n    </tr>\n    <tr>\n      <th>purchase_model</th>\n      <th></th>\n      <th></th>\n      <th></th>\n      <th></th>\n      <th></th>\n      <th></th>\n      <th></th>\n      <th></th>\n      <th></th>\n      <th></th>\n    </tr>\n  </thead>\n  <tbody>\n    <tr>\n      <th>CL</th>\n      <td>12</td>\n      <td>12</td>\n      <td>12</td>\n      <td>12</td>\n      <td>12</td>\n      <td>12</td>\n      <td>12</td>\n      <td>12</td>\n      <td>12</td>\n      <td>12</td>\n    </tr>\n    <tr>\n      <th>ILX</th>\n      <td>12</td>\n      <td>12</td>\n      <td>12</td>\n      <td>12</td>\n      <td>12</td>\n      <td>12</td>\n      <td>12</td>\n      <td>12</td>\n      <td>12</td>\n      <td>12</td>\n    </tr>\n    <tr>\n      <th>ILX HYBRID</th>\n      <td>2</td>\n      <td>2</td>\n      <td>2</td>\n      <td>2</td>\n      <td>2</td>\n      <td>2</td>\n      <td>2</td>\n      <td>2</td>\n      <td>2</td>\n      <td>2</td>\n    </tr>\n    <tr>\n      <th>MDX</th>\n      <td>543</td>\n      <td>543</td>\n      <td>543</td>\n      <td>543</td>\n      <td>543</td>\n      <td>543</td>\n      <td>539</td>\n      <td>543</td>\n      <td>543</td>\n      <td>543</td>\n    </tr>\n    <tr>\n      <th>RDX</th>\n      <td>217</td>\n      <td>217</td>\n      <td>217</td>\n      <td>217</td>\n      <td>217</td>\n      <td>217</td>\n      <td>215</td>\n      <td>217</td>\n      <td>217</td>\n      <td>217</td>\n    </tr>\n    <tr>\n      <th>...</th>\n      <td>...</td>\n      <td>...</td>\n      <td>...</td>\n      <td>...</td>\n      <td>...</td>\n      <td>...</td>\n      <td>...</td>\n      <td>...</td>\n      <td>...</td>\n      <td>...</td>\n    </tr>\n    <tr>\n      <th>V50</th>\n      <td>30</td>\n      <td>30</td>\n      <td>30</td>\n      <td>30</td>\n      <td>30</td>\n      <td>30</td>\n      <td>30</td>\n      <td>30</td>\n      <td>30</td>\n      <td>30</td>\n    </tr>\n    <tr>\n      <th>V70</th>\n      <td>17</td>\n      <td>17</td>\n      <td>17</td>\n      <td>17</td>\n      <td>17</td>\n      <td>17</td>\n      <td>16</td>\n      <td>17</td>\n      <td>17</td>\n      <td>17</td>\n    </tr>\n    <tr>\n      <th>XC60</th>\n      <td>91</td>\n      <td>91</td>\n      <td>91</td>\n      <td>91</td>\n      <td>91</td>\n      <td>91</td>\n      <td>91</td>\n      <td>91</td>\n      <td>91</td>\n      <td>91</td>\n    </tr>\n    <tr>\n      <th>XC70</th>\n      <td>44</td>\n      <td>44</td>\n      <td>44</td>\n      <td>44</td>\n      <td>44</td>\n      <td>44</td>\n      <td>44</td>\n      <td>44</td>\n      <td>44</td>\n      <td>44</td>\n    </tr>\n    <tr>\n      <th>XC90</th>\n      <td>154</td>\n      <td>154</td>\n      <td>154</td>\n      <td>154</td>\n      <td>154</td>\n      <td>154</td>\n      <td>153</td>\n      <td>154</td>\n      <td>154</td>\n      <td>154</td>\n    </tr>\n  </tbody>\n</table>\n<p>639 rows × 10 columns</p>\n</div>"
     },
     "metadata": {},
     "execution_count": 220
    }
   ],
   "source": [
    "carmax_df.groupby(['purchase_make', 'purchase_model','customer_gender']).count().max(level=1)"
   ]
  },
  {
   "cell_type": "code",
   "execution_count": 224,
   "metadata": {},
   "outputs": [],
   "source": [
    "max_by_gender = carmax_df.groupby(['purchase_make', 'purchase_model','customer_gender']).count().reset_index().rename(columns={'trade_in':\"count\"})\n",
    "max_by_gender = max_by_gender[['purchase_make', 'purchase_model','customer_gender','count']]\n",
    "#max_by_gender.groupby(['purchase_make', 'purchase_model','customer_gender']).apply(lambda x: x.nlargest(1, \"count\")).reset_index(drop=True)\n",
    "max_by_gender = max_by_gender.groupby(['purchase_model']).apply(lambda x: x.nlargest(1, \"count\")).reset_index(drop=True)"
   ]
  },
  {
   "cell_type": "code",
   "execution_count": 234,
   "metadata": {},
   "outputs": [],
   "source": [
    "pd.set_option(\"display.max_rows\", 20, \"display.max_columns\", None)"
   ]
  },
  {
   "cell_type": "code",
   "execution_count": 235,
   "metadata": {},
   "outputs": [
    {
     "output_type": "execute_result",
     "data": {
      "text/plain": [
       "    purchase_make purchase_model customer_gender  count\n",
       "3        CHRYSLER            200               F    786\n",
       "9             BMW            320               F      2\n",
       "14            BMW     335 HYBRID               F      1\n",
       "19           FIAT            500               F    412\n",
       "27          MAZDA            626               F      2\n",
       "..            ...            ...             ...    ...\n",
       "611         VOLVO           XC90               F    154\n",
       "612         SCION             XD               F    165\n",
       "614       HYUNDAI          XG350               F     16\n",
       "621        SUZUKI           XL-7               F     66\n",
       "626        TOYOTA          YARIS               F    821\n",
       "\n",
       "[164 rows x 4 columns]"
      ],
      "text/html": "<div>\n<style scoped>\n    .dataframe tbody tr th:only-of-type {\n        vertical-align: middle;\n    }\n\n    .dataframe tbody tr th {\n        vertical-align: top;\n    }\n\n    .dataframe thead th {\n        text-align: right;\n    }\n</style>\n<table border=\"1\" class=\"dataframe\">\n  <thead>\n    <tr style=\"text-align: right;\">\n      <th></th>\n      <th>purchase_make</th>\n      <th>purchase_model</th>\n      <th>customer_gender</th>\n      <th>count</th>\n    </tr>\n  </thead>\n  <tbody>\n    <tr>\n      <th>3</th>\n      <td>CHRYSLER</td>\n      <td>200</td>\n      <td>F</td>\n      <td>786</td>\n    </tr>\n    <tr>\n      <th>9</th>\n      <td>BMW</td>\n      <td>320</td>\n      <td>F</td>\n      <td>2</td>\n    </tr>\n    <tr>\n      <th>14</th>\n      <td>BMW</td>\n      <td>335 HYBRID</td>\n      <td>F</td>\n      <td>1</td>\n    </tr>\n    <tr>\n      <th>19</th>\n      <td>FIAT</td>\n      <td>500</td>\n      <td>F</td>\n      <td>412</td>\n    </tr>\n    <tr>\n      <th>27</th>\n      <td>MAZDA</td>\n      <td>626</td>\n      <td>F</td>\n      <td>2</td>\n    </tr>\n    <tr>\n      <th>...</th>\n      <td>...</td>\n      <td>...</td>\n      <td>...</td>\n      <td>...</td>\n    </tr>\n    <tr>\n      <th>611</th>\n      <td>VOLVO</td>\n      <td>XC90</td>\n      <td>F</td>\n      <td>154</td>\n    </tr>\n    <tr>\n      <th>612</th>\n      <td>SCION</td>\n      <td>XD</td>\n      <td>F</td>\n      <td>165</td>\n    </tr>\n    <tr>\n      <th>614</th>\n      <td>HYUNDAI</td>\n      <td>XG350</td>\n      <td>F</td>\n      <td>16</td>\n    </tr>\n    <tr>\n      <th>621</th>\n      <td>SUZUKI</td>\n      <td>XL-7</td>\n      <td>F</td>\n      <td>66</td>\n    </tr>\n    <tr>\n      <th>626</th>\n      <td>TOYOTA</td>\n      <td>YARIS</td>\n      <td>F</td>\n      <td>821</td>\n    </tr>\n  </tbody>\n</table>\n<p>164 rows × 4 columns</p>\n</div>"
     },
     "metadata": {},
     "execution_count": 235
    }
   ],
   "source": [
    "max_by_gender[max_by_gender['customer_gender'] == 'F']"
   ]
  },
  {
   "cell_type": "code",
   "execution_count": 227,
   "metadata": {},
   "outputs": [
    {
     "output_type": "error",
     "ename": "NameError",
     "evalue": "name 'gender_max_by' is not defined",
     "traceback": [
      "\u001b[0;31m---------------------------------------------------------------------------\u001b[0m",
      "\u001b[0;31mNameError\u001b[0m                                 Traceback (most recent call last)",
      "\u001b[0;32m<ipython-input-227-af1190e0e2a1>\u001b[0m in \u001b[0;36m<module>\u001b[0;34m\u001b[0m\n\u001b[0;32m----> 1\u001b[0;31m \u001b[0mgender_max_by\u001b[0m\u001b[0;34m\u001b[0m\u001b[0;34m\u001b[0m\u001b[0m\n\u001b[0m",
      "\u001b[0;31mNameError\u001b[0m: name 'gender_max_by' is not defined"
     ]
    }
   ],
   "source": [
    "gender_max_by"
   ]
  },
  {
   "cell_type": "code",
   "execution_count": null,
   "metadata": {},
   "outputs": [],
   "source": []
  }
 ]
}