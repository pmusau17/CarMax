{
 "cells": [
  {
   "cell_type": "code",
   "execution_count": 1,
   "metadata": {},
   "outputs": [],
   "source": [
    "# Load relevant packages\n",
    "import pandas as pd\n",
    "import numpy as np\n",
    "import matplotlib.pyplot as plt\n",
    "import seaborn as sns\n",
    "import statsmodels.formula.api as sm\n",
    "import warnings\n",
    "from sklearn.cluster import KMeans \n",
    "from sklearn.datasets.samples_generator import make_blobs"
   ]
  },
  {
   "cell_type": "code",
   "execution_count": 5,
   "metadata": {},
   "outputs": [],
   "source": [
    "## load data set\n",
    "carmax_df = pd.read_csv('CaseCompetitionData2021.csv')\n",
    "top10_df = pd.read_csv('Top10ByIncome.csv')"
   ]
  },
  {
   "source": [
    "## Time to Cluster - Gonna use k-means initially \n",
    "\n",
    "\n"
   ],
   "cell_type": "markdown",
   "metadata": {}
  },
  {
   "source": [
    "In general, we can cluster observations on the basis of the features in order to identify subgroups among the observations, or we can cluster fea- tures on the basis of the observations in order to discover subgroups among the features. In what follows, for simplicity we will discuss clustering obser- vations on the basis of the features, though the converse can be performed by simply transposing the data matrix."
   ],
   "cell_type": "markdown",
   "metadata": {}
  },
  {
   "cell_type": "code",
   "execution_count": 12,
   "metadata": {},
   "outputs": [],
   "source": [
    "top10_df.columns\n",
    "top10_df = top10_df.drop('Unnamed: 0', axis=1)"
   ]
  },
  {
   "cell_type": "code",
   "execution_count": 34,
   "metadata": {},
   "outputs": [
    {
     "output_type": "execute_result",
     "data": {
      "text/plain": [
       "0        CAMRY\n",
       "1       ALTIMA\n",
       "2      COROLLA\n",
       "3       MALIBU\n",
       "4       ACCORD\n",
       "        ...   \n",
       "115     ACCORD\n",
       "116    COROLLA\n",
       "117      CIVIC\n",
       "118       CR-V\n",
       "119      FOCUS\n",
       "Name: purchase_model, Length: 120, dtype: object"
      ]
     },
     "metadata": {},
     "execution_count": 34
    }
   ],
   "source": [
    "top10_df['purchase_model']"
   ]
  },
  {
   "cell_type": "code",
   "execution_count": 91,
   "metadata": {},
   "outputs": [],
   "source": [
    "cluster_df = carmax_df[carmax_df['purchase_model'].isin(list(set(top10_df['purchase_model'])))]\n",
    "cluster_df = cluster_df.drop('insert_num', axis=1)"
   ]
  },
  {
   "cell_type": "code",
   "execution_count": 92,
   "metadata": {},
   "outputs": [
    {
     "output_type": "execute_result",
     "data": {
      "text/plain": [
       "       purchase_make purchase_model  purchase_vehicle_year purchase_price  \\\n",
       "1               FORD           F150                   2007  15001 - 20000   \n",
       "2                BMW            328                   2010  25001 - 30000   \n",
       "5             NISSAN         ALTIMA                   2009  15001 - 20000   \n",
       "8               FORD         ESCAPE                   2010  15001 - 20000   \n",
       "10            NISSAN         SENTRA                   2009  10001 - 15000   \n",
       "...              ...            ...                    ...            ...   \n",
       "355854          FORD          FOCUS                   2013  20001 - 25000   \n",
       "355860       HYUNDAI         SONATA                   2011  20001 - 25000   \n",
       "355864         HONDA         ACCORD                   2007  15001 - 20000   \n",
       "355866        TOYOTA           RAV4                   2011  20001 - 25000   \n",
       "355873     CHEVROLET         MALIBU                   2012  15001 - 20000   \n",
       "\n",
       "        trade_in  vehicle_financing customer_age  customer_income  \\\n",
       "1              0                  0      51 - 60        0 - 20000   \n",
       "2              1                  1      41 - 50    60001 - 80000   \n",
       "5              1                  1      21 - 30    60001 - 80000   \n",
       "8              1                  1      41 - 50    40001 - 60000   \n",
       "10             0                  1      61 - 70    20001 - 40000   \n",
       "...          ...                ...          ...              ...   \n",
       "355854         1                  1      31 - 40  100001 - 120000   \n",
       "355860         1                  0      41 - 50                ?   \n",
       "355864         0                  1      21 - 30    20001 - 40000   \n",
       "355866         1                  1      51 - 60    40001 - 60000   \n",
       "355873         1                  1      31 - 40                ?   \n",
       "\n",
       "       customer_gender  customer_previous_purchase  \\\n",
       "1                    F                           1   \n",
       "2                    F                           1   \n",
       "5                    U                           0   \n",
       "8                    U                           1   \n",
       "10                   U                           0   \n",
       "...                ...                         ...   \n",
       "355854               M                           1   \n",
       "355860               M                           0   \n",
       "355864               F                           0   \n",
       "355866               F                           1   \n",
       "355873               M                           0   \n",
       "\n",
       "       customer_distance_to_dealer post_purchase_satisfaction  \\\n",
       "1                               19                          ?   \n",
       "2                               21                          ?   \n",
       "5                                2                          ?   \n",
       "8                               14                          ?   \n",
       "10                               ?                          ?   \n",
       "...                            ...                        ...   \n",
       "355854                           4                          ?   \n",
       "355860                           7                          ?   \n",
       "355864                          12                          ?   \n",
       "355866                           3                          ?   \n",
       "355873                           9                          ?   \n",
       "\n",
       "        vehicle_warranty_used  subsequent_purchases  \n",
       "1                           0                     0  \n",
       "2                           0                     0  \n",
       "5                           1                     1  \n",
       "8                           1                     0  \n",
       "10                          0                     1  \n",
       "...                       ...                   ...  \n",
       "355854                      0                     2  \n",
       "355860                      0                     1  \n",
       "355864                      0                     0  \n",
       "355866                      0                     0  \n",
       "355873                      0                     0  \n",
       "\n",
       "[137788 rows x 14 columns]"
      ],
      "text/html": "<div>\n<style scoped>\n    .dataframe tbody tr th:only-of-type {\n        vertical-align: middle;\n    }\n\n    .dataframe tbody tr th {\n        vertical-align: top;\n    }\n\n    .dataframe thead th {\n        text-align: right;\n    }\n</style>\n<table border=\"1\" class=\"dataframe\">\n  <thead>\n    <tr style=\"text-align: right;\">\n      <th></th>\n      <th>purchase_make</th>\n      <th>purchase_model</th>\n      <th>purchase_vehicle_year</th>\n      <th>purchase_price</th>\n      <th>trade_in</th>\n      <th>vehicle_financing</th>\n      <th>customer_age</th>\n      <th>customer_income</th>\n      <th>customer_gender</th>\n      <th>customer_previous_purchase</th>\n      <th>customer_distance_to_dealer</th>\n      <th>post_purchase_satisfaction</th>\n      <th>vehicle_warranty_used</th>\n      <th>subsequent_purchases</th>\n    </tr>\n  </thead>\n  <tbody>\n    <tr>\n      <th>1</th>\n      <td>FORD</td>\n      <td>F150</td>\n      <td>2007</td>\n      <td>15001 - 20000</td>\n      <td>0</td>\n      <td>0</td>\n      <td>51 - 60</td>\n      <td>0 - 20000</td>\n      <td>F</td>\n      <td>1</td>\n      <td>19</td>\n      <td>?</td>\n      <td>0</td>\n      <td>0</td>\n    </tr>\n    <tr>\n      <th>2</th>\n      <td>BMW</td>\n      <td>328</td>\n      <td>2010</td>\n      <td>25001 - 30000</td>\n      <td>1</td>\n      <td>1</td>\n      <td>41 - 50</td>\n      <td>60001 - 80000</td>\n      <td>F</td>\n      <td>1</td>\n      <td>21</td>\n      <td>?</td>\n      <td>0</td>\n      <td>0</td>\n    </tr>\n    <tr>\n      <th>5</th>\n      <td>NISSAN</td>\n      <td>ALTIMA</td>\n      <td>2009</td>\n      <td>15001 - 20000</td>\n      <td>1</td>\n      <td>1</td>\n      <td>21 - 30</td>\n      <td>60001 - 80000</td>\n      <td>U</td>\n      <td>0</td>\n      <td>2</td>\n      <td>?</td>\n      <td>1</td>\n      <td>1</td>\n    </tr>\n    <tr>\n      <th>8</th>\n      <td>FORD</td>\n      <td>ESCAPE</td>\n      <td>2010</td>\n      <td>15001 - 20000</td>\n      <td>1</td>\n      <td>1</td>\n      <td>41 - 50</td>\n      <td>40001 - 60000</td>\n      <td>U</td>\n      <td>1</td>\n      <td>14</td>\n      <td>?</td>\n      <td>1</td>\n      <td>0</td>\n    </tr>\n    <tr>\n      <th>10</th>\n      <td>NISSAN</td>\n      <td>SENTRA</td>\n      <td>2009</td>\n      <td>10001 - 15000</td>\n      <td>0</td>\n      <td>1</td>\n      <td>61 - 70</td>\n      <td>20001 - 40000</td>\n      <td>U</td>\n      <td>0</td>\n      <td>?</td>\n      <td>?</td>\n      <td>0</td>\n      <td>1</td>\n    </tr>\n    <tr>\n      <th>...</th>\n      <td>...</td>\n      <td>...</td>\n      <td>...</td>\n      <td>...</td>\n      <td>...</td>\n      <td>...</td>\n      <td>...</td>\n      <td>...</td>\n      <td>...</td>\n      <td>...</td>\n      <td>...</td>\n      <td>...</td>\n      <td>...</td>\n      <td>...</td>\n    </tr>\n    <tr>\n      <th>355854</th>\n      <td>FORD</td>\n      <td>FOCUS</td>\n      <td>2013</td>\n      <td>20001 - 25000</td>\n      <td>1</td>\n      <td>1</td>\n      <td>31 - 40</td>\n      <td>100001 - 120000</td>\n      <td>M</td>\n      <td>1</td>\n      <td>4</td>\n      <td>?</td>\n      <td>0</td>\n      <td>2</td>\n    </tr>\n    <tr>\n      <th>355860</th>\n      <td>HYUNDAI</td>\n      <td>SONATA</td>\n      <td>2011</td>\n      <td>20001 - 25000</td>\n      <td>1</td>\n      <td>0</td>\n      <td>41 - 50</td>\n      <td>?</td>\n      <td>M</td>\n      <td>0</td>\n      <td>7</td>\n      <td>?</td>\n      <td>0</td>\n      <td>1</td>\n    </tr>\n    <tr>\n      <th>355864</th>\n      <td>HONDA</td>\n      <td>ACCORD</td>\n      <td>2007</td>\n      <td>15001 - 20000</td>\n      <td>0</td>\n      <td>1</td>\n      <td>21 - 30</td>\n      <td>20001 - 40000</td>\n      <td>F</td>\n      <td>0</td>\n      <td>12</td>\n      <td>?</td>\n      <td>0</td>\n      <td>0</td>\n    </tr>\n    <tr>\n      <th>355866</th>\n      <td>TOYOTA</td>\n      <td>RAV4</td>\n      <td>2011</td>\n      <td>20001 - 25000</td>\n      <td>1</td>\n      <td>1</td>\n      <td>51 - 60</td>\n      <td>40001 - 60000</td>\n      <td>F</td>\n      <td>1</td>\n      <td>3</td>\n      <td>?</td>\n      <td>0</td>\n      <td>0</td>\n    </tr>\n    <tr>\n      <th>355873</th>\n      <td>CHEVROLET</td>\n      <td>MALIBU</td>\n      <td>2012</td>\n      <td>15001 - 20000</td>\n      <td>1</td>\n      <td>1</td>\n      <td>31 - 40</td>\n      <td>?</td>\n      <td>M</td>\n      <td>0</td>\n      <td>9</td>\n      <td>?</td>\n      <td>0</td>\n      <td>0</td>\n    </tr>\n  </tbody>\n</table>\n<p>137788 rows × 14 columns</p>\n</div>"
     },
     "metadata": {},
     "execution_count": 92
    }
   ],
   "source": [
    "cluster_df"
   ]
  },
  {
   "cell_type": "code",
   "execution_count": 93,
   "metadata": {},
   "outputs": [
    {
     "output_type": "execute_result",
     "data": {
      "text/plain": [
       "30"
      ]
     },
     "metadata": {},
     "execution_count": 93
    }
   ],
   "source": [
    "len(list(set(top10_df['purchase_model'])))"
   ]
  },
  {
   "cell_type": "code",
   "execution_count": 94,
   "metadata": {},
   "outputs": [
    {
     "output_type": "execute_result",
     "data": {
      "text/plain": [
       "purchase_make                  object\n",
       "purchase_model                 object\n",
       "purchase_vehicle_year           int64\n",
       "purchase_price                 object\n",
       "trade_in                        int64\n",
       "vehicle_financing               int64\n",
       "customer_age                   object\n",
       "customer_income                object\n",
       "customer_gender                object\n",
       "customer_previous_purchase      int64\n",
       "customer_distance_to_dealer    object\n",
       "post_purchase_satisfaction     object\n",
       "vehicle_warranty_used           int64\n",
       "subsequent_purchases            int64\n",
       "dtype: object"
      ]
     },
     "metadata": {},
     "execution_count": 94
    }
   ],
   "source": [
    "cluster_df.dtypes"
   ]
  },
  {
   "cell_type": "code",
   "execution_count": 95,
   "metadata": {},
   "outputs": [],
   "source": [
    "for i in cluster_df.columns:\n",
    "    if cluster_df[i].dtype == 'object':\n",
    "        classes = cluster_df[i]\n",
    "        classnames, factorval = np.unique(classes, return_inverse = True)\n",
    "        cluster_df[i] = factorval"
   ]
  },
  {
   "cell_type": "code",
   "execution_count": 96,
   "metadata": {},
   "outputs": [
    {
     "output_type": "execute_result",
     "data": {
      "text/plain": [
       "purchase_make                  int64\n",
       "purchase_model                 int64\n",
       "purchase_vehicle_year          int64\n",
       "purchase_price                 int64\n",
       "trade_in                       int64\n",
       "vehicle_financing              int64\n",
       "customer_age                   int64\n",
       "customer_income                int64\n",
       "customer_gender                int64\n",
       "customer_previous_purchase     int64\n",
       "customer_distance_to_dealer    int64\n",
       "post_purchase_satisfaction     int64\n",
       "vehicle_warranty_used          int64\n",
       "subsequent_purchases           int64\n",
       "dtype: object"
      ]
     },
     "metadata": {},
     "execution_count": 96
    }
   ],
   "source": [
    "cluster_df.dtypes"
   ]
  },
  {
   "cell_type": "code",
   "execution_count": 97,
   "metadata": {},
   "outputs": [
    {
     "output_type": "execute_result",
     "data": {
      "text/plain": [
       "        purchase_make  purchase_model  purchase_vehicle_year  purchase_price  \\\n",
       "1                   3              12                   2007               1   \n",
       "2                   0               0                   2010               3   \n",
       "5                   9               2                   2009               1   \n",
       "8                   3              11                   2010               1   \n",
       "10                  9              23                   2009               0   \n",
       "...               ...             ...                    ...             ...   \n",
       "355854              3              13                   2013               2   \n",
       "355860              5              25                   2011               2   \n",
       "355864              4               1                   2007               1   \n",
       "355866             10              21                   2011               2   \n",
       "355873              1              17                   2012               1   \n",
       "\n",
       "        trade_in  vehicle_financing  customer_age  customer_income  \\\n",
       "1              0                  0             5                0   \n",
       "2              1                  1             4                9   \n",
       "5              1                  1             2                9   \n",
       "8              1                  1             4                8   \n",
       "10             0                  1             6                7   \n",
       "...          ...                ...           ...              ...   \n",
       "355854         1                  1             3                1   \n",
       "355860         1                  0             4               11   \n",
       "355864         0                  1             2                7   \n",
       "355866         1                  1             5                8   \n",
       "355873         1                  1             3               11   \n",
       "\n",
       "        customer_gender  customer_previous_purchase  \\\n",
       "1                     0                           1   \n",
       "2                     0                           1   \n",
       "5                     2                           0   \n",
       "8                     2                           1   \n",
       "10                    2                           0   \n",
       "...                 ...                         ...   \n",
       "355854                1                           1   \n",
       "355860                1                           0   \n",
       "355864                0                           0   \n",
       "355866                0                           1   \n",
       "355873                1                           0   \n",
       "\n",
       "        customer_distance_to_dealer  post_purchase_satisfaction  \\\n",
       "1                               116                          10   \n",
       "2                               135                          10   \n",
       "5                               127                          10   \n",
       "8                                46                          10   \n",
       "10                              320                          10   \n",
       "...                             ...                         ...   \n",
       "355854                          231                          10   \n",
       "355860                          286                          10   \n",
       "355864                           24                          10   \n",
       "355866                          212                          10   \n",
       "355873                          308                          10   \n",
       "\n",
       "        vehicle_warranty_used  subsequent_purchases  \n",
       "1                           0                     0  \n",
       "2                           0                     0  \n",
       "5                           1                     1  \n",
       "8                           1                     0  \n",
       "10                          0                     1  \n",
       "...                       ...                   ...  \n",
       "355854                      0                     2  \n",
       "355860                      0                     1  \n",
       "355864                      0                     0  \n",
       "355866                      0                     0  \n",
       "355873                      0                     0  \n",
       "\n",
       "[137788 rows x 14 columns]"
      ],
      "text/html": "<div>\n<style scoped>\n    .dataframe tbody tr th:only-of-type {\n        vertical-align: middle;\n    }\n\n    .dataframe tbody tr th {\n        vertical-align: top;\n    }\n\n    .dataframe thead th {\n        text-align: right;\n    }\n</style>\n<table border=\"1\" class=\"dataframe\">\n  <thead>\n    <tr style=\"text-align: right;\">\n      <th></th>\n      <th>purchase_make</th>\n      <th>purchase_model</th>\n      <th>purchase_vehicle_year</th>\n      <th>purchase_price</th>\n      <th>trade_in</th>\n      <th>vehicle_financing</th>\n      <th>customer_age</th>\n      <th>customer_income</th>\n      <th>customer_gender</th>\n      <th>customer_previous_purchase</th>\n      <th>customer_distance_to_dealer</th>\n      <th>post_purchase_satisfaction</th>\n      <th>vehicle_warranty_used</th>\n      <th>subsequent_purchases</th>\n    </tr>\n  </thead>\n  <tbody>\n    <tr>\n      <th>1</th>\n      <td>3</td>\n      <td>12</td>\n      <td>2007</td>\n      <td>1</td>\n      <td>0</td>\n      <td>0</td>\n      <td>5</td>\n      <td>0</td>\n      <td>0</td>\n      <td>1</td>\n      <td>116</td>\n      <td>10</td>\n      <td>0</td>\n      <td>0</td>\n    </tr>\n    <tr>\n      <th>2</th>\n      <td>0</td>\n      <td>0</td>\n      <td>2010</td>\n      <td>3</td>\n      <td>1</td>\n      <td>1</td>\n      <td>4</td>\n      <td>9</td>\n      <td>0</td>\n      <td>1</td>\n      <td>135</td>\n      <td>10</td>\n      <td>0</td>\n      <td>0</td>\n    </tr>\n    <tr>\n      <th>5</th>\n      <td>9</td>\n      <td>2</td>\n      <td>2009</td>\n      <td>1</td>\n      <td>1</td>\n      <td>1</td>\n      <td>2</td>\n      <td>9</td>\n      <td>2</td>\n      <td>0</td>\n      <td>127</td>\n      <td>10</td>\n      <td>1</td>\n      <td>1</td>\n    </tr>\n    <tr>\n      <th>8</th>\n      <td>3</td>\n      <td>11</td>\n      <td>2010</td>\n      <td>1</td>\n      <td>1</td>\n      <td>1</td>\n      <td>4</td>\n      <td>8</td>\n      <td>2</td>\n      <td>1</td>\n      <td>46</td>\n      <td>10</td>\n      <td>1</td>\n      <td>0</td>\n    </tr>\n    <tr>\n      <th>10</th>\n      <td>9</td>\n      <td>23</td>\n      <td>2009</td>\n      <td>0</td>\n      <td>0</td>\n      <td>1</td>\n      <td>6</td>\n      <td>7</td>\n      <td>2</td>\n      <td>0</td>\n      <td>320</td>\n      <td>10</td>\n      <td>0</td>\n      <td>1</td>\n    </tr>\n    <tr>\n      <th>...</th>\n      <td>...</td>\n      <td>...</td>\n      <td>...</td>\n      <td>...</td>\n      <td>...</td>\n      <td>...</td>\n      <td>...</td>\n      <td>...</td>\n      <td>...</td>\n      <td>...</td>\n      <td>...</td>\n      <td>...</td>\n      <td>...</td>\n      <td>...</td>\n    </tr>\n    <tr>\n      <th>355854</th>\n      <td>3</td>\n      <td>13</td>\n      <td>2013</td>\n      <td>2</td>\n      <td>1</td>\n      <td>1</td>\n      <td>3</td>\n      <td>1</td>\n      <td>1</td>\n      <td>1</td>\n      <td>231</td>\n      <td>10</td>\n      <td>0</td>\n      <td>2</td>\n    </tr>\n    <tr>\n      <th>355860</th>\n      <td>5</td>\n      <td>25</td>\n      <td>2011</td>\n      <td>2</td>\n      <td>1</td>\n      <td>0</td>\n      <td>4</td>\n      <td>11</td>\n      <td>1</td>\n      <td>0</td>\n      <td>286</td>\n      <td>10</td>\n      <td>0</td>\n      <td>1</td>\n    </tr>\n    <tr>\n      <th>355864</th>\n      <td>4</td>\n      <td>1</td>\n      <td>2007</td>\n      <td>1</td>\n      <td>0</td>\n      <td>1</td>\n      <td>2</td>\n      <td>7</td>\n      <td>0</td>\n      <td>0</td>\n      <td>24</td>\n      <td>10</td>\n      <td>0</td>\n      <td>0</td>\n    </tr>\n    <tr>\n      <th>355866</th>\n      <td>10</td>\n      <td>21</td>\n      <td>2011</td>\n      <td>2</td>\n      <td>1</td>\n      <td>1</td>\n      <td>5</td>\n      <td>8</td>\n      <td>0</td>\n      <td>1</td>\n      <td>212</td>\n      <td>10</td>\n      <td>0</td>\n      <td>0</td>\n    </tr>\n    <tr>\n      <th>355873</th>\n      <td>1</td>\n      <td>17</td>\n      <td>2012</td>\n      <td>1</td>\n      <td>1</td>\n      <td>1</td>\n      <td>3</td>\n      <td>11</td>\n      <td>1</td>\n      <td>0</td>\n      <td>308</td>\n      <td>10</td>\n      <td>0</td>\n      <td>0</td>\n    </tr>\n  </tbody>\n</table>\n<p>137788 rows × 14 columns</p>\n</div>"
     },
     "metadata": {},
     "execution_count": 97
    }
   ],
   "source": [
    "cluster_df"
   ]
  },
  {
   "cell_type": "code",
   "execution_count": 98,
   "metadata": {},
   "outputs": [
    {
     "output_type": "execute_result",
     "data": {
      "text/plain": [
       "array([[-0.0700046 , -1.30434939, -0.18339136, ...,  0.05222532,\n",
       "        -0.5351671 , -0.44335392],\n",
       "       [-1.4758237 ,  0.0304836 ,  1.12888161, ...,  0.05222532,\n",
       "        -0.5351671 , -0.44335392],\n",
       "       [-1.24152051, -0.41446073, -0.18339136, ...,  0.05222532,\n",
       "         1.86857526,  0.39398434],\n",
       "       ...,\n",
       "       [-1.3586721 , -1.30434939, -0.18339136, ...,  0.05222532,\n",
       "        -0.5351671 , -0.44335392],\n",
       "       [ 0.98435973,  0.47542793,  0.47274513, ...,  0.05222532,\n",
       "        -0.5351671 , -0.44335392],\n",
       "       [ 0.51575336,  0.92037227, -0.18339136, ...,  0.05222532,\n",
       "        -0.5351671 , -0.44335392]])"
      ]
     },
     "metadata": {},
     "execution_count": 98
    }
   ],
   "source": [
    "from sklearn.preprocessing import StandardScaler\n",
    "\n",
    "X = cluster_df.values[:,1:]\n",
    "X = np.nan_to_num(X)\n",
    "cluster_dataset = StandardScaler().fit_transform(X)\n",
    "cluster_dataset"
   ]
  },
  {
   "source": [
    "Lets run model cluster"
   ],
   "cell_type": "markdown",
   "metadata": {}
  },
  {
   "cell_type": "code",
   "execution_count": 99,
   "metadata": {},
   "outputs": [
    {
     "output_type": "stream",
     "name": "stdout",
     "text": [
      "[2 1 0 ... 3 1 1]\n"
     ]
    }
   ],
   "source": [
    "num_clusters = 5\n",
    "\n",
    "k_means = KMeans(init=\"k-means++\", n_clusters=num_clusters, n_init=12)\n",
    "k_means.fit(cluster_dataset)\n",
    "labels = k_means.labels_\n",
    "\n",
    "print(labels)"
   ]
  },
  {
   "cell_type": "code",
   "execution_count": 100,
   "metadata": {},
   "outputs": [
    {
     "output_type": "execute_result",
     "data": {
      "text/plain": [
       "    purchase_make  purchase_model  purchase_vehicle_year  purchase_price  \\\n",
       "1               3              12                   2007               1   \n",
       "2               0               0                   2010               3   \n",
       "5               9               2                   2009               1   \n",
       "8               3              11                   2010               1   \n",
       "10              9              23                   2009               0   \n",
       "\n",
       "    trade_in  vehicle_financing  customer_age  customer_income  \\\n",
       "1          0                  0             5                0   \n",
       "2          1                  1             4                9   \n",
       "5          1                  1             2                9   \n",
       "8          1                  1             4                8   \n",
       "10         0                  1             6                7   \n",
       "\n",
       "    customer_gender  customer_previous_purchase  customer_distance_to_dealer  \\\n",
       "1                 0                           1                          116   \n",
       "2                 0                           1                          135   \n",
       "5                 2                           0                          127   \n",
       "8                 2                           1                           46   \n",
       "10                2                           0                          320   \n",
       "\n",
       "    post_purchase_satisfaction  vehicle_warranty_used  subsequent_purchases  \\\n",
       "1                           10                      0                     0   \n",
       "2                           10                      0                     0   \n",
       "5                           10                      1                     1   \n",
       "8                           10                      1                     0   \n",
       "10                          10                      0                     1   \n",
       "\n",
       "    Labels  \n",
       "1        2  \n",
       "2        1  \n",
       "5        0  \n",
       "8        0  \n",
       "10       3  "
      ],
      "text/html": "<div>\n<style scoped>\n    .dataframe tbody tr th:only-of-type {\n        vertical-align: middle;\n    }\n\n    .dataframe tbody tr th {\n        vertical-align: top;\n    }\n\n    .dataframe thead th {\n        text-align: right;\n    }\n</style>\n<table border=\"1\" class=\"dataframe\">\n  <thead>\n    <tr style=\"text-align: right;\">\n      <th></th>\n      <th>purchase_make</th>\n      <th>purchase_model</th>\n      <th>purchase_vehicle_year</th>\n      <th>purchase_price</th>\n      <th>trade_in</th>\n      <th>vehicle_financing</th>\n      <th>customer_age</th>\n      <th>customer_income</th>\n      <th>customer_gender</th>\n      <th>customer_previous_purchase</th>\n      <th>customer_distance_to_dealer</th>\n      <th>post_purchase_satisfaction</th>\n      <th>vehicle_warranty_used</th>\n      <th>subsequent_purchases</th>\n      <th>Labels</th>\n    </tr>\n  </thead>\n  <tbody>\n    <tr>\n      <th>1</th>\n      <td>3</td>\n      <td>12</td>\n      <td>2007</td>\n      <td>1</td>\n      <td>0</td>\n      <td>0</td>\n      <td>5</td>\n      <td>0</td>\n      <td>0</td>\n      <td>1</td>\n      <td>116</td>\n      <td>10</td>\n      <td>0</td>\n      <td>0</td>\n      <td>2</td>\n    </tr>\n    <tr>\n      <th>2</th>\n      <td>0</td>\n      <td>0</td>\n      <td>2010</td>\n      <td>3</td>\n      <td>1</td>\n      <td>1</td>\n      <td>4</td>\n      <td>9</td>\n      <td>0</td>\n      <td>1</td>\n      <td>135</td>\n      <td>10</td>\n      <td>0</td>\n      <td>0</td>\n      <td>1</td>\n    </tr>\n    <tr>\n      <th>5</th>\n      <td>9</td>\n      <td>2</td>\n      <td>2009</td>\n      <td>1</td>\n      <td>1</td>\n      <td>1</td>\n      <td>2</td>\n      <td>9</td>\n      <td>2</td>\n      <td>0</td>\n      <td>127</td>\n      <td>10</td>\n      <td>1</td>\n      <td>1</td>\n      <td>0</td>\n    </tr>\n    <tr>\n      <th>8</th>\n      <td>3</td>\n      <td>11</td>\n      <td>2010</td>\n      <td>1</td>\n      <td>1</td>\n      <td>1</td>\n      <td>4</td>\n      <td>8</td>\n      <td>2</td>\n      <td>1</td>\n      <td>46</td>\n      <td>10</td>\n      <td>1</td>\n      <td>0</td>\n      <td>0</td>\n    </tr>\n    <tr>\n      <th>10</th>\n      <td>9</td>\n      <td>23</td>\n      <td>2009</td>\n      <td>0</td>\n      <td>0</td>\n      <td>1</td>\n      <td>6</td>\n      <td>7</td>\n      <td>2</td>\n      <td>0</td>\n      <td>320</td>\n      <td>10</td>\n      <td>0</td>\n      <td>1</td>\n      <td>3</td>\n    </tr>\n  </tbody>\n</table>\n</div>"
     },
     "metadata": {},
     "execution_count": 100
    }
   ],
   "source": [
    "cluster_df[\"Labels\"] = labels\n",
    "cluster_df.head(5)"
   ]
  },
  {
   "cell_type": "code",
   "execution_count": 101,
   "metadata": {},
   "outputs": [
    {
     "output_type": "execute_result",
     "data": {
      "text/plain": [
       "        purchase_make  purchase_model  purchase_vehicle_year  purchase_price  \\\n",
       "Labels                                                                         \n",
       "0            5.435972       12.227309            2009.242654        1.178553   \n",
       "1            5.647114       12.794962            2010.274222        1.419870   \n",
       "2            5.657454       13.169120            2010.120833        1.582500   \n",
       "3            5.531020       12.403428            2009.967015        1.098597   \n",
       "4            5.775701       12.753894            2010.024922        1.102804   \n",
       "\n",
       "        trade_in  vehicle_financing  customer_age  customer_income  \\\n",
       "Labels                                                               \n",
       "0       0.457520           0.816404      3.408619         7.738446   \n",
       "1       0.999948           0.789698      3.558343         8.449225   \n",
       "2       0.487824           0.818333      4.403472         0.848472   \n",
       "3       0.000000           0.765191      3.381518         8.371401   \n",
       "4       0.454829           0.781931      3.638629         7.124611   \n",
       "\n",
       "        customer_gender  customer_previous_purchase  \\\n",
       "Labels                                                \n",
       "0              0.711456                    0.174128   \n",
       "1              0.684194                    0.233895   \n",
       "2              0.706019                    0.323287   \n",
       "3              0.724762                    0.122603   \n",
       "4              0.685358                    0.283489   \n",
       "\n",
       "        customer_distance_to_dealer  post_purchase_satisfaction  \\\n",
       "Labels                                                            \n",
       "0                        180.685228                    9.998404   \n",
       "1                        181.605635                    9.998298   \n",
       "2                        180.529954                    9.997315   \n",
       "3                        183.772394                    9.998424   \n",
       "4                        175.697819                    2.024922   \n",
       "\n",
       "        vehicle_warranty_used  subsequent_purchases  \n",
       "Labels                                               \n",
       "0                    0.999964              0.557680  \n",
       "1                    0.000000              0.543469  \n",
       "2                    0.140694              0.514028  \n",
       "3                    0.000000              0.509888  \n",
       "4                    0.227414              0.542056  "
      ],
      "text/html": "<div>\n<style scoped>\n    .dataframe tbody tr th:only-of-type {\n        vertical-align: middle;\n    }\n\n    .dataframe tbody tr th {\n        vertical-align: top;\n    }\n\n    .dataframe thead th {\n        text-align: right;\n    }\n</style>\n<table border=\"1\" class=\"dataframe\">\n  <thead>\n    <tr style=\"text-align: right;\">\n      <th></th>\n      <th>purchase_make</th>\n      <th>purchase_model</th>\n      <th>purchase_vehicle_year</th>\n      <th>purchase_price</th>\n      <th>trade_in</th>\n      <th>vehicle_financing</th>\n      <th>customer_age</th>\n      <th>customer_income</th>\n      <th>customer_gender</th>\n      <th>customer_previous_purchase</th>\n      <th>customer_distance_to_dealer</th>\n      <th>post_purchase_satisfaction</th>\n      <th>vehicle_warranty_used</th>\n      <th>subsequent_purchases</th>\n    </tr>\n    <tr>\n      <th>Labels</th>\n      <th></th>\n      <th></th>\n      <th></th>\n      <th></th>\n      <th></th>\n      <th></th>\n      <th></th>\n      <th></th>\n      <th></th>\n      <th></th>\n      <th></th>\n      <th></th>\n      <th></th>\n      <th></th>\n    </tr>\n  </thead>\n  <tbody>\n    <tr>\n      <th>0</th>\n      <td>5.435972</td>\n      <td>12.227309</td>\n      <td>2009.242654</td>\n      <td>1.178553</td>\n      <td>0.457520</td>\n      <td>0.816404</td>\n      <td>3.408619</td>\n      <td>7.738446</td>\n      <td>0.711456</td>\n      <td>0.174128</td>\n      <td>180.685228</td>\n      <td>9.998404</td>\n      <td>0.999964</td>\n      <td>0.557680</td>\n    </tr>\n    <tr>\n      <th>1</th>\n      <td>5.647114</td>\n      <td>12.794962</td>\n      <td>2010.274222</td>\n      <td>1.419870</td>\n      <td>0.999948</td>\n      <td>0.789698</td>\n      <td>3.558343</td>\n      <td>8.449225</td>\n      <td>0.684194</td>\n      <td>0.233895</td>\n      <td>181.605635</td>\n      <td>9.998298</td>\n      <td>0.000000</td>\n      <td>0.543469</td>\n    </tr>\n    <tr>\n      <th>2</th>\n      <td>5.657454</td>\n      <td>13.169120</td>\n      <td>2010.120833</td>\n      <td>1.582500</td>\n      <td>0.487824</td>\n      <td>0.818333</td>\n      <td>4.403472</td>\n      <td>0.848472</td>\n      <td>0.706019</td>\n      <td>0.323287</td>\n      <td>180.529954</td>\n      <td>9.997315</td>\n      <td>0.140694</td>\n      <td>0.514028</td>\n    </tr>\n    <tr>\n      <th>3</th>\n      <td>5.531020</td>\n      <td>12.403428</td>\n      <td>2009.967015</td>\n      <td>1.098597</td>\n      <td>0.000000</td>\n      <td>0.765191</td>\n      <td>3.381518</td>\n      <td>8.371401</td>\n      <td>0.724762</td>\n      <td>0.122603</td>\n      <td>183.772394</td>\n      <td>9.998424</td>\n      <td>0.000000</td>\n      <td>0.509888</td>\n    </tr>\n    <tr>\n      <th>4</th>\n      <td>5.775701</td>\n      <td>12.753894</td>\n      <td>2010.024922</td>\n      <td>1.102804</td>\n      <td>0.454829</td>\n      <td>0.781931</td>\n      <td>3.638629</td>\n      <td>7.124611</td>\n      <td>0.685358</td>\n      <td>0.283489</td>\n      <td>175.697819</td>\n      <td>2.024922</td>\n      <td>0.227414</td>\n      <td>0.542056</td>\n    </tr>\n  </tbody>\n</table>\n</div>"
     },
     "metadata": {},
     "execution_count": 101
    }
   ],
   "source": [
    "cluster_df.groupby('Labels').mean()"
   ]
  },
  {
   "cell_type": "code",
   "execution_count": null,
   "metadata": {},
   "outputs": [],
   "source": []
  }
 ],
 "metadata": {
  "kernelspec": {
   "display_name": "Python 3",
   "language": "python",
   "name": "python3"
  },
  "language_info": {
   "codemirror_mode": {
    "name": "ipython",
    "version": 3
   },
   "file_extension": ".py",
   "mimetype": "text/x-python",
   "name": "python",
   "nbconvert_exporter": "python",
   "pygments_lexer": "ipython3",
   "version": "3.7.4-final"
  }
 },
 "nbformat": 4,
 "nbformat_minor": 2
}