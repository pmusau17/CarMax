{
 "cells": [
  {
   "cell_type": "code",
   "execution_count": 1,
   "metadata": {},
   "outputs": [],
   "source": [
    "# Load relevant packages\n",
    "import pandas as pd\n",
    "import numpy as np\n",
    "import matplotlib.pyplot as plt\n",
    "import seaborn as sns\n",
    "import statsmodels.formula.api as sm\n",
    "import warnings\n",
    "\n",
    "import re \n",
    "def clean_text(string,replace=''):\n",
    "    regex = '[^A-Za-z0-9]+'\n",
    "    return re.sub(regex, replace, string)"
   ]
  },
  {
   "cell_type": "code",
   "execution_count": 2,
   "metadata": {},
   "outputs": [],
   "source": [
    "## load data set\n",
    "carmax_df = pd.read_csv('CaseDataRemodeled.csv')"
   ]
  },
  {
   "cell_type": "markdown",
   "metadata": {},
   "source": [
    "## Add Car Class (e.g. SUV)\n",
    "\n",
    "\n"
   ]
  },
  {
   "cell_type": "code",
   "execution_count": 3,
   "metadata": {},
   "outputs": [],
   "source": [
    "import requests\n",
    "from bs4 import BeautifulSoup as bsoup\n",
    "    \n",
    "carClass = {}\n",
    "bodyStyle = ['convertible','coupe','van','truck','suv','sedan','wagon']\n",
    "\n",
    "for style in bodyStyle:\n",
    "    #assign variable for url from which we acquire html data\n",
    "    search_url = 'https://www.cars.com/research/{0}/2015/?pageNum=0&rpp=120'.format(style)\n",
    "                \n",
    "    #use requests pack to pull dat. Headers makes it think browser and not programatic\n",
    "    response = requests.get(search_url, headers={\n",
    "            \"User-Agent\": \"Mozilla/5.0 (Windows NT 6.1; WOW64) AppleWebKit/537.36 (KHTML, like Gecko) Chrome/50.0.2661.102 Safari/537.36\"}).content\n",
    "            \n",
    "    \"\"\" parse html \"\"\"\n",
    "    parsed_html = bsoup(response, 'lxml')\n",
    "    \"\"\" initialize results list \"\"\"\n",
    "    my_result_list = []\n",
    "\n",
    "    #for loop to dig into the table and create a list of lists\n",
    "    for result in parsed_html.find_all('h4', class_=\"cui-delta\"):\n",
    "        results1 = result.text.split(' ', 2)\n",
    "        my_result_list.append(results1[1:])\n",
    "\n",
    "    carClass[style] = my_result_list"
   ]
  },
  {
   "cell_type": "code",
   "execution_count": 4,
   "metadata": {},
   "outputs": [],
   "source": [
    "for i in carClass:\n",
    "    for j in carClass[i]:\n",
    "        for k in range(len(j)):\n",
    "            j[k] = j[k].upper()"
   ]
  },
  {
   "cell_type": "markdown",
   "metadata": {},
   "source": [
    "Mercedes-Benz has class and number <br>\n",
    "Rename to just class"
   ]
  },
  {
   "cell_type": "code",
   "execution_count": 5,
   "metadata": {},
   "outputs": [],
   "source": [
    "#Clean car models in carClass dict\n",
    "for key, value in carClass.items():\n",
    "    for val in value:\n",
    "        val[1] = clean_text(re.sub('-CLASS','',val[1]))"
   ]
  },
  {
   "cell_type": "code",
   "execution_count": 6,
   "metadata": {},
   "outputs": [
    {
     "output_type": "error",
     "ename": "NameError",
     "evalue": "name 'carmax_clean' is not defined",
     "traceback": [
      "\u001b[0;31m---------------------------------------------------------------------------\u001b[0m",
      "\u001b[0;31mNameError\u001b[0m                                 Traceback (most recent call last)",
      "\u001b[0;32m<ipython-input-6-90e2a67997d2>\u001b[0m in \u001b[0;36m<module>\u001b[0;34m\u001b[0m\n\u001b[1;32m      1\u001b[0m \u001b[0;31m#carmax_clean.loc[carmax_clean[carmax_clean['purchase_make'] == 'MERCEDES-BENZ'], 'purchase_model'] #= value\u001b[0m\u001b[0;34m\u001b[0m\u001b[0;34m\u001b[0m\u001b[0;34m\u001b[0m\u001b[0m\n\u001b[0;32m----> 2\u001b[0;31m \u001b[0mcarmax_clean\u001b[0m\u001b[0;34m.\u001b[0m\u001b[0mloc\u001b[0m\u001b[0;34m[\u001b[0m\u001b[0mcarmax_clean\u001b[0m\u001b[0;34m.\u001b[0m\u001b[0mpurchase_make\u001b[0m \u001b[0;34m==\u001b[0m \u001b[0;34m'MERCEDES-BENZ'\u001b[0m\u001b[0;34m,\u001b[0m \u001b[0;34m'purchase_model'\u001b[0m\u001b[0;34m]\u001b[0m \u001b[0;34m=\u001b[0m \u001b[0;34m''\u001b[0m\u001b[0;34m.\u001b[0m\u001b[0mjoin\u001b[0m\u001b[0;34m(\u001b[0m\u001b[0mfilter\u001b[0m\u001b[0;34m(\u001b[0m\u001b[0mstr\u001b[0m\u001b[0;34m.\u001b[0m\u001b[0misalpha\u001b[0m\u001b[0;34m,\u001b[0m \u001b[0mcarmax_clean\u001b[0m\u001b[0;34m.\u001b[0m\u001b[0mloc\u001b[0m\u001b[0;34m[\u001b[0m\u001b[0mcarmax_clean\u001b[0m\u001b[0;34m.\u001b[0m\u001b[0mpurchase_make\u001b[0m \u001b[0;34m==\u001b[0m \u001b[0;34m'MERCEDES-BENZ'\u001b[0m\u001b[0;34m,\u001b[0m \u001b[0;34m'purchase_model'\u001b[0m\u001b[0;34m]\u001b[0m\u001b[0;34m)\u001b[0m\u001b[0;34m)\u001b[0m\u001b[0;34m.\u001b[0m\u001b[0msplit\u001b[0m\u001b[0;34m(\u001b[0m\u001b[0;34m'AMG'\u001b[0m\u001b[0;34m)\u001b[0m\u001b[0;34m\u001b[0m\u001b[0;34m\u001b[0m\u001b[0m\n\u001b[0m\u001b[1;32m      3\u001b[0m \u001b[0;31m#carmax_clean.purchase_make\u001b[0m\u001b[0;34m\u001b[0m\u001b[0;34m\u001b[0m\u001b[0;34m\u001b[0m\u001b[0m\n",
      "\u001b[0;31mNameError\u001b[0m: name 'carmax_clean' is not defined"
     ]
    }
   ],
   "source": [
    "#carmax_clean.loc[carmax_clean[carmax_clean['purchase_make'] == 'MERCEDES-BENZ'], 'purchase_model'] #= value\n",
    "carmax_clean.loc[carmax_clean.purchase_make == 'MERCEDES-BENZ', 'purchase_model'] = ''.join(filter(str.isalpha, carmax_clean.loc[carmax_clean.purchase_make == 'MERCEDES-BENZ', 'purchase_model'])).split('AMG')\n",
    "#carmax_clean.purchase_make"
   ]
  },
  {
   "cell_type": "code",
   "execution_count": null,
   "metadata": {},
   "outputs": [],
   "source": [
    "#Clean car models in carClass dict\n",
    "carmax_clean = carmax_df.copy()\n",
    "carmax_clean['purchase_model'] = carmax_clean['purchase_model'].apply(clean_text)\n",
    "\n",
    "def clean_MB(string,replace=''):\n",
    "    string = re.sub('AMG', replace, string)\n",
    "    regex = '[^A-Z]+'\n",
    "    return re.sub(regex, replace, string)\n",
    "\n",
    "carmax_clean.loc[carmax_clean.purchase_make == 'MERCEDES-BENZ', 'purchase_model'] = carmax_clean.loc[carmax_clean.purchase_make == 'MERCEDES-BENZ', 'purchase_model'].apply(clean_MB)"
   ]
  },
  {
   "cell_type": "code",
   "execution_count": null,
   "metadata": {
    "tags": []
   },
   "outputs": [],
   "source": [
    "np.unique(carmax_clean.loc[carmax_clean.purchase_make == 'MERCEDES-BENZ', 'purchase_model'])"
   ]
  },
  {
   "cell_type": "code",
   "execution_count": 9,
   "metadata": {},
   "outputs": [
    {
     "output_type": "execute_result",
     "data": {
      "text/plain": [
       "        insert_num purchase_make purchase_model  purchase_vehicle_year  \\\n",
       "0            81690         DODGE        CHARGER                   2012   \n",
       "1           109994          FORD           F150                   2007   \n",
       "2            11399           BMW            328                   2010   \n",
       "3           214156         LEXUS          GS300                   2003   \n",
       "4            36685     CHEVROLET          CRUZE                   2012   \n",
       "...            ...           ...            ...                    ...   \n",
       "355869      195314          JEEP        LIBERTY                   2010   \n",
       "355870       58219     CHEVROLET          SONIC                   2012   \n",
       "355871      207386           KIA        SORENTO                   2012   \n",
       "355872      252391        NISSAN           350Z                   2003   \n",
       "355873       52652     CHEVROLET         MALIBU                   2012   \n",
       "\n",
       "        purchase_price_LB  purchase_price_UB  trade_in  vehicle_financing  \\\n",
       "0                 15001.0            20000.0         1                  1   \n",
       "1                 15001.0            20000.0         0                  0   \n",
       "2                 25001.0            30000.0         1                  1   \n",
       "3                 10001.0            15000.0         0                  1   \n",
       "4                 15001.0            20000.0         1                  1   \n",
       "...                   ...                ...       ...                ...   \n",
       "355869            15001.0            20000.0         0                  1   \n",
       "355870            10001.0            15000.0         1                  0   \n",
       "355871            15001.0            20000.0         1                  1   \n",
       "355872            10001.0            15000.0         0                  1   \n",
       "355873            15001.0            20000.0         1                  1   \n",
       "\n",
       "       customer_age  customer_income customer_gender  \\\n",
       "0           21 - 30    40001 - 60000               U   \n",
       "1           51 - 60        0 - 20000               F   \n",
       "2           41 - 50    60001 - 80000               F   \n",
       "3           21 - 30    20001 - 40000               M   \n",
       "4           31 - 40  120001 - 140000               M   \n",
       "...             ...              ...             ...   \n",
       "355869      21 - 30    20001 - 40000               F   \n",
       "355870      71 - 80                ?               U   \n",
       "355871      61 - 70    20001 - 40000               F   \n",
       "355872      21 - 30    40001 - 60000               M   \n",
       "355873      31 - 40                ?               M   \n",
       "\n",
       "        customer_previous_purchase  customer_distance_to_dealer  \\\n",
       "0                                0                          8.0   \n",
       "1                                1                         19.0   \n",
       "2                                1                         21.0   \n",
       "3                                0                          8.0   \n",
       "4                                1                          5.0   \n",
       "...                            ...                          ...   \n",
       "355869                           0                         13.0   \n",
       "355870                           0                          2.0   \n",
       "355871                           1                          9.0   \n",
       "355872                           0                          5.0   \n",
       "355873                           0                          9.0   \n",
       "\n",
       "       post_purchase_satisfaction  vehicle_warranty_used  \\\n",
       "0                               ?                      0   \n",
       "1                               ?                      0   \n",
       "2                               ?                      0   \n",
       "3                               ?                      0   \n",
       "4                               ?                      1   \n",
       "...                           ...                    ...   \n",
       "355869                          ?                      0   \n",
       "355870                          ?                      0   \n",
       "355871                          ?                      0   \n",
       "355872                          ?                      0   \n",
       "355873                          ?                      0   \n",
       "\n",
       "        subsequent_purchases     AgeBin  \n",
       "0                          1   Twenties  \n",
       "1                          0    Fifties  \n",
       "2                          0    Forties  \n",
       "3                          0   Twenties  \n",
       "4                          1   Thirties  \n",
       "...                      ...        ...  \n",
       "355869                     0   Twenties  \n",
       "355870                     0  Seventies  \n",
       "355871                     1    Sixties  \n",
       "355872                     0   Twenties  \n",
       "355873                     0   Thirties  \n",
       "\n",
       "[355874 rows x 17 columns]"
      ],
      "text/html": "<div>\n<style scoped>\n    .dataframe tbody tr th:only-of-type {\n        vertical-align: middle;\n    }\n\n    .dataframe tbody tr th {\n        vertical-align: top;\n    }\n\n    .dataframe thead th {\n        text-align: right;\n    }\n</style>\n<table border=\"1\" class=\"dataframe\">\n  <thead>\n    <tr style=\"text-align: right;\">\n      <th></th>\n      <th>insert_num</th>\n      <th>purchase_make</th>\n      <th>purchase_model</th>\n      <th>purchase_vehicle_year</th>\n      <th>purchase_price_LB</th>\n      <th>purchase_price_UB</th>\n      <th>trade_in</th>\n      <th>vehicle_financing</th>\n      <th>customer_age</th>\n      <th>customer_income</th>\n      <th>customer_gender</th>\n      <th>customer_previous_purchase</th>\n      <th>customer_distance_to_dealer</th>\n      <th>post_purchase_satisfaction</th>\n      <th>vehicle_warranty_used</th>\n      <th>subsequent_purchases</th>\n      <th>AgeBin</th>\n    </tr>\n  </thead>\n  <tbody>\n    <tr>\n      <th>0</th>\n      <td>81690</td>\n      <td>DODGE</td>\n      <td>CHARGER</td>\n      <td>2012</td>\n      <td>15001.0</td>\n      <td>20000.0</td>\n      <td>1</td>\n      <td>1</td>\n      <td>21 - 30</td>\n      <td>40001 - 60000</td>\n      <td>U</td>\n      <td>0</td>\n      <td>8.0</td>\n      <td>?</td>\n      <td>0</td>\n      <td>1</td>\n      <td>Twenties</td>\n    </tr>\n    <tr>\n      <th>1</th>\n      <td>109994</td>\n      <td>FORD</td>\n      <td>F150</td>\n      <td>2007</td>\n      <td>15001.0</td>\n      <td>20000.0</td>\n      <td>0</td>\n      <td>0</td>\n      <td>51 - 60</td>\n      <td>0 - 20000</td>\n      <td>F</td>\n      <td>1</td>\n      <td>19.0</td>\n      <td>?</td>\n      <td>0</td>\n      <td>0</td>\n      <td>Fifties</td>\n    </tr>\n    <tr>\n      <th>2</th>\n      <td>11399</td>\n      <td>BMW</td>\n      <td>328</td>\n      <td>2010</td>\n      <td>25001.0</td>\n      <td>30000.0</td>\n      <td>1</td>\n      <td>1</td>\n      <td>41 - 50</td>\n      <td>60001 - 80000</td>\n      <td>F</td>\n      <td>1</td>\n      <td>21.0</td>\n      <td>?</td>\n      <td>0</td>\n      <td>0</td>\n      <td>Forties</td>\n    </tr>\n    <tr>\n      <th>3</th>\n      <td>214156</td>\n      <td>LEXUS</td>\n      <td>GS300</td>\n      <td>2003</td>\n      <td>10001.0</td>\n      <td>15000.0</td>\n      <td>0</td>\n      <td>1</td>\n      <td>21 - 30</td>\n      <td>20001 - 40000</td>\n      <td>M</td>\n      <td>0</td>\n      <td>8.0</td>\n      <td>?</td>\n      <td>0</td>\n      <td>0</td>\n      <td>Twenties</td>\n    </tr>\n    <tr>\n      <th>4</th>\n      <td>36685</td>\n      <td>CHEVROLET</td>\n      <td>CRUZE</td>\n      <td>2012</td>\n      <td>15001.0</td>\n      <td>20000.0</td>\n      <td>1</td>\n      <td>1</td>\n      <td>31 - 40</td>\n      <td>120001 - 140000</td>\n      <td>M</td>\n      <td>1</td>\n      <td>5.0</td>\n      <td>?</td>\n      <td>1</td>\n      <td>1</td>\n      <td>Thirties</td>\n    </tr>\n    <tr>\n      <th>...</th>\n      <td>...</td>\n      <td>...</td>\n      <td>...</td>\n      <td>...</td>\n      <td>...</td>\n      <td>...</td>\n      <td>...</td>\n      <td>...</td>\n      <td>...</td>\n      <td>...</td>\n      <td>...</td>\n      <td>...</td>\n      <td>...</td>\n      <td>...</td>\n      <td>...</td>\n      <td>...</td>\n      <td>...</td>\n    </tr>\n    <tr>\n      <th>355869</th>\n      <td>195314</td>\n      <td>JEEP</td>\n      <td>LIBERTY</td>\n      <td>2010</td>\n      <td>15001.0</td>\n      <td>20000.0</td>\n      <td>0</td>\n      <td>1</td>\n      <td>21 - 30</td>\n      <td>20001 - 40000</td>\n      <td>F</td>\n      <td>0</td>\n      <td>13.0</td>\n      <td>?</td>\n      <td>0</td>\n      <td>0</td>\n      <td>Twenties</td>\n    </tr>\n    <tr>\n      <th>355870</th>\n      <td>58219</td>\n      <td>CHEVROLET</td>\n      <td>SONIC</td>\n      <td>2012</td>\n      <td>10001.0</td>\n      <td>15000.0</td>\n      <td>1</td>\n      <td>0</td>\n      <td>71 - 80</td>\n      <td>?</td>\n      <td>U</td>\n      <td>0</td>\n      <td>2.0</td>\n      <td>?</td>\n      <td>0</td>\n      <td>0</td>\n      <td>Seventies</td>\n    </tr>\n    <tr>\n      <th>355871</th>\n      <td>207386</td>\n      <td>KIA</td>\n      <td>SORENTO</td>\n      <td>2012</td>\n      <td>15001.0</td>\n      <td>20000.0</td>\n      <td>1</td>\n      <td>1</td>\n      <td>61 - 70</td>\n      <td>20001 - 40000</td>\n      <td>F</td>\n      <td>1</td>\n      <td>9.0</td>\n      <td>?</td>\n      <td>0</td>\n      <td>1</td>\n      <td>Sixties</td>\n    </tr>\n    <tr>\n      <th>355872</th>\n      <td>252391</td>\n      <td>NISSAN</td>\n      <td>350Z</td>\n      <td>2003</td>\n      <td>10001.0</td>\n      <td>15000.0</td>\n      <td>0</td>\n      <td>1</td>\n      <td>21 - 30</td>\n      <td>40001 - 60000</td>\n      <td>M</td>\n      <td>0</td>\n      <td>5.0</td>\n      <td>?</td>\n      <td>0</td>\n      <td>0</td>\n      <td>Twenties</td>\n    </tr>\n    <tr>\n      <th>355873</th>\n      <td>52652</td>\n      <td>CHEVROLET</td>\n      <td>MALIBU</td>\n      <td>2012</td>\n      <td>15001.0</td>\n      <td>20000.0</td>\n      <td>1</td>\n      <td>1</td>\n      <td>31 - 40</td>\n      <td>?</td>\n      <td>M</td>\n      <td>0</td>\n      <td>9.0</td>\n      <td>?</td>\n      <td>0</td>\n      <td>0</td>\n      <td>Thirties</td>\n    </tr>\n  </tbody>\n</table>\n<p>355874 rows × 17 columns</p>\n</div>"
     },
     "metadata": {},
     "execution_count": 9
    }
   ],
   "source": [
    "carmax_clean"
   ]
  },
  {
   "cell_type": "code",
   "execution_count": 34,
   "metadata": {},
   "outputs": [
    {
     "output_type": "stream",
     "name": "stdout",
     "text": [
      "428\n435\nM6\n650\n640\nZ4\nM4\n428\n435\n228\nM235\nM6\n650\n640\nX5\nX1\nX6\nX3\nX4\nX5M\nX6M\nM3\n328\n535\n750\n320\nM5\n528\n550\n740\n328D\n760\n535D\nACTIVEHYBRID5\nALPINAB7\nACTIVEHYBRID7\n328\n328GRANTURISMO\n328D\n335GRANTURISMO\n535GRANTURISMO\n550GRANTURISMO\n"
     ]
    }
   ],
   "source": [
    "for i in carClass:\n",
    "    for j in carClass[i]:\n",
    "        if j[0] == 'BMW':\n",
    "            print(j[1])"
   ]
  },
  {
   "cell_type": "code",
   "execution_count": 12,
   "metadata": {},
   "outputs": [
    {
     "output_type": "execute_result",
     "data": {
      "text/plain": [
       "355874"
      ]
     },
     "metadata": {},
     "execution_count": 12
    }
   ],
   "source": [
    "purchase_class = []\n",
    "for i in range(len(list(carmax_clean['purchase_model']))):\n",
    "    carType = 'NF'\n",
    "    for key, value in carClass.items():\n",
    "        for style in value:\n",
    "            if carmax_clean['purchase_model'][i] == style[1]:\n",
    "                carType = key\n",
    "                break\n",
    "        else:\n",
    "            continue\n",
    "        break\n",
    "    \n",
    "    purchase_class.append(carType)\n",
    "len(purchase_class)"
   ]
  },
  {
   "cell_type": "code",
   "execution_count": null,
   "metadata": {},
   "outputs": [],
   "source": [
    "# from itertools import product\n",
    "# purchase_class = []\n",
    "# for i in range(len(list(carmax_clean['purchase_model']))):\n",
    "#     carType = ''\n",
    "#     for key, value in carClass.items():\n",
    "#         for style in value:\n",
    "#             if carmax_clean['purchase_model'][i] == style[1]:\n",
    "#                 carType = key\n",
    "#                 break\n",
    "            \n",
    "#     if carType == '':\n",
    "#         carType = 'NF'\n",
    "#     purchase_class.append(carType)\n",
    "# purchase_class"
   ]
  },
  {
   "cell_type": "code",
   "execution_count": 13,
   "metadata": {},
   "outputs": [
    {
     "output_type": "execute_result",
     "data": {
      "text/plain": [
       "355874"
      ]
     },
     "metadata": {},
     "execution_count": 13
    }
   ],
   "source": [
    "len(purchase_class)"
   ]
  },
  {
   "cell_type": "code",
   "execution_count": 14,
   "metadata": {},
   "outputs": [],
   "source": [
    "carmax_df['purchase_class'] = purchase_class"
   ]
  },
  {
   "cell_type": "code",
   "execution_count": 15,
   "metadata": {},
   "outputs": [],
   "source": [
    "# for i in carClass:\n",
    "#     for j in carClass[i]:\n",
    "#         if j[0] == 'LEXUS':\n",
    "#             print(j[1])"
   ]
  },
  {
   "cell_type": "code",
   "execution_count": 16,
   "metadata": {},
   "outputs": [
    {
     "output_type": "execute_result",
     "data": {
      "text/plain": [
       "                insert_num  purchase_make  purchase_model  \\\n",
       "purchase_class                                              \n",
       "NF                   87255          87255           87255   \n",
       "convertible          17966          17966           17966   \n",
       "coupe                20968          20968           20968   \n",
       "sedan               117569         117569          117569   \n",
       "suv                  75978          75978           75978   \n",
       "truck                20443          20443           20443   \n",
       "van                   8529           8529            8529   \n",
       "wagon                 7166           7166            7166   \n",
       "\n",
       "                purchase_vehicle_year  purchase_price_LB  purchase_price_UB  \\\n",
       "purchase_class                                                                \n",
       "NF                              87255              87253              87253   \n",
       "convertible                     17966              17965              17965   \n",
       "coupe                           20968              20968              20968   \n",
       "sedan                          117569             117569             117569   \n",
       "suv                             75978              75978              75978   \n",
       "truck                           20443              20443              20443   \n",
       "van                              8529               8529               8529   \n",
       "wagon                            7166               7166               7166   \n",
       "\n",
       "                trade_in  vehicle_financing  customer_age  customer_income  \\\n",
       "purchase_class                                                               \n",
       "NF                 87255              87255         87255            87255   \n",
       "convertible        17966              17966         17966            17966   \n",
       "coupe              20968              20968         20968            20968   \n",
       "sedan             117569             117569        117569           117569   \n",
       "suv                75978              75978         75978            75978   \n",
       "truck              20443              20443         20443            20443   \n",
       "van                 8529               8529          8529             8529   \n",
       "wagon               7166               7166          7166             7166   \n",
       "\n",
       "                customer_gender  customer_previous_purchase  \\\n",
       "purchase_class                                                \n",
       "NF                        87255                       87255   \n",
       "convertible               17966                       17966   \n",
       "coupe                     20968                       20968   \n",
       "sedan                    117569                      117569   \n",
       "suv                       75978                       75978   \n",
       "truck                     20443                       20443   \n",
       "van                        8529                        8529   \n",
       "wagon                      7166                        7166   \n",
       "\n",
       "                customer_distance_to_dealer  post_purchase_satisfaction  \\\n",
       "purchase_class                                                            \n",
       "NF                                    85663                       87255   \n",
       "convertible                           17626                       17966   \n",
       "coupe                                 20664                       20968   \n",
       "sedan                                115687                      117569   \n",
       "suv                                   74713                       75978   \n",
       "truck                                 20002                       20443   \n",
       "van                                    8365                        8529   \n",
       "wagon                                  7051                        7166   \n",
       "\n",
       "                vehicle_warranty_used  subsequent_purchases  AgeBin  \n",
       "purchase_class                                                       \n",
       "NF                              87255                 87255   87255  \n",
       "convertible                     17966                 17966   17966  \n",
       "coupe                           20968                 20968   20968  \n",
       "sedan                          117569                117569  117569  \n",
       "suv                             75978                 75978   75978  \n",
       "truck                           20443                 20443   20443  \n",
       "van                              8529                  8529    8529  \n",
       "wagon                            7166                  7166    7166  "
      ],
      "text/html": "<div>\n<style scoped>\n    .dataframe tbody tr th:only-of-type {\n        vertical-align: middle;\n    }\n\n    .dataframe tbody tr th {\n        vertical-align: top;\n    }\n\n    .dataframe thead th {\n        text-align: right;\n    }\n</style>\n<table border=\"1\" class=\"dataframe\">\n  <thead>\n    <tr style=\"text-align: right;\">\n      <th></th>\n      <th>insert_num</th>\n      <th>purchase_make</th>\n      <th>purchase_model</th>\n      <th>purchase_vehicle_year</th>\n      <th>purchase_price_LB</th>\n      <th>purchase_price_UB</th>\n      <th>trade_in</th>\n      <th>vehicle_financing</th>\n      <th>customer_age</th>\n      <th>customer_income</th>\n      <th>customer_gender</th>\n      <th>customer_previous_purchase</th>\n      <th>customer_distance_to_dealer</th>\n      <th>post_purchase_satisfaction</th>\n      <th>vehicle_warranty_used</th>\n      <th>subsequent_purchases</th>\n      <th>AgeBin</th>\n    </tr>\n    <tr>\n      <th>purchase_class</th>\n      <th></th>\n      <th></th>\n      <th></th>\n      <th></th>\n      <th></th>\n      <th></th>\n      <th></th>\n      <th></th>\n      <th></th>\n      <th></th>\n      <th></th>\n      <th></th>\n      <th></th>\n      <th></th>\n      <th></th>\n      <th></th>\n      <th></th>\n    </tr>\n  </thead>\n  <tbody>\n    <tr>\n      <th>NF</th>\n      <td>87255</td>\n      <td>87255</td>\n      <td>87255</td>\n      <td>87255</td>\n      <td>87253</td>\n      <td>87253</td>\n      <td>87255</td>\n      <td>87255</td>\n      <td>87255</td>\n      <td>87255</td>\n      <td>87255</td>\n      <td>87255</td>\n      <td>85663</td>\n      <td>87255</td>\n      <td>87255</td>\n      <td>87255</td>\n      <td>87255</td>\n    </tr>\n    <tr>\n      <th>convertible</th>\n      <td>17966</td>\n      <td>17966</td>\n      <td>17966</td>\n      <td>17966</td>\n      <td>17965</td>\n      <td>17965</td>\n      <td>17966</td>\n      <td>17966</td>\n      <td>17966</td>\n      <td>17966</td>\n      <td>17966</td>\n      <td>17966</td>\n      <td>17626</td>\n      <td>17966</td>\n      <td>17966</td>\n      <td>17966</td>\n      <td>17966</td>\n    </tr>\n    <tr>\n      <th>coupe</th>\n      <td>20968</td>\n      <td>20968</td>\n      <td>20968</td>\n      <td>20968</td>\n      <td>20968</td>\n      <td>20968</td>\n      <td>20968</td>\n      <td>20968</td>\n      <td>20968</td>\n      <td>20968</td>\n      <td>20968</td>\n      <td>20968</td>\n      <td>20664</td>\n      <td>20968</td>\n      <td>20968</td>\n      <td>20968</td>\n      <td>20968</td>\n    </tr>\n    <tr>\n      <th>sedan</th>\n      <td>117569</td>\n      <td>117569</td>\n      <td>117569</td>\n      <td>117569</td>\n      <td>117569</td>\n      <td>117569</td>\n      <td>117569</td>\n      <td>117569</td>\n      <td>117569</td>\n      <td>117569</td>\n      <td>117569</td>\n      <td>117569</td>\n      <td>115687</td>\n      <td>117569</td>\n      <td>117569</td>\n      <td>117569</td>\n      <td>117569</td>\n    </tr>\n    <tr>\n      <th>suv</th>\n      <td>75978</td>\n      <td>75978</td>\n      <td>75978</td>\n      <td>75978</td>\n      <td>75978</td>\n      <td>75978</td>\n      <td>75978</td>\n      <td>75978</td>\n      <td>75978</td>\n      <td>75978</td>\n      <td>75978</td>\n      <td>75978</td>\n      <td>74713</td>\n      <td>75978</td>\n      <td>75978</td>\n      <td>75978</td>\n      <td>75978</td>\n    </tr>\n    <tr>\n      <th>truck</th>\n      <td>20443</td>\n      <td>20443</td>\n      <td>20443</td>\n      <td>20443</td>\n      <td>20443</td>\n      <td>20443</td>\n      <td>20443</td>\n      <td>20443</td>\n      <td>20443</td>\n      <td>20443</td>\n      <td>20443</td>\n      <td>20443</td>\n      <td>20002</td>\n      <td>20443</td>\n      <td>20443</td>\n      <td>20443</td>\n      <td>20443</td>\n    </tr>\n    <tr>\n      <th>van</th>\n      <td>8529</td>\n      <td>8529</td>\n      <td>8529</td>\n      <td>8529</td>\n      <td>8529</td>\n      <td>8529</td>\n      <td>8529</td>\n      <td>8529</td>\n      <td>8529</td>\n      <td>8529</td>\n      <td>8529</td>\n      <td>8529</td>\n      <td>8365</td>\n      <td>8529</td>\n      <td>8529</td>\n      <td>8529</td>\n      <td>8529</td>\n    </tr>\n    <tr>\n      <th>wagon</th>\n      <td>7166</td>\n      <td>7166</td>\n      <td>7166</td>\n      <td>7166</td>\n      <td>7166</td>\n      <td>7166</td>\n      <td>7166</td>\n      <td>7166</td>\n      <td>7166</td>\n      <td>7166</td>\n      <td>7166</td>\n      <td>7166</td>\n      <td>7051</td>\n      <td>7166</td>\n      <td>7166</td>\n      <td>7166</td>\n      <td>7166</td>\n    </tr>\n  </tbody>\n</table>\n</div>"
     },
     "metadata": {},
     "execution_count": 16
    }
   ],
   "source": [
    "carmax_df.groupby('purchase_class').count()\n",
    "#df_rated.isnull().sum(axis = 0)"
   ]
  },
  {
   "source": [
    "unlabeled = carmax_df.loc[carmax_df.purchase_class == 'NF',['purchase_make','purchase_model']]#.values[:,:]\n",
    "unlabeled"
   ],
   "cell_type": "code",
   "metadata": {},
   "execution_count": 17,
   "outputs": [
    {
     "output_type": "execute_result",
     "data": {
      "text/plain": [
       "       purchase_make    purchase_model\n",
       "3              LEXUS            GS 300\n",
       "15              MINI            COOPER\n",
       "16          CHRYSLER  TOWN AND COUNTRY\n",
       "21            SATURN               ION\n",
       "23            NISSAN            MAXIMA\n",
       "...              ...               ...\n",
       "355862     CHEVROLET            COBALT\n",
       "355863       PONTIAC                G6\n",
       "355867          FORD            RANGER\n",
       "355869          JEEP           LIBERTY\n",
       "355872        NISSAN              350Z\n",
       "\n",
       "[87255 rows x 2 columns]"
      ],
      "text/html": "<div>\n<style scoped>\n    .dataframe tbody tr th:only-of-type {\n        vertical-align: middle;\n    }\n\n    .dataframe tbody tr th {\n        vertical-align: top;\n    }\n\n    .dataframe thead th {\n        text-align: right;\n    }\n</style>\n<table border=\"1\" class=\"dataframe\">\n  <thead>\n    <tr style=\"text-align: right;\">\n      <th></th>\n      <th>purchase_make</th>\n      <th>purchase_model</th>\n    </tr>\n  </thead>\n  <tbody>\n    <tr>\n      <th>3</th>\n      <td>LEXUS</td>\n      <td>GS 300</td>\n    </tr>\n    <tr>\n      <th>15</th>\n      <td>MINI</td>\n      <td>COOPER</td>\n    </tr>\n    <tr>\n      <th>16</th>\n      <td>CHRYSLER</td>\n      <td>TOWN AND COUNTRY</td>\n    </tr>\n    <tr>\n      <th>21</th>\n      <td>SATURN</td>\n      <td>ION</td>\n    </tr>\n    <tr>\n      <th>23</th>\n      <td>NISSAN</td>\n      <td>MAXIMA</td>\n    </tr>\n    <tr>\n      <th>...</th>\n      <td>...</td>\n      <td>...</td>\n    </tr>\n    <tr>\n      <th>355862</th>\n      <td>CHEVROLET</td>\n      <td>COBALT</td>\n    </tr>\n    <tr>\n      <th>355863</th>\n      <td>PONTIAC</td>\n      <td>G6</td>\n    </tr>\n    <tr>\n      <th>355867</th>\n      <td>FORD</td>\n      <td>RANGER</td>\n    </tr>\n    <tr>\n      <th>355869</th>\n      <td>JEEP</td>\n      <td>LIBERTY</td>\n    </tr>\n    <tr>\n      <th>355872</th>\n      <td>NISSAN</td>\n      <td>350Z</td>\n    </tr>\n  </tbody>\n</table>\n<p>87255 rows × 2 columns</p>\n</div>"
     },
     "metadata": {},
     "execution_count": 17
    }
   ]
  },
  {
   "cell_type": "code",
   "execution_count": 31,
   "metadata": {},
   "outputs": [],
   "source": [
    "pd.DataFrame(unlabeled['purchase_model'].unique()).to_csv(\"CarClassManualFind.csv\")"
   ]
  },
  {
   "cell_type": "code",
   "execution_count": 218,
   "metadata": {},
   "outputs": [
    {
     "output_type": "execute_result",
     "data": {
      "text/plain": [
       "array([[1, 0, 0],\n",
       "       [1, 0, 0],\n",
       "       [2, 3, 4]])"
      ]
     },
     "metadata": {},
     "execution_count": 218
    }
   ],
   "source": [
    "carmax_df."
   ]
  },
  {
   "cell_type": "code",
   "execution_count": 36,
   "metadata": {},
   "outputs": [
    {
     "output_type": "execute_result",
     "data": {
      "text/plain": [
       "639"
      ]
     },
     "metadata": {},
     "execution_count": 36
    }
   ],
   "source": [
    "len(carmax_df['purchase_model'].unique())"
   ]
  },
  {
   "cell_type": "code",
   "execution_count": null,
   "metadata": {},
   "outputs": [],
   "source": []
  }
 ],
 "metadata": {
  "kernelspec": {
   "display_name": "Python 3",
   "language": "python",
   "name": "python3"
  },
  "language_info": {
   "codemirror_mode": {
    "name": "ipython",
    "version": 3
   },
   "file_extension": ".py",
   "mimetype": "text/x-python",
   "name": "python",
   "nbconvert_exporter": "python",
   "pygments_lexer": "ipython3",
   "version": "3.7.4-final"
  }
 },
 "nbformat": 4,
 "nbformat_minor": 2
}