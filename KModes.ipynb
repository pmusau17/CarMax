{
 "cells": [
  {
   "cell_type": "markdown",
   "metadata": {},
   "source": [
    "The k-modes algorithm uses a simple matching dissimilarity measure\n",
    "to deal with categorical objects, replaces the means of clusters with modes, and uses a frequency-based method to\n",
    "update modes in the clustering process to minimize the clustering cost function. With these extensions the k-modes\n",
    "algorithm enables the clustering of categorical data in a fashion similar to k-means"
   ]
  },
  {
   "cell_type": "code",
   "execution_count": 1,
   "metadata": {},
   "outputs": [],
   "source": [
    "'''Load Packages'''\n",
    "import pandas as pd\n",
    "import numpy as np\n",
    "import matplotlib.pyplot as plt\n",
    "import seaborn as sns\n",
    "import statsmodels.formula.api as sm\n",
    "import warnings\n",
    "from sklearn.cluster import KMeans \n",
    "import random\n",
    "from sklearn import metrics \n",
    "from scipy.spatial.distance import cdist\n",
    "from kmodes.kmodes import KModes"
   ]
  },
  {
   "cell_type": "code",
   "execution_count": 2,
   "metadata": {},
   "outputs": [],
   "source": [
    "## load data set\n",
    "carmax_df = pd.read_csv('CaseDataRemodeled.csv')\n",
    "new_df = pd.read_csv('newdata.csv')"
   ]
  },
  {
   "cell_type": "code",
   "execution_count": 3,
   "metadata": {},
   "outputs": [],
   "source": [
    "carmax_df['job_assign'] = new_df['job_assign']\n",
    "carmax_df['customer_income'] = new_df['new_income']\n",
    "carmax_df['customer_age'] = new_df['new_ages']\n",
    "carmax_df['purchase_price'] = new_df['purchase_price']"
   ]
  },
  {
   "cell_type": "code",
   "execution_count": 4,
   "metadata": {},
   "outputs": [
    {
     "output_type": "execute_result",
     "data": {
      "text/plain": [
       "  purchase_make purchase_model  purchase_vehicle_year  purchase_price_LB  \\\n",
       "0         DODGE        CHARGER                   2012            15001.0   \n",
       "1          FORD           F150                   2007            15001.0   \n",
       "2           BMW            328                   2010            25001.0   \n",
       "3         LEXUS         GS 300                   2003            10001.0   \n",
       "4     CHEVROLET          CRUZE                   2012            15001.0   \n",
       "\n",
       "   purchase_price_UB  trade_in  vehicle_financing customer_age  \\\n",
       "0            20000.0         1                  1      21 - 30   \n",
       "1            20000.0         0                  0      51 - 60   \n",
       "2            30000.0         1                  1      41 - 50   \n",
       "3            15000.0         0                  1      21 - 30   \n",
       "4            20000.0         1                  1      31 - 40   \n",
       "\n",
       "   customer_income customer_gender  customer_previous_purchase  \\\n",
       "0    40001 - 60000               U                           0   \n",
       "1        0 - 20000               F                           1   \n",
       "2    60001 - 80000               F                           1   \n",
       "3    20001 - 40000               M                           0   \n",
       "4  120001 - 140000               M                           1   \n",
       "\n",
       "   customer_distance_to_dealer post_purchase_satisfaction  \\\n",
       "0                          8.0                          ?   \n",
       "1                         19.0                          ?   \n",
       "2                         21.0                          ?   \n",
       "3                          8.0                          ?   \n",
       "4                          5.0                          ?   \n",
       "\n",
       "   vehicle_warranty_used  subsequent_purchases    AgeBin purchase_class  \\\n",
       "0                      0                     1  Twenties          sedan   \n",
       "1                      0                     0   Fifties          truck   \n",
       "2                      0                     0   Forties          sedan   \n",
       "3                      0                     0  Twenties          sedan   \n",
       "4                      1                     1  Thirties          sedan   \n",
       "\n",
       "         made_in                                         job_assign  \\\n",
       "0  UNITED STATES  Life, Physical, and Social Science Technicians...   \n",
       "1  UNITED STATES  Entertainers and Performers, Sports and Relate...   \n",
       "2        GERMANY                             Farm Labor Contractors   \n",
       "3          JAPAN                                   Painting Workers   \n",
       "4  UNITED STATES                          Natural Sciences Managers   \n",
       "\n",
       "  purchase_price  \n",
       "0  15001 - 20000  \n",
       "1  15001 - 20000  \n",
       "2  25001 - 30000  \n",
       "3  10001 - 15000  \n",
       "4  15001 - 20000  "
      ],
      "text/html": "<div>\n<style scoped>\n    .dataframe tbody tr th:only-of-type {\n        vertical-align: middle;\n    }\n\n    .dataframe tbody tr th {\n        vertical-align: top;\n    }\n\n    .dataframe thead th {\n        text-align: right;\n    }\n</style>\n<table border=\"1\" class=\"dataframe\">\n  <thead>\n    <tr style=\"text-align: right;\">\n      <th></th>\n      <th>purchase_make</th>\n      <th>purchase_model</th>\n      <th>purchase_vehicle_year</th>\n      <th>purchase_price_LB</th>\n      <th>purchase_price_UB</th>\n      <th>trade_in</th>\n      <th>vehicle_financing</th>\n      <th>customer_age</th>\n      <th>customer_income</th>\n      <th>customer_gender</th>\n      <th>customer_previous_purchase</th>\n      <th>customer_distance_to_dealer</th>\n      <th>post_purchase_satisfaction</th>\n      <th>vehicle_warranty_used</th>\n      <th>subsequent_purchases</th>\n      <th>AgeBin</th>\n      <th>purchase_class</th>\n      <th>made_in</th>\n      <th>job_assign</th>\n      <th>purchase_price</th>\n    </tr>\n  </thead>\n  <tbody>\n    <tr>\n      <th>0</th>\n      <td>DODGE</td>\n      <td>CHARGER</td>\n      <td>2012</td>\n      <td>15001.0</td>\n      <td>20000.0</td>\n      <td>1</td>\n      <td>1</td>\n      <td>21 - 30</td>\n      <td>40001 - 60000</td>\n      <td>U</td>\n      <td>0</td>\n      <td>8.0</td>\n      <td>?</td>\n      <td>0</td>\n      <td>1</td>\n      <td>Twenties</td>\n      <td>sedan</td>\n      <td>UNITED STATES</td>\n      <td>Life, Physical, and Social Science Technicians...</td>\n      <td>15001 - 20000</td>\n    </tr>\n    <tr>\n      <th>1</th>\n      <td>FORD</td>\n      <td>F150</td>\n      <td>2007</td>\n      <td>15001.0</td>\n      <td>20000.0</td>\n      <td>0</td>\n      <td>0</td>\n      <td>51 - 60</td>\n      <td>0 - 20000</td>\n      <td>F</td>\n      <td>1</td>\n      <td>19.0</td>\n      <td>?</td>\n      <td>0</td>\n      <td>0</td>\n      <td>Fifties</td>\n      <td>truck</td>\n      <td>UNITED STATES</td>\n      <td>Entertainers and Performers, Sports and Relate...</td>\n      <td>15001 - 20000</td>\n    </tr>\n    <tr>\n      <th>2</th>\n      <td>BMW</td>\n      <td>328</td>\n      <td>2010</td>\n      <td>25001.0</td>\n      <td>30000.0</td>\n      <td>1</td>\n      <td>1</td>\n      <td>41 - 50</td>\n      <td>60001 - 80000</td>\n      <td>F</td>\n      <td>1</td>\n      <td>21.0</td>\n      <td>?</td>\n      <td>0</td>\n      <td>0</td>\n      <td>Forties</td>\n      <td>sedan</td>\n      <td>GERMANY</td>\n      <td>Farm Labor Contractors</td>\n      <td>25001 - 30000</td>\n    </tr>\n    <tr>\n      <th>3</th>\n      <td>LEXUS</td>\n      <td>GS 300</td>\n      <td>2003</td>\n      <td>10001.0</td>\n      <td>15000.0</td>\n      <td>0</td>\n      <td>1</td>\n      <td>21 - 30</td>\n      <td>20001 - 40000</td>\n      <td>M</td>\n      <td>0</td>\n      <td>8.0</td>\n      <td>?</td>\n      <td>0</td>\n      <td>0</td>\n      <td>Twenties</td>\n      <td>sedan</td>\n      <td>JAPAN</td>\n      <td>Painting Workers</td>\n      <td>10001 - 15000</td>\n    </tr>\n    <tr>\n      <th>4</th>\n      <td>CHEVROLET</td>\n      <td>CRUZE</td>\n      <td>2012</td>\n      <td>15001.0</td>\n      <td>20000.0</td>\n      <td>1</td>\n      <td>1</td>\n      <td>31 - 40</td>\n      <td>120001 - 140000</td>\n      <td>M</td>\n      <td>1</td>\n      <td>5.0</td>\n      <td>?</td>\n      <td>1</td>\n      <td>1</td>\n      <td>Thirties</td>\n      <td>sedan</td>\n      <td>UNITED STATES</td>\n      <td>Natural Sciences Managers</td>\n      <td>15001 - 20000</td>\n    </tr>\n  </tbody>\n</table>\n</div>"
     },
     "metadata": {},
     "execution_count": 4
    }
   ],
   "source": [
    "carmax_df.head()"
   ]
  },
  {
   "cell_type": "code",
   "execution_count": 5,
   "metadata": {},
   "outputs": [],
   "source": [
    "cluster_df = carmax_df.copy().drop(['customer_age','customer_previous_purchase','customer_distance_to_dealer',\n",
    "                             'post_purchase_satisfaction','vehicle_warranty_used','purchase_price_LB',\n",
    "                             'purchase_price_UB','purchase_class','job_assign','purchase_vehicle_year'], axis=1)"
   ]
  },
  {
   "cell_type": "code",
   "execution_count": 6,
   "metadata": {},
   "outputs": [
    {
     "output_type": "execute_result",
     "data": {
      "text/plain": [
       "       purchase_make purchase_model  trade_in  vehicle_financing  \\\n",
       "0              DODGE        CHARGER         1                  1   \n",
       "1               FORD           F150         0                  0   \n",
       "2                BMW            328         1                  1   \n",
       "3              LEXUS         GS 300         0                  1   \n",
       "4          CHEVROLET          CRUZE         1                  1   \n",
       "...              ...            ...       ...                ...   \n",
       "355869          JEEP        LIBERTY         0                  1   \n",
       "355870     CHEVROLET          SONIC         1                  0   \n",
       "355871           KIA        SORENTO         1                  1   \n",
       "355872        NISSAN           350Z         0                  1   \n",
       "355873     CHEVROLET         MALIBU         1                  1   \n",
       "\n",
       "        customer_income customer_gender  subsequent_purchases     AgeBin  \\\n",
       "0         40001 - 60000               U                     1   Twenties   \n",
       "1             0 - 20000               F                     0    Fifties   \n",
       "2         60001 - 80000               F                     0    Forties   \n",
       "3         20001 - 40000               M                     0   Twenties   \n",
       "4       120001 - 140000               M                     1   Thirties   \n",
       "...                 ...             ...                   ...        ...   \n",
       "355869    20001 - 40000               F                     0   Twenties   \n",
       "355870    20001 - 40000               U                     0  Seventies   \n",
       "355871    20001 - 40000               F                     1    Sixties   \n",
       "355872    40001 - 60000               M                     0   Twenties   \n",
       "355873    40001 - 60000               M                     0   Thirties   \n",
       "\n",
       "              made_in purchase_price purchase_class  \n",
       "0       UNITED STATES  15001 - 20000          sedan  \n",
       "1       UNITED STATES  15001 - 20000          truck  \n",
       "2             GERMANY  25001 - 30000          sedan  \n",
       "3               JAPAN  10001 - 15000          sedan  \n",
       "4       UNITED STATES  15001 - 20000          sedan  \n",
       "...               ...            ...            ...  \n",
       "355869  UNITED STATES  15001 - 20000          wagon  \n",
       "355870  UNITED STATES  10001 - 15000          sedan  \n",
       "355871    SOUTH KOREA  15001 - 20000            suv  \n",
       "355872          JAPAN  10001 - 15000          coupe  \n",
       "355873  UNITED STATES  15001 - 20000          sedan  \n",
       "\n",
       "[355874 rows x 11 columns]"
      ],
      "text/html": "<div>\n<style scoped>\n    .dataframe tbody tr th:only-of-type {\n        vertical-align: middle;\n    }\n\n    .dataframe tbody tr th {\n        vertical-align: top;\n    }\n\n    .dataframe thead th {\n        text-align: right;\n    }\n</style>\n<table border=\"1\" class=\"dataframe\">\n  <thead>\n    <tr style=\"text-align: right;\">\n      <th></th>\n      <th>purchase_make</th>\n      <th>purchase_model</th>\n      <th>trade_in</th>\n      <th>vehicle_financing</th>\n      <th>customer_income</th>\n      <th>customer_gender</th>\n      <th>subsequent_purchases</th>\n      <th>AgeBin</th>\n      <th>made_in</th>\n      <th>purchase_price</th>\n      <th>purchase_class</th>\n    </tr>\n  </thead>\n  <tbody>\n    <tr>\n      <th>0</th>\n      <td>DODGE</td>\n      <td>CHARGER</td>\n      <td>1</td>\n      <td>1</td>\n      <td>40001 - 60000</td>\n      <td>U</td>\n      <td>1</td>\n      <td>Twenties</td>\n      <td>UNITED STATES</td>\n      <td>15001 - 20000</td>\n      <td>sedan</td>\n    </tr>\n    <tr>\n      <th>1</th>\n      <td>FORD</td>\n      <td>F150</td>\n      <td>0</td>\n      <td>0</td>\n      <td>0 - 20000</td>\n      <td>F</td>\n      <td>0</td>\n      <td>Fifties</td>\n      <td>UNITED STATES</td>\n      <td>15001 - 20000</td>\n      <td>truck</td>\n    </tr>\n    <tr>\n      <th>2</th>\n      <td>BMW</td>\n      <td>328</td>\n      <td>1</td>\n      <td>1</td>\n      <td>60001 - 80000</td>\n      <td>F</td>\n      <td>0</td>\n      <td>Forties</td>\n      <td>GERMANY</td>\n      <td>25001 - 30000</td>\n      <td>sedan</td>\n    </tr>\n    <tr>\n      <th>3</th>\n      <td>LEXUS</td>\n      <td>GS 300</td>\n      <td>0</td>\n      <td>1</td>\n      <td>20001 - 40000</td>\n      <td>M</td>\n      <td>0</td>\n      <td>Twenties</td>\n      <td>JAPAN</td>\n      <td>10001 - 15000</td>\n      <td>sedan</td>\n    </tr>\n    <tr>\n      <th>4</th>\n      <td>CHEVROLET</td>\n      <td>CRUZE</td>\n      <td>1</td>\n      <td>1</td>\n      <td>120001 - 140000</td>\n      <td>M</td>\n      <td>1</td>\n      <td>Thirties</td>\n      <td>UNITED STATES</td>\n      <td>15001 - 20000</td>\n      <td>sedan</td>\n    </tr>\n    <tr>\n      <th>...</th>\n      <td>...</td>\n      <td>...</td>\n      <td>...</td>\n      <td>...</td>\n      <td>...</td>\n      <td>...</td>\n      <td>...</td>\n      <td>...</td>\n      <td>...</td>\n      <td>...</td>\n      <td>...</td>\n    </tr>\n    <tr>\n      <th>355869</th>\n      <td>JEEP</td>\n      <td>LIBERTY</td>\n      <td>0</td>\n      <td>1</td>\n      <td>20001 - 40000</td>\n      <td>F</td>\n      <td>0</td>\n      <td>Twenties</td>\n      <td>UNITED STATES</td>\n      <td>15001 - 20000</td>\n      <td>wagon</td>\n    </tr>\n    <tr>\n      <th>355870</th>\n      <td>CHEVROLET</td>\n      <td>SONIC</td>\n      <td>1</td>\n      <td>0</td>\n      <td>20001 - 40000</td>\n      <td>U</td>\n      <td>0</td>\n      <td>Seventies</td>\n      <td>UNITED STATES</td>\n      <td>10001 - 15000</td>\n      <td>sedan</td>\n    </tr>\n    <tr>\n      <th>355871</th>\n      <td>KIA</td>\n      <td>SORENTO</td>\n      <td>1</td>\n      <td>1</td>\n      <td>20001 - 40000</td>\n      <td>F</td>\n      <td>1</td>\n      <td>Sixties</td>\n      <td>SOUTH KOREA</td>\n      <td>15001 - 20000</td>\n      <td>suv</td>\n    </tr>\n    <tr>\n      <th>355872</th>\n      <td>NISSAN</td>\n      <td>350Z</td>\n      <td>0</td>\n      <td>1</td>\n      <td>40001 - 60000</td>\n      <td>M</td>\n      <td>0</td>\n      <td>Twenties</td>\n      <td>JAPAN</td>\n      <td>10001 - 15000</td>\n      <td>coupe</td>\n    </tr>\n    <tr>\n      <th>355873</th>\n      <td>CHEVROLET</td>\n      <td>MALIBU</td>\n      <td>1</td>\n      <td>1</td>\n      <td>40001 - 60000</td>\n      <td>M</td>\n      <td>0</td>\n      <td>Thirties</td>\n      <td>UNITED STATES</td>\n      <td>15001 - 20000</td>\n      <td>sedan</td>\n    </tr>\n  </tbody>\n</table>\n<p>355874 rows × 11 columns</p>\n</div>"
     },
     "metadata": {},
     "execution_count": 6
    }
   ],
   "source": [
    "cluster_df['purchase_class'] = carmax_df['purchase_class']\n",
    "cluster_df"
   ]
  },
  {
   "cell_type": "code",
   "execution_count": 41,
   "metadata": {},
   "outputs": [],
   "source": [
    "sedan = cluster_df[cluster_df.purchase_class=='sedan'].copy().reset_index(drop = True).drop('purchase_class', axis = 1)\n",
    "truck = cluster_df[cluster_df.purchase_class=='truck'].copy().reset_index(drop = True).drop('purchase_class', axis = 1)\n",
    "suv = cluster_df[cluster_df.purchase_class=='suv'].copy().reset_index(drop = True).drop('purchase_class', axis = 1)\n",
    "wagon = cluster_df[cluster_df.purchase_class=='wagon'].copy().reset_index(drop = True).drop('purchase_class', axis = 1)\n",
    "van = cluster_df[cluster_df.purchase_class=='van'].copy().reset_index(drop = True).drop('purchase_class', axis = 1)\n",
    "coupe = cluster_df[cluster_df.purchase_class=='coupe'].copy().reset_index(drop = True).drop('purchase_class', axis = 1)\n",
    "convertible = cluster_df[cluster_df.purchase_class=='convertible'].copy().reset_index(drop = True).drop('purchase_class', axis = 1)\n",
    "\n",
    "vehicle_classes = [sedan,truck,suv,wagon,van,coupe,convertible]"
   ]
  },
  {
   "cell_type": "code",
   "execution_count": 8,
   "metadata": {},
   "outputs": [],
   "source": [
    "# vehicle_classes_name = ['sedan','truck','suv','wagon','van','coupe','convertible']\n",
    "# index = 0\n",
    "\n",
    "# for group in vehicle_classes:\n",
    "#     K = range(1,10) \n",
    "#     inertias = []\n",
    "#     mapping2 = {} \n",
    "    \n",
    "#     for k in K: \n",
    "#         #Building and fitting the model \n",
    "#         kmodesModel = KModes(n_clusters=k, init='Huang', n_init=5, verbose=0)\n",
    "#         kmodesModel.fit(group.values)     \n",
    "       \n",
    "#         inertias.append(kmodesModel.cost_) \n",
    "  \n",
    "#         mapping2[k] = kmodesModel.cost_ \n",
    "    \n",
    "#     print(vehicle_classes_name[index])\n",
    "#     index += 1\n",
    "    \n",
    "#     for key,val in mapping2.items(): \n",
    "#         print(str(key)+' : '+str(val)) \n",
    "    \n",
    "#     plt.plot(K, inertias, 'bx-') \n",
    "#     plt.xlabel('Values of K') \n",
    "#     plt.ylabel('Inertia') \n",
    "#     plt.title('The Elbow Method using Inertia') \n",
    "#     plt.show()   "
   ]
  },
  {
   "cell_type": "code",
   "execution_count": 42,
   "metadata": {
    "scrolled": true
   },
   "outputs": [],
   "source": [
    "#k_values = [7,7,6,6,6,6,6]\n",
    "ref = {}\n",
    "vehicle_classes_name = ['sedan','truck','suv','wagon','van','coupe','convertible']\n",
    "index = 0\n",
    "\n",
    "for group in vehicle_classes:  \n",
    "    k_modes = KModes(n_clusters=7, init='Huang', n_init=5, verbose=0,random_state = 2013)\n",
    "    ref[vehicle_classes_name[index]] = k_modes.fit(group.values)    \n",
    "    labels = k_modes.labels_\n",
    "    group[\"cluster_label\"] = labels\n",
    "    index += 1\n"
   ]
  },
  {
   "cell_type": "code",
   "execution_count": 10,
   "metadata": {},
   "outputs": [],
   "source": [
    "# k_modes = KModes(n_clusters=7, init='Huang', n_init=5, verbose=0,random_state = 2013)\n",
    "    \n",
    "# #k_means = KMeans(init=\"k-means++\", n_clusters=num_clusters, n_init=50,algorithm = \"elkan\",random_state = 2013)\n",
    "    \n",
    "# k_modes.fit(suv.values)\n",
    "# labels = k_modes.labels_\n",
    "# suv[\"cluster_label\"] = labels"
   ]
  },
  {
   "cell_type": "code",
   "execution_count": 11,
   "metadata": {},
   "outputs": [],
   "source": [
    "# test = suv.groupby(['cluster_label','purchase_model']).count().reset_index()\n",
    "# test = test.sort_values(by=['cluster_label','purchase_price'],ascending=[True,False])\n",
    "# test = test.groupby('cluster_label').head(10)[['cluster_label','purchase_model','purchase_price']]\n",
    "# test.pivot(index = 'purchase_model',columns='cluster_label',values='purchase_price').fillna(0).style.highlight_max(color = 'green').format(int)"
   ]
  },
  {
   "cell_type": "code",
   "execution_count": 12,
   "metadata": {},
   "outputs": [],
   "source": [
    "# test = suv.groupby(['cluster_label','made_in']).count().reset_index()\n",
    "# test = test.sort_values(by=['cluster_label','purchase_make'],ascending=[True,False])\n",
    "# test.pivot(index = 'made_in',columns='cluster_label',values='purchase_make').fillna(0).style.highlight_max(color = 'green').format(int)"
   ]
  },
  {
   "cell_type": "code",
   "execution_count": 13,
   "metadata": {
    "scrolled": false
   },
   "outputs": [
    {
     "output_type": "execute_result",
     "data": {
      "text/plain": [
       "              purchase_make purchase_model  trade_in  vehicle_financing  \\\n",
       "cluster_label                                                             \n",
       "0                      FORD         FUSION         1                  0   \n",
       "1                    NISSAN         ALTIMA         1                  1   \n",
       "2                 CHEVROLET         MALIBU         0                  1   \n",
       "3                    TOYOTA          CAMRY         0                  1   \n",
       "4                    NISSAN         ALTIMA         0                  1   \n",
       "5                    TOYOTA        COROLLA         0                  1   \n",
       "6                       BMW            328         0                  1   \n",
       "\n",
       "              customer_income customer_gender  subsequent_purchases    AgeBin  \\\n",
       "cluster_label                                                                   \n",
       "0               20001 - 40000               M                     0  Thirties   \n",
       "1               20001 - 40000               F                     0  Twenties   \n",
       "2               20001 - 40000               M                     0  Twenties   \n",
       "3               60001 - 80000               F                     0  Thirties   \n",
       "4               40001 - 60000               M                     0  Thirties   \n",
       "5               20001 - 40000               M                     0  Thirties   \n",
       "6                   0 - 20000               M                     0   Forties   \n",
       "\n",
       "                     made_in purchase_price  \n",
       "cluster_label                                \n",
       "0              UNITED STATES  15001 - 20000  \n",
       "1                      JAPAN  10001 - 15000  \n",
       "2              UNITED STATES  15001 - 20000  \n",
       "3                      JAPAN  15001 - 20000  \n",
       "4                      JAPAN  15001 - 20000  \n",
       "5                      JAPAN  10001 - 15000  \n",
       "6                    GERMANY  10001 - 15000  "
      ],
      "text/html": "<div>\n<style scoped>\n    .dataframe tbody tr th:only-of-type {\n        vertical-align: middle;\n    }\n\n    .dataframe tbody tr th {\n        vertical-align: top;\n    }\n\n    .dataframe thead th {\n        text-align: right;\n    }\n</style>\n<table border=\"1\" class=\"dataframe\">\n  <thead>\n    <tr style=\"text-align: right;\">\n      <th></th>\n      <th>purchase_make</th>\n      <th>purchase_model</th>\n      <th>trade_in</th>\n      <th>vehicle_financing</th>\n      <th>customer_income</th>\n      <th>customer_gender</th>\n      <th>subsequent_purchases</th>\n      <th>AgeBin</th>\n      <th>made_in</th>\n      <th>purchase_price</th>\n    </tr>\n    <tr>\n      <th>cluster_label</th>\n      <th></th>\n      <th></th>\n      <th></th>\n      <th></th>\n      <th></th>\n      <th></th>\n      <th></th>\n      <th></th>\n      <th></th>\n      <th></th>\n    </tr>\n  </thead>\n  <tbody>\n    <tr>\n      <th>0</th>\n      <td>FORD</td>\n      <td>FUSION</td>\n      <td>1</td>\n      <td>0</td>\n      <td>20001 - 40000</td>\n      <td>M</td>\n      <td>0</td>\n      <td>Thirties</td>\n      <td>UNITED STATES</td>\n      <td>15001 - 20000</td>\n    </tr>\n    <tr>\n      <th>1</th>\n      <td>NISSAN</td>\n      <td>ALTIMA</td>\n      <td>1</td>\n      <td>1</td>\n      <td>20001 - 40000</td>\n      <td>F</td>\n      <td>0</td>\n      <td>Twenties</td>\n      <td>JAPAN</td>\n      <td>10001 - 15000</td>\n    </tr>\n    <tr>\n      <th>2</th>\n      <td>CHEVROLET</td>\n      <td>MALIBU</td>\n      <td>0</td>\n      <td>1</td>\n      <td>20001 - 40000</td>\n      <td>M</td>\n      <td>0</td>\n      <td>Twenties</td>\n      <td>UNITED STATES</td>\n      <td>15001 - 20000</td>\n    </tr>\n    <tr>\n      <th>3</th>\n      <td>TOYOTA</td>\n      <td>CAMRY</td>\n      <td>0</td>\n      <td>1</td>\n      <td>60001 - 80000</td>\n      <td>F</td>\n      <td>0</td>\n      <td>Thirties</td>\n      <td>JAPAN</td>\n      <td>15001 - 20000</td>\n    </tr>\n    <tr>\n      <th>4</th>\n      <td>NISSAN</td>\n      <td>ALTIMA</td>\n      <td>0</td>\n      <td>1</td>\n      <td>40001 - 60000</td>\n      <td>M</td>\n      <td>0</td>\n      <td>Thirties</td>\n      <td>JAPAN</td>\n      <td>15001 - 20000</td>\n    </tr>\n    <tr>\n      <th>5</th>\n      <td>TOYOTA</td>\n      <td>COROLLA</td>\n      <td>0</td>\n      <td>1</td>\n      <td>20001 - 40000</td>\n      <td>M</td>\n      <td>0</td>\n      <td>Thirties</td>\n      <td>JAPAN</td>\n      <td>10001 - 15000</td>\n    </tr>\n    <tr>\n      <th>6</th>\n      <td>BMW</td>\n      <td>328</td>\n      <td>0</td>\n      <td>1</td>\n      <td>0 - 20000</td>\n      <td>M</td>\n      <td>0</td>\n      <td>Forties</td>\n      <td>GERMANY</td>\n      <td>10001 - 15000</td>\n    </tr>\n  </tbody>\n</table>\n</div>"
     },
     "metadata": {},
     "execution_count": 13
    }
   ],
   "source": [
    "sedan.groupby('cluster_label').agg(lambda x: pd.Series.mode(x)[0])"
   ]
  },
  {
   "cell_type": "code",
   "execution_count": 14,
   "metadata": {},
   "outputs": [
    {
     "output_type": "execute_result",
     "data": {
      "text/plain": [
       "              purchase_make  purchase_model  trade_in  vehicle_financing  \\\n",
       "cluster_label                                                              \n",
       "0                 CHEVROLET  SILVERADO 1500         0                  0   \n",
       "1                      FORD            F150         0                  1   \n",
       "2                 CHEVROLET  SILVERADO 1500         1                  1   \n",
       "3                    TOYOTA          TACOMA         1                  1   \n",
       "4                     DODGE        RAM 1500         1                  1   \n",
       "5                       GMC     SIERRA 1500         1                  1   \n",
       "6                      FORD            F150         1                  1   \n",
       "\n",
       "              customer_income customer_gender  subsequent_purchases    AgeBin  \\\n",
       "cluster_label                                                                   \n",
       "0               40001 - 60000               M                     0   Forties   \n",
       "1               60001 - 80000               M                     0   Fifties   \n",
       "2               60001 - 80000               M                     0  Twenties   \n",
       "3               40001 - 60000               M                     0   Forties   \n",
       "4               20001 - 40000               M                     0  Twenties   \n",
       "5               40001 - 60000               M                     0   Fifties   \n",
       "6               20001 - 40000               M                     0   Forties   \n",
       "\n",
       "                     made_in purchase_price  \n",
       "cluster_label                                \n",
       "0              UNITED STATES  10001 - 15000  \n",
       "1              UNITED STATES  15001 - 20000  \n",
       "2              UNITED STATES  15001 - 20000  \n",
       "3                      JAPAN  20001 - 25000  \n",
       "4              UNITED STATES  20001 - 25000  \n",
       "5              UNITED STATES  25001 - 30000  \n",
       "6              UNITED STATES  10001 - 15000  "
      ],
      "text/html": "<div>\n<style scoped>\n    .dataframe tbody tr th:only-of-type {\n        vertical-align: middle;\n    }\n\n    .dataframe tbody tr th {\n        vertical-align: top;\n    }\n\n    .dataframe thead th {\n        text-align: right;\n    }\n</style>\n<table border=\"1\" class=\"dataframe\">\n  <thead>\n    <tr style=\"text-align: right;\">\n      <th></th>\n      <th>purchase_make</th>\n      <th>purchase_model</th>\n      <th>trade_in</th>\n      <th>vehicle_financing</th>\n      <th>customer_income</th>\n      <th>customer_gender</th>\n      <th>subsequent_purchases</th>\n      <th>AgeBin</th>\n      <th>made_in</th>\n      <th>purchase_price</th>\n    </tr>\n    <tr>\n      <th>cluster_label</th>\n      <th></th>\n      <th></th>\n      <th></th>\n      <th></th>\n      <th></th>\n      <th></th>\n      <th></th>\n      <th></th>\n      <th></th>\n      <th></th>\n    </tr>\n  </thead>\n  <tbody>\n    <tr>\n      <th>0</th>\n      <td>CHEVROLET</td>\n      <td>SILVERADO 1500</td>\n      <td>0</td>\n      <td>0</td>\n      <td>40001 - 60000</td>\n      <td>M</td>\n      <td>0</td>\n      <td>Forties</td>\n      <td>UNITED STATES</td>\n      <td>10001 - 15000</td>\n    </tr>\n    <tr>\n      <th>1</th>\n      <td>FORD</td>\n      <td>F150</td>\n      <td>0</td>\n      <td>1</td>\n      <td>60001 - 80000</td>\n      <td>M</td>\n      <td>0</td>\n      <td>Fifties</td>\n      <td>UNITED STATES</td>\n      <td>15001 - 20000</td>\n    </tr>\n    <tr>\n      <th>2</th>\n      <td>CHEVROLET</td>\n      <td>SILVERADO 1500</td>\n      <td>1</td>\n      <td>1</td>\n      <td>60001 - 80000</td>\n      <td>M</td>\n      <td>0</td>\n      <td>Twenties</td>\n      <td>UNITED STATES</td>\n      <td>15001 - 20000</td>\n    </tr>\n    <tr>\n      <th>3</th>\n      <td>TOYOTA</td>\n      <td>TACOMA</td>\n      <td>1</td>\n      <td>1</td>\n      <td>40001 - 60000</td>\n      <td>M</td>\n      <td>0</td>\n      <td>Forties</td>\n      <td>JAPAN</td>\n      <td>20001 - 25000</td>\n    </tr>\n    <tr>\n      <th>4</th>\n      <td>DODGE</td>\n      <td>RAM 1500</td>\n      <td>1</td>\n      <td>1</td>\n      <td>20001 - 40000</td>\n      <td>M</td>\n      <td>0</td>\n      <td>Twenties</td>\n      <td>UNITED STATES</td>\n      <td>20001 - 25000</td>\n    </tr>\n    <tr>\n      <th>5</th>\n      <td>GMC</td>\n      <td>SIERRA 1500</td>\n      <td>1</td>\n      <td>1</td>\n      <td>40001 - 60000</td>\n      <td>M</td>\n      <td>0</td>\n      <td>Fifties</td>\n      <td>UNITED STATES</td>\n      <td>25001 - 30000</td>\n    </tr>\n    <tr>\n      <th>6</th>\n      <td>FORD</td>\n      <td>F150</td>\n      <td>1</td>\n      <td>1</td>\n      <td>20001 - 40000</td>\n      <td>M</td>\n      <td>0</td>\n      <td>Forties</td>\n      <td>UNITED STATES</td>\n      <td>10001 - 15000</td>\n    </tr>\n  </tbody>\n</table>\n</div>"
     },
     "metadata": {},
     "execution_count": 14
    }
   ],
   "source": [
    "truck.groupby('cluster_label').agg(lambda x: pd.Series.mode(x)[0])"
   ]
  },
  {
   "cell_type": "code",
   "execution_count": 15,
   "metadata": {},
   "outputs": [
    {
     "output_type": "execute_result",
     "data": {
      "text/plain": [
       "               purchase_make purchase_model  trade_in  vehicle_financing  \\\n",
       "cluster_label                                                              \n",
       "0                       JEEP        PATRIOT         0                  1   \n",
       "1                       FORD         ESCAPE         0                  1   \n",
       "2              MERCEDES-BENZ          ML350         1                  1   \n",
       "3                      HONDA           CR-V         0                  1   \n",
       "4                  CHEVROLET        EQUINOX         1                  1   \n",
       "5                     TOYOTA           RAV4         1                  1   \n",
       "6                     NISSAN          ROGUE         1                  1   \n",
       "\n",
       "              customer_income customer_gender  subsequent_purchases    AgeBin  \\\n",
       "cluster_label                                                                   \n",
       "0               40001 - 60000               F                     0  Twenties   \n",
       "1               20001 - 40000               M                     0   Fifties   \n",
       "2               20001 - 40000               F                     0  Thirties   \n",
       "3               60001 - 80000               F                     0   Fifties   \n",
       "4               40001 - 60000               F                     0   Forties   \n",
       "5               40001 - 60000               M                     1  Thirties   \n",
       "6               60001 - 80000               M                     0  Thirties   \n",
       "\n",
       "                     made_in purchase_price  \n",
       "cluster_label                                \n",
       "0              UNITED STATES  15001 - 20000  \n",
       "1              UNITED STATES  15001 - 20000  \n",
       "2                    GERMANY  20001 - 25000  \n",
       "3                      JAPAN  20001 - 25000  \n",
       "4              UNITED STATES  10001 - 15000  \n",
       "5                      JAPAN  15001 - 20000  \n",
       "6                      JAPAN  20001 - 25000  "
      ],
      "text/html": "<div>\n<style scoped>\n    .dataframe tbody tr th:only-of-type {\n        vertical-align: middle;\n    }\n\n    .dataframe tbody tr th {\n        vertical-align: top;\n    }\n\n    .dataframe thead th {\n        text-align: right;\n    }\n</style>\n<table border=\"1\" class=\"dataframe\">\n  <thead>\n    <tr style=\"text-align: right;\">\n      <th></th>\n      <th>purchase_make</th>\n      <th>purchase_model</th>\n      <th>trade_in</th>\n      <th>vehicle_financing</th>\n      <th>customer_income</th>\n      <th>customer_gender</th>\n      <th>subsequent_purchases</th>\n      <th>AgeBin</th>\n      <th>made_in</th>\n      <th>purchase_price</th>\n    </tr>\n    <tr>\n      <th>cluster_label</th>\n      <th></th>\n      <th></th>\n      <th></th>\n      <th></th>\n      <th></th>\n      <th></th>\n      <th></th>\n      <th></th>\n      <th></th>\n      <th></th>\n    </tr>\n  </thead>\n  <tbody>\n    <tr>\n      <th>0</th>\n      <td>JEEP</td>\n      <td>PATRIOT</td>\n      <td>0</td>\n      <td>1</td>\n      <td>40001 - 60000</td>\n      <td>F</td>\n      <td>0</td>\n      <td>Twenties</td>\n      <td>UNITED STATES</td>\n      <td>15001 - 20000</td>\n    </tr>\n    <tr>\n      <th>1</th>\n      <td>FORD</td>\n      <td>ESCAPE</td>\n      <td>0</td>\n      <td>1</td>\n      <td>20001 - 40000</td>\n      <td>M</td>\n      <td>0</td>\n      <td>Fifties</td>\n      <td>UNITED STATES</td>\n      <td>15001 - 20000</td>\n    </tr>\n    <tr>\n      <th>2</th>\n      <td>MERCEDES-BENZ</td>\n      <td>ML350</td>\n      <td>1</td>\n      <td>1</td>\n      <td>20001 - 40000</td>\n      <td>F</td>\n      <td>0</td>\n      <td>Thirties</td>\n      <td>GERMANY</td>\n      <td>20001 - 25000</td>\n    </tr>\n    <tr>\n      <th>3</th>\n      <td>HONDA</td>\n      <td>CR-V</td>\n      <td>0</td>\n      <td>1</td>\n      <td>60001 - 80000</td>\n      <td>F</td>\n      <td>0</td>\n      <td>Fifties</td>\n      <td>JAPAN</td>\n      <td>20001 - 25000</td>\n    </tr>\n    <tr>\n      <th>4</th>\n      <td>CHEVROLET</td>\n      <td>EQUINOX</td>\n      <td>1</td>\n      <td>1</td>\n      <td>40001 - 60000</td>\n      <td>F</td>\n      <td>0</td>\n      <td>Forties</td>\n      <td>UNITED STATES</td>\n      <td>10001 - 15000</td>\n    </tr>\n    <tr>\n      <th>5</th>\n      <td>TOYOTA</td>\n      <td>RAV4</td>\n      <td>1</td>\n      <td>1</td>\n      <td>40001 - 60000</td>\n      <td>M</td>\n      <td>1</td>\n      <td>Thirties</td>\n      <td>JAPAN</td>\n      <td>15001 - 20000</td>\n    </tr>\n    <tr>\n      <th>6</th>\n      <td>NISSAN</td>\n      <td>ROGUE</td>\n      <td>1</td>\n      <td>1</td>\n      <td>60001 - 80000</td>\n      <td>M</td>\n      <td>0</td>\n      <td>Thirties</td>\n      <td>JAPAN</td>\n      <td>20001 - 25000</td>\n    </tr>\n  </tbody>\n</table>\n</div>"
     },
     "metadata": {},
     "execution_count": 15
    }
   ],
   "source": [
    "suv.groupby('cluster_label').agg(lambda x: pd.Series.mode(x)[0])"
   ]
  },
  {
   "cell_type": "code",
   "execution_count": 16,
   "metadata": {},
   "outputs": [
    {
     "output_type": "execute_result",
     "data": {
      "text/plain": [
       "              purchase_make purchase_model  trade_in  vehicle_financing  \\\n",
       "cluster_label                                                             \n",
       "0                    TOYOTA          PRIUS         0                  1   \n",
       "1                     DODGE        CALIBER         1                  1   \n",
       "2                       KIA           SOUL         1                  1   \n",
       "3                      MINI         COOPER         1                  1   \n",
       "4                    TOYOTA          YARIS         0                  1   \n",
       "5                       KIA           SOUL         0                  1   \n",
       "6                      JEEP        LIBERTY         0                  1   \n",
       "\n",
       "              customer_income customer_gender  subsequent_purchases    AgeBin  \\\n",
       "cluster_label                                                                   \n",
       "0               40001 - 60000               F                     0  Thirties   \n",
       "1               20001 - 40000               F                     0  Twenties   \n",
       "2               40001 - 60000               M                     1  Twenties   \n",
       "3               40001 - 60000               M                     0   Forties   \n",
       "4               20001 - 40000               F                     1  Twenties   \n",
       "5               20001 - 40000               F                     0   Forties   \n",
       "6               40001 - 60000               M                     0  Thirties   \n",
       "\n",
       "                      made_in purchase_price  \n",
       "cluster_label                                 \n",
       "0                       JAPAN  15001 - 20000  \n",
       "1               UNITED STATES  10001 - 15000  \n",
       "2               UNITED STATES  10001 - 15000  \n",
       "3              UNITED KINGDOM  15001 - 20000  \n",
       "4                       JAPAN  10001 - 15000  \n",
       "5                 SOUTH KOREA  10001 - 15000  \n",
       "6               UNITED STATES  10001 - 15000  "
      ],
      "text/html": "<div>\n<style scoped>\n    .dataframe tbody tr th:only-of-type {\n        vertical-align: middle;\n    }\n\n    .dataframe tbody tr th {\n        vertical-align: top;\n    }\n\n    .dataframe thead th {\n        text-align: right;\n    }\n</style>\n<table border=\"1\" class=\"dataframe\">\n  <thead>\n    <tr style=\"text-align: right;\">\n      <th></th>\n      <th>purchase_make</th>\n      <th>purchase_model</th>\n      <th>trade_in</th>\n      <th>vehicle_financing</th>\n      <th>customer_income</th>\n      <th>customer_gender</th>\n      <th>subsequent_purchases</th>\n      <th>AgeBin</th>\n      <th>made_in</th>\n      <th>purchase_price</th>\n    </tr>\n    <tr>\n      <th>cluster_label</th>\n      <th></th>\n      <th></th>\n      <th></th>\n      <th></th>\n      <th></th>\n      <th></th>\n      <th></th>\n      <th></th>\n      <th></th>\n      <th></th>\n    </tr>\n  </thead>\n  <tbody>\n    <tr>\n      <th>0</th>\n      <td>TOYOTA</td>\n      <td>PRIUS</td>\n      <td>0</td>\n      <td>1</td>\n      <td>40001 - 60000</td>\n      <td>F</td>\n      <td>0</td>\n      <td>Thirties</td>\n      <td>JAPAN</td>\n      <td>15001 - 20000</td>\n    </tr>\n    <tr>\n      <th>1</th>\n      <td>DODGE</td>\n      <td>CALIBER</td>\n      <td>1</td>\n      <td>1</td>\n      <td>20001 - 40000</td>\n      <td>F</td>\n      <td>0</td>\n      <td>Twenties</td>\n      <td>UNITED STATES</td>\n      <td>10001 - 15000</td>\n    </tr>\n    <tr>\n      <th>2</th>\n      <td>KIA</td>\n      <td>SOUL</td>\n      <td>1</td>\n      <td>1</td>\n      <td>40001 - 60000</td>\n      <td>M</td>\n      <td>1</td>\n      <td>Twenties</td>\n      <td>UNITED STATES</td>\n      <td>10001 - 15000</td>\n    </tr>\n    <tr>\n      <th>3</th>\n      <td>MINI</td>\n      <td>COOPER</td>\n      <td>1</td>\n      <td>1</td>\n      <td>40001 - 60000</td>\n      <td>M</td>\n      <td>0</td>\n      <td>Forties</td>\n      <td>UNITED KINGDOM</td>\n      <td>15001 - 20000</td>\n    </tr>\n    <tr>\n      <th>4</th>\n      <td>TOYOTA</td>\n      <td>YARIS</td>\n      <td>0</td>\n      <td>1</td>\n      <td>20001 - 40000</td>\n      <td>F</td>\n      <td>1</td>\n      <td>Twenties</td>\n      <td>JAPAN</td>\n      <td>10001 - 15000</td>\n    </tr>\n    <tr>\n      <th>5</th>\n      <td>KIA</td>\n      <td>SOUL</td>\n      <td>0</td>\n      <td>1</td>\n      <td>20001 - 40000</td>\n      <td>F</td>\n      <td>0</td>\n      <td>Forties</td>\n      <td>SOUTH KOREA</td>\n      <td>10001 - 15000</td>\n    </tr>\n    <tr>\n      <th>6</th>\n      <td>JEEP</td>\n      <td>LIBERTY</td>\n      <td>0</td>\n      <td>1</td>\n      <td>40001 - 60000</td>\n      <td>M</td>\n      <td>0</td>\n      <td>Thirties</td>\n      <td>UNITED STATES</td>\n      <td>10001 - 15000</td>\n    </tr>\n  </tbody>\n</table>\n</div>"
     },
     "metadata": {},
     "execution_count": 16
    }
   ],
   "source": [
    "wagon.groupby('cluster_label').agg(lambda x: pd.Series.mode(x)[0])"
   ]
  },
  {
   "cell_type": "code",
   "execution_count": 17,
   "metadata": {},
   "outputs": [
    {
     "output_type": "execute_result",
     "data": {
      "text/plain": [
       "              purchase_make    purchase_model  trade_in  vehicle_financing  \\\n",
       "cluster_label                                                                \n",
       "0                  CHRYSLER  TOWN AND COUNTRY         0                  0   \n",
       "1                     DODGE     GRAND CARAVAN         0                  1   \n",
       "2                     HONDA           ODYSSEY         1                  1   \n",
       "3                    TOYOTA            SIENNA         1                  1   \n",
       "4                     HONDA           ODYSSEY         0                  1   \n",
       "5                    TOYOTA            SIENNA         0                  0   \n",
       "6                  CHRYSLER  TOWN AND COUNTRY         1                  1   \n",
       "\n",
       "              customer_income customer_gender  subsequent_purchases    AgeBin  \\\n",
       "cluster_label                                                                   \n",
       "0               20001 - 40000               F                     0  Thirties   \n",
       "1               40001 - 60000               M                     0   Forties   \n",
       "2               40001 - 60000               M                     1  Thirties   \n",
       "3               60001 - 80000               F                     0  Thirties   \n",
       "4               60001 - 80000               M                     0   Forties   \n",
       "5               20001 - 40000               M                     0   Forties   \n",
       "6               40001 - 60000               M                     0  Thirties   \n",
       "\n",
       "                     made_in purchase_price  \n",
       "cluster_label                                \n",
       "0              UNITED STATES  15001 - 20000  \n",
       "1              UNITED STATES  15001 - 20000  \n",
       "2                      JAPAN  15001 - 20000  \n",
       "3                      JAPAN  10001 - 15000  \n",
       "4                      JAPAN  20001 - 25000  \n",
       "5                      JAPAN  15001 - 20000  \n",
       "6              UNITED STATES  20001 - 25000  "
      ],
      "text/html": "<div>\n<style scoped>\n    .dataframe tbody tr th:only-of-type {\n        vertical-align: middle;\n    }\n\n    .dataframe tbody tr th {\n        vertical-align: top;\n    }\n\n    .dataframe thead th {\n        text-align: right;\n    }\n</style>\n<table border=\"1\" class=\"dataframe\">\n  <thead>\n    <tr style=\"text-align: right;\">\n      <th></th>\n      <th>purchase_make</th>\n      <th>purchase_model</th>\n      <th>trade_in</th>\n      <th>vehicle_financing</th>\n      <th>customer_income</th>\n      <th>customer_gender</th>\n      <th>subsequent_purchases</th>\n      <th>AgeBin</th>\n      <th>made_in</th>\n      <th>purchase_price</th>\n    </tr>\n    <tr>\n      <th>cluster_label</th>\n      <th></th>\n      <th></th>\n      <th></th>\n      <th></th>\n      <th></th>\n      <th></th>\n      <th></th>\n      <th></th>\n      <th></th>\n      <th></th>\n    </tr>\n  </thead>\n  <tbody>\n    <tr>\n      <th>0</th>\n      <td>CHRYSLER</td>\n      <td>TOWN AND COUNTRY</td>\n      <td>0</td>\n      <td>0</td>\n      <td>20001 - 40000</td>\n      <td>F</td>\n      <td>0</td>\n      <td>Thirties</td>\n      <td>UNITED STATES</td>\n      <td>15001 - 20000</td>\n    </tr>\n    <tr>\n      <th>1</th>\n      <td>DODGE</td>\n      <td>GRAND CARAVAN</td>\n      <td>0</td>\n      <td>1</td>\n      <td>40001 - 60000</td>\n      <td>M</td>\n      <td>0</td>\n      <td>Forties</td>\n      <td>UNITED STATES</td>\n      <td>15001 - 20000</td>\n    </tr>\n    <tr>\n      <th>2</th>\n      <td>HONDA</td>\n      <td>ODYSSEY</td>\n      <td>1</td>\n      <td>1</td>\n      <td>40001 - 60000</td>\n      <td>M</td>\n      <td>1</td>\n      <td>Thirties</td>\n      <td>JAPAN</td>\n      <td>15001 - 20000</td>\n    </tr>\n    <tr>\n      <th>3</th>\n      <td>TOYOTA</td>\n      <td>SIENNA</td>\n      <td>1</td>\n      <td>1</td>\n      <td>60001 - 80000</td>\n      <td>F</td>\n      <td>0</td>\n      <td>Thirties</td>\n      <td>JAPAN</td>\n      <td>10001 - 15000</td>\n    </tr>\n    <tr>\n      <th>4</th>\n      <td>HONDA</td>\n      <td>ODYSSEY</td>\n      <td>0</td>\n      <td>1</td>\n      <td>60001 - 80000</td>\n      <td>M</td>\n      <td>0</td>\n      <td>Forties</td>\n      <td>JAPAN</td>\n      <td>20001 - 25000</td>\n    </tr>\n    <tr>\n      <th>5</th>\n      <td>TOYOTA</td>\n      <td>SIENNA</td>\n      <td>0</td>\n      <td>0</td>\n      <td>20001 - 40000</td>\n      <td>M</td>\n      <td>0</td>\n      <td>Forties</td>\n      <td>JAPAN</td>\n      <td>15001 - 20000</td>\n    </tr>\n    <tr>\n      <th>6</th>\n      <td>CHRYSLER</td>\n      <td>TOWN AND COUNTRY</td>\n      <td>1</td>\n      <td>1</td>\n      <td>40001 - 60000</td>\n      <td>M</td>\n      <td>0</td>\n      <td>Thirties</td>\n      <td>UNITED STATES</td>\n      <td>20001 - 25000</td>\n    </tr>\n  </tbody>\n</table>\n</div>"
     },
     "metadata": {},
     "execution_count": 17
    }
   ],
   "source": [
    "van.groupby('cluster_label').agg(lambda x: pd.Series.mode(x)[0])"
   ]
  },
  {
   "cell_type": "code",
   "execution_count": 18,
   "metadata": {},
   "outputs": [
    {
     "output_type": "execute_result",
     "data": {
      "text/plain": [
       "               purchase_make purchase_model  trade_in  vehicle_financing  \\\n",
       "cluster_label                                                              \n",
       "0              MERCEDES-BENZ           C300         0                  1   \n",
       "1                      HONDA         ACCORD         1                  1   \n",
       "2                      HONDA         ACCORD         0                  1   \n",
       "3                      HONDA          CIVIC         0                  1   \n",
       "4                      DODGE     CHALLENGER         1                  1   \n",
       "5                      HONDA          CIVIC         1                  1   \n",
       "6                      HONDA         ACCORD         0                  1   \n",
       "\n",
       "              customer_income customer_gender  subsequent_purchases    AgeBin  \\\n",
       "cluster_label                                                                   \n",
       "0               40001 - 60000               M                     0   Forties   \n",
       "1               60001 - 80000               M                     0   Forties   \n",
       "2               20001 - 40000               M                     0  Twenties   \n",
       "3               40001 - 60000               F                     1  Twenties   \n",
       "4               20001 - 40000               M                     0  Twenties   \n",
       "5               20001 - 40000               F                     0  Thirties   \n",
       "6               40001 - 60000               M                     0  Thirties   \n",
       "\n",
       "                     made_in purchase_price  \n",
       "cluster_label                                \n",
       "0                    GERMANY  20001 - 25000  \n",
       "1                      JAPAN  15001 - 20000  \n",
       "2                      JAPAN  15001 - 20000  \n",
       "3                      JAPAN  10001 - 15000  \n",
       "4              UNITED STATES  20001 - 25000  \n",
       "5                      JAPAN  15001 - 20000  \n",
       "6                      JAPAN  15001 - 20000  "
      ],
      "text/html": "<div>\n<style scoped>\n    .dataframe tbody tr th:only-of-type {\n        vertical-align: middle;\n    }\n\n    .dataframe tbody tr th {\n        vertical-align: top;\n    }\n\n    .dataframe thead th {\n        text-align: right;\n    }\n</style>\n<table border=\"1\" class=\"dataframe\">\n  <thead>\n    <tr style=\"text-align: right;\">\n      <th></th>\n      <th>purchase_make</th>\n      <th>purchase_model</th>\n      <th>trade_in</th>\n      <th>vehicle_financing</th>\n      <th>customer_income</th>\n      <th>customer_gender</th>\n      <th>subsequent_purchases</th>\n      <th>AgeBin</th>\n      <th>made_in</th>\n      <th>purchase_price</th>\n    </tr>\n    <tr>\n      <th>cluster_label</th>\n      <th></th>\n      <th></th>\n      <th></th>\n      <th></th>\n      <th></th>\n      <th></th>\n      <th></th>\n      <th></th>\n      <th></th>\n      <th></th>\n    </tr>\n  </thead>\n  <tbody>\n    <tr>\n      <th>0</th>\n      <td>MERCEDES-BENZ</td>\n      <td>C300</td>\n      <td>0</td>\n      <td>1</td>\n      <td>40001 - 60000</td>\n      <td>M</td>\n      <td>0</td>\n      <td>Forties</td>\n      <td>GERMANY</td>\n      <td>20001 - 25000</td>\n    </tr>\n    <tr>\n      <th>1</th>\n      <td>HONDA</td>\n      <td>ACCORD</td>\n      <td>1</td>\n      <td>1</td>\n      <td>60001 - 80000</td>\n      <td>M</td>\n      <td>0</td>\n      <td>Forties</td>\n      <td>JAPAN</td>\n      <td>15001 - 20000</td>\n    </tr>\n    <tr>\n      <th>2</th>\n      <td>HONDA</td>\n      <td>ACCORD</td>\n      <td>0</td>\n      <td>1</td>\n      <td>20001 - 40000</td>\n      <td>M</td>\n      <td>0</td>\n      <td>Twenties</td>\n      <td>JAPAN</td>\n      <td>15001 - 20000</td>\n    </tr>\n    <tr>\n      <th>3</th>\n      <td>HONDA</td>\n      <td>CIVIC</td>\n      <td>0</td>\n      <td>1</td>\n      <td>40001 - 60000</td>\n      <td>F</td>\n      <td>1</td>\n      <td>Twenties</td>\n      <td>JAPAN</td>\n      <td>10001 - 15000</td>\n    </tr>\n    <tr>\n      <th>4</th>\n      <td>DODGE</td>\n      <td>CHALLENGER</td>\n      <td>1</td>\n      <td>1</td>\n      <td>20001 - 40000</td>\n      <td>M</td>\n      <td>0</td>\n      <td>Twenties</td>\n      <td>UNITED STATES</td>\n      <td>20001 - 25000</td>\n    </tr>\n    <tr>\n      <th>5</th>\n      <td>HONDA</td>\n      <td>CIVIC</td>\n      <td>1</td>\n      <td>1</td>\n      <td>20001 - 40000</td>\n      <td>F</td>\n      <td>0</td>\n      <td>Thirties</td>\n      <td>JAPAN</td>\n      <td>15001 - 20000</td>\n    </tr>\n    <tr>\n      <th>6</th>\n      <td>HONDA</td>\n      <td>ACCORD</td>\n      <td>0</td>\n      <td>1</td>\n      <td>40001 - 60000</td>\n      <td>M</td>\n      <td>0</td>\n      <td>Thirties</td>\n      <td>JAPAN</td>\n      <td>15001 - 20000</td>\n    </tr>\n  </tbody>\n</table>\n</div>"
     },
     "metadata": {},
     "execution_count": 18
    }
   ],
   "source": [
    "coupe.groupby('cluster_label').agg(lambda x: pd.Series.mode(x)[0])"
   ]
  },
  {
   "cell_type": "code",
   "execution_count": 19,
   "metadata": {},
   "outputs": [
    {
     "output_type": "execute_result",
     "data": {
      "text/plain": [
       "               purchase_make purchase_model  trade_in  vehicle_financing  \\\n",
       "cluster_label                                                              \n",
       "0                  CHEVROLET         CAMARO         1                  1   \n",
       "1              MERCEDES-BENZ           E350         1                  1   \n",
       "2                       FORD        MUSTANG         0                  1   \n",
       "3                  CHEVROLET         CAMARO         1                  1   \n",
       "4                       JEEP       WRANGLER         0                  1   \n",
       "5                 VOLKSWAGEN         BEETLE         1                  1   \n",
       "6                  CHEVROLET       CORVETTE         0                  1   \n",
       "\n",
       "              customer_income customer_gender  subsequent_purchases    AgeBin  \\\n",
       "cluster_label                                                                   \n",
       "0               20001 - 40000               F                     1   Forties   \n",
       "1              80001 - 100000               M                     0   Forties   \n",
       "2               40001 - 60000               M                     0  Twenties   \n",
       "3               40001 - 60000               M                     0  Twenties   \n",
       "4               40001 - 60000               M                     0   Forties   \n",
       "5               60001 - 80000               F                     0   Fifties   \n",
       "6               20001 - 40000               M                     1   Fifties   \n",
       "\n",
       "                     made_in purchase_price  \n",
       "cluster_label                                \n",
       "0              UNITED STATES  20001 - 25000  \n",
       "1                    GERMANY  30001 - 35000  \n",
       "2              UNITED STATES  15001 - 20000  \n",
       "3              UNITED STATES  25001 - 30000  \n",
       "4              UNITED STATES  20001 - 25000  \n",
       "5                    GERMANY  15001 - 20000  \n",
       "6              UNITED STATES  25001 - 30000  "
      ],
      "text/html": "<div>\n<style scoped>\n    .dataframe tbody tr th:only-of-type {\n        vertical-align: middle;\n    }\n\n    .dataframe tbody tr th {\n        vertical-align: top;\n    }\n\n    .dataframe thead th {\n        text-align: right;\n    }\n</style>\n<table border=\"1\" class=\"dataframe\">\n  <thead>\n    <tr style=\"text-align: right;\">\n      <th></th>\n      <th>purchase_make</th>\n      <th>purchase_model</th>\n      <th>trade_in</th>\n      <th>vehicle_financing</th>\n      <th>customer_income</th>\n      <th>customer_gender</th>\n      <th>subsequent_purchases</th>\n      <th>AgeBin</th>\n      <th>made_in</th>\n      <th>purchase_price</th>\n    </tr>\n    <tr>\n      <th>cluster_label</th>\n      <th></th>\n      <th></th>\n      <th></th>\n      <th></th>\n      <th></th>\n      <th></th>\n      <th></th>\n      <th></th>\n      <th></th>\n      <th></th>\n    </tr>\n  </thead>\n  <tbody>\n    <tr>\n      <th>0</th>\n      <td>CHEVROLET</td>\n      <td>CAMARO</td>\n      <td>1</td>\n      <td>1</td>\n      <td>20001 - 40000</td>\n      <td>F</td>\n      <td>1</td>\n      <td>Forties</td>\n      <td>UNITED STATES</td>\n      <td>20001 - 25000</td>\n    </tr>\n    <tr>\n      <th>1</th>\n      <td>MERCEDES-BENZ</td>\n      <td>E350</td>\n      <td>1</td>\n      <td>1</td>\n      <td>80001 - 100000</td>\n      <td>M</td>\n      <td>0</td>\n      <td>Forties</td>\n      <td>GERMANY</td>\n      <td>30001 - 35000</td>\n    </tr>\n    <tr>\n      <th>2</th>\n      <td>FORD</td>\n      <td>MUSTANG</td>\n      <td>0</td>\n      <td>1</td>\n      <td>40001 - 60000</td>\n      <td>M</td>\n      <td>0</td>\n      <td>Twenties</td>\n      <td>UNITED STATES</td>\n      <td>15001 - 20000</td>\n    </tr>\n    <tr>\n      <th>3</th>\n      <td>CHEVROLET</td>\n      <td>CAMARO</td>\n      <td>1</td>\n      <td>1</td>\n      <td>40001 - 60000</td>\n      <td>M</td>\n      <td>0</td>\n      <td>Twenties</td>\n      <td>UNITED STATES</td>\n      <td>25001 - 30000</td>\n    </tr>\n    <tr>\n      <th>4</th>\n      <td>JEEP</td>\n      <td>WRANGLER</td>\n      <td>0</td>\n      <td>1</td>\n      <td>40001 - 60000</td>\n      <td>M</td>\n      <td>0</td>\n      <td>Forties</td>\n      <td>UNITED STATES</td>\n      <td>20001 - 25000</td>\n    </tr>\n    <tr>\n      <th>5</th>\n      <td>VOLKSWAGEN</td>\n      <td>BEETLE</td>\n      <td>1</td>\n      <td>1</td>\n      <td>60001 - 80000</td>\n      <td>F</td>\n      <td>0</td>\n      <td>Fifties</td>\n      <td>GERMANY</td>\n      <td>15001 - 20000</td>\n    </tr>\n    <tr>\n      <th>6</th>\n      <td>CHEVROLET</td>\n      <td>CORVETTE</td>\n      <td>0</td>\n      <td>1</td>\n      <td>20001 - 40000</td>\n      <td>M</td>\n      <td>1</td>\n      <td>Fifties</td>\n      <td>UNITED STATES</td>\n      <td>25001 - 30000</td>\n    </tr>\n  </tbody>\n</table>\n</div>"
     },
     "metadata": {},
     "execution_count": 19
    }
   ],
   "source": [
    "convertible.groupby('cluster_label').agg(lambda x: pd.Series.mode(x)[0])"
   ]
  },
  {
   "cell_type": "code",
   "execution_count": 26,
   "metadata": {},
   "outputs": [
    {
     "output_type": "execute_result",
     "data": {
      "text/plain": [
       "array([3], dtype=uint16)"
      ]
     },
     "metadata": {},
     "execution_count": 26
    }
   ],
   "source": [
    "k_modes.predict([['','','0','0','40001 - 60000','M','0','Forties','','25001 - 30000']])"
   ]
  },
  {
   "cell_type": "code",
   "execution_count": null,
   "metadata": {},
   "outputs": [],
   "source": []
  },
  {
   "cell_type": "code",
   "execution_count": 35,
   "metadata": {},
   "outputs": [
    {
     "output_type": "execute_result",
     "data": {
      "text/plain": [
       "array([['JEEP', 'PATRIOT', '0', '1', '40001 - 60000', 'F', '0',\n",
       "        'Twenties', 'UNITED STATES', '15001 - 20000'],\n",
       "       ['FORD', 'ESCAPE', '0', '1', '20001 - 40000', 'M', '0', 'Fifties',\n",
       "        'UNITED STATES', '15001 - 20000'],\n",
       "       ['MERCEDES-BENZ', 'ML350', '1', '1', '20001 - 40000', 'F', '0',\n",
       "        'Thirties', 'GERMANY', '20001 - 25000'],\n",
       "       ['HONDA', 'CR-V', '0', '1', '60001 - 80000', 'F', '0', 'Fifties',\n",
       "        'JAPAN', '20001 - 25000'],\n",
       "       ['CHEVROLET', 'EQUINOX', '1', '1', '40001 - 60000', 'F', '0',\n",
       "        'Forties', 'UNITED STATES', '10001 - 15000'],\n",
       "       ['TOYOTA', 'RAV4', '1', '1', '40001 - 60000', 'M', '1',\n",
       "        'Thirties', 'JAPAN', '15001 - 20000'],\n",
       "       ['NISSAN', 'ROGUE', '1', '1', '60001 - 80000', 'M', '0',\n",
       "        'Thirties', 'JAPAN', '20001 - 25000']], dtype='<U21')"
      ]
     },
     "metadata": {},
     "execution_count": 35
    }
   ],
   "source": [
    "ref['suv'].cluster_centroids_"
   ]
  },
  {
   "cell_type": "code",
   "execution_count": 50,
   "metadata": {},
   "outputs": [
    {
     "output_type": "execute_result",
     "data": {
      "text/plain": [
       "array([0], dtype=uint16)"
      ]
     },
     "metadata": {},
     "execution_count": 50
    }
   ],
   "source": [
    "ref['coupe'].predict([['','','0','0','40001 - 60000','M','0','Forties','','25001 - 30000']])"
   ]
  },
  {
   "cell_type": "code",
   "execution_count": null,
   "metadata": {},
   "outputs": [],
   "source": []
  }
 ],
 "metadata": {
  "kernelspec": {
   "display_name": "Python 3",
   "language": "python",
   "name": "python3"
  },
  "language_info": {
   "codemirror_mode": {
    "name": "ipython",
    "version": 3
   },
   "file_extension": ".py",
   "mimetype": "text/x-python",
   "name": "python",
   "nbconvert_exporter": "python",
   "pygments_lexer": "ipython3",
   "version": "3.7.4-final"
  }
 },
 "nbformat": 4,
 "nbformat_minor": 4
}